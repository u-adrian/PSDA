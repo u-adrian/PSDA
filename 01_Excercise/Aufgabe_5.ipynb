{
  "nbformat": 4,
  "nbformat_minor": 0,
  "metadata": {
    "colab": {
      "name": "Aufgabe_5.ipynb",
      "provenance": [],
      "mount_file_id": "1nG0mVt80VXVvK4yRqMbLbUy99ZE1rjfE",
      "authorship_tag": "ABX9TyMOKTkUSjuF2NVMP1o69BFA",
      "include_colab_link": true
    },
    "kernelspec": {
      "name": "python3",
      "display_name": "Python 3"
    },
    "language_info": {
      "name": "python"
    }
  },
  "cells": [
    {
      "cell_type": "markdown",
      "metadata": {
        "id": "view-in-github",
        "colab_type": "text"
      },
      "source": [
        "<a href=\"https://colab.research.google.com/github/u-adrian/PSDA/blob/main/01_Excercise/Aufgabe_5.ipynb\" target=\"_parent\"><img src=\"https://colab.research.google.com/assets/colab-badge.svg\" alt=\"Open In Colab\"/></a>"
      ]
    },
    {
      "cell_type": "code",
      "execution_count": 1,
      "metadata": {
        "colab": {
          "base_uri": "https://localhost:8080/"
        },
        "id": "cPisoOnhNEBh",
        "outputId": "a8088d7b-30c4-424f-abc5-9f66df25855d"
      },
      "outputs": [
        {
          "output_type": "stream",
          "name": "stdout",
          "text": [
            "Drive already mounted at /content/drive; to attempt to forcibly remount, call drive.mount(\"/content/drive\", force_remount=True).\n"
          ]
        }
      ],
      "source": [
        "from google.colab import drive\n",
        "drive.mount('/content/drive')"
      ]
    },
    {
      "cell_type": "markdown",
      "source": [
        "# Aufgabe 5: Interpretation von Modellen"
      ],
      "metadata": {
        "id": "SyehaK71Rv6i"
      }
    },
    {
      "cell_type": "markdown",
      "source": [
        "a) Lesen Sie den Datensatz Hdma.csv ein und machen Sie sich mit den Daten vertraut."
      ],
      "metadata": {
        "id": "9SB0FVL5Reem"
      }
    },
    {
      "cell_type": "code",
      "source": [
        "import pandas as pd\n",
        "import os\n"
      ],
      "metadata": {
        "id": "gmbFV6yqR-ZN"
      },
      "execution_count": 2,
      "outputs": []
    },
    {
      "cell_type": "code",
      "source": [
        "DATA_PATH = \"/content/drive/MyDrive/PDSA/ÜB1/dataset\""
      ],
      "metadata": {
        "id": "r4OU8wO0SC1R"
      },
      "execution_count": 3,
      "outputs": []
    },
    {
      "cell_type": "code",
      "source": [
        "df = pd.read_csv(os.path.join(DATA_PATH,\"Hdma.csv\"),sep=';')"
      ],
      "metadata": {
        "id": "8OD6qNzgS_nU"
      },
      "execution_count": 4,
      "outputs": []
    },
    {
      "cell_type": "code",
      "source": [
        "df.head()"
      ],
      "metadata": {
        "colab": {
          "base_uri": "https://localhost:8080/",
          "height": 206
        },
        "id": "580Ba88_VkgJ",
        "outputId": "31ccdb0b-47e1-4f7a-fc02-008b96e6fb23"
      },
      "execution_count": 5,
      "outputs": [
        {
          "output_type": "execute_result",
          "data": {
            "text/plain": [
              "     dir    hir       lvr  ccs  mcs pbcr dmi self single  uria  condo black  \\\n",
              "0  0.221  0.221  0.800000  5.0  2.0   no  no   no     no   3.9      0    no   \n",
              "1  0.265  0.265  0.921875  2.0  2.0   no  no   no    yes   3.2      0    no   \n",
              "2  0.372  0.248  0.920398  1.0  2.0   no  no   no     no   3.2      0    no   \n",
              "3  0.320  0.250  0.860465  1.0  2.0   no  no   no     no   4.3      0    no   \n",
              "4  0.360  0.350  0.600000  1.0  1.0   no  no   no     no   3.2      0    no   \n",
              "\n",
              "  deny  \n",
              "0   no  \n",
              "1   no  \n",
              "2   no  \n",
              "3   no  \n",
              "4   no  "
            ],
            "text/html": [
              "\n",
              "  <div id=\"df-a5c36848-1aa2-4107-8921-b6bcdcb6c414\">\n",
              "    <div class=\"colab-df-container\">\n",
              "      <div>\n",
              "<style scoped>\n",
              "    .dataframe tbody tr th:only-of-type {\n",
              "        vertical-align: middle;\n",
              "    }\n",
              "\n",
              "    .dataframe tbody tr th {\n",
              "        vertical-align: top;\n",
              "    }\n",
              "\n",
              "    .dataframe thead th {\n",
              "        text-align: right;\n",
              "    }\n",
              "</style>\n",
              "<table border=\"1\" class=\"dataframe\">\n",
              "  <thead>\n",
              "    <tr style=\"text-align: right;\">\n",
              "      <th></th>\n",
              "      <th>dir</th>\n",
              "      <th>hir</th>\n",
              "      <th>lvr</th>\n",
              "      <th>ccs</th>\n",
              "      <th>mcs</th>\n",
              "      <th>pbcr</th>\n",
              "      <th>dmi</th>\n",
              "      <th>self</th>\n",
              "      <th>single</th>\n",
              "      <th>uria</th>\n",
              "      <th>condo</th>\n",
              "      <th>black</th>\n",
              "      <th>deny</th>\n",
              "    </tr>\n",
              "  </thead>\n",
              "  <tbody>\n",
              "    <tr>\n",
              "      <th>0</th>\n",
              "      <td>0.221</td>\n",
              "      <td>0.221</td>\n",
              "      <td>0.800000</td>\n",
              "      <td>5.0</td>\n",
              "      <td>2.0</td>\n",
              "      <td>no</td>\n",
              "      <td>no</td>\n",
              "      <td>no</td>\n",
              "      <td>no</td>\n",
              "      <td>3.9</td>\n",
              "      <td>0</td>\n",
              "      <td>no</td>\n",
              "      <td>no</td>\n",
              "    </tr>\n",
              "    <tr>\n",
              "      <th>1</th>\n",
              "      <td>0.265</td>\n",
              "      <td>0.265</td>\n",
              "      <td>0.921875</td>\n",
              "      <td>2.0</td>\n",
              "      <td>2.0</td>\n",
              "      <td>no</td>\n",
              "      <td>no</td>\n",
              "      <td>no</td>\n",
              "      <td>yes</td>\n",
              "      <td>3.2</td>\n",
              "      <td>0</td>\n",
              "      <td>no</td>\n",
              "      <td>no</td>\n",
              "    </tr>\n",
              "    <tr>\n",
              "      <th>2</th>\n",
              "      <td>0.372</td>\n",
              "      <td>0.248</td>\n",
              "      <td>0.920398</td>\n",
              "      <td>1.0</td>\n",
              "      <td>2.0</td>\n",
              "      <td>no</td>\n",
              "      <td>no</td>\n",
              "      <td>no</td>\n",
              "      <td>no</td>\n",
              "      <td>3.2</td>\n",
              "      <td>0</td>\n",
              "      <td>no</td>\n",
              "      <td>no</td>\n",
              "    </tr>\n",
              "    <tr>\n",
              "      <th>3</th>\n",
              "      <td>0.320</td>\n",
              "      <td>0.250</td>\n",
              "      <td>0.860465</td>\n",
              "      <td>1.0</td>\n",
              "      <td>2.0</td>\n",
              "      <td>no</td>\n",
              "      <td>no</td>\n",
              "      <td>no</td>\n",
              "      <td>no</td>\n",
              "      <td>4.3</td>\n",
              "      <td>0</td>\n",
              "      <td>no</td>\n",
              "      <td>no</td>\n",
              "    </tr>\n",
              "    <tr>\n",
              "      <th>4</th>\n",
              "      <td>0.360</td>\n",
              "      <td>0.350</td>\n",
              "      <td>0.600000</td>\n",
              "      <td>1.0</td>\n",
              "      <td>1.0</td>\n",
              "      <td>no</td>\n",
              "      <td>no</td>\n",
              "      <td>no</td>\n",
              "      <td>no</td>\n",
              "      <td>3.2</td>\n",
              "      <td>0</td>\n",
              "      <td>no</td>\n",
              "      <td>no</td>\n",
              "    </tr>\n",
              "  </tbody>\n",
              "</table>\n",
              "</div>\n",
              "      <button class=\"colab-df-convert\" onclick=\"convertToInteractive('df-a5c36848-1aa2-4107-8921-b6bcdcb6c414')\"\n",
              "              title=\"Convert this dataframe to an interactive table.\"\n",
              "              style=\"display:none;\">\n",
              "        \n",
              "  <svg xmlns=\"http://www.w3.org/2000/svg\" height=\"24px\"viewBox=\"0 0 24 24\"\n",
              "       width=\"24px\">\n",
              "    <path d=\"M0 0h24v24H0V0z\" fill=\"none\"/>\n",
              "    <path d=\"M18.56 5.44l.94 2.06.94-2.06 2.06-.94-2.06-.94-.94-2.06-.94 2.06-2.06.94zm-11 1L8.5 8.5l.94-2.06 2.06-.94-2.06-.94L8.5 2.5l-.94 2.06-2.06.94zm10 10l.94 2.06.94-2.06 2.06-.94-2.06-.94-.94-2.06-.94 2.06-2.06.94z\"/><path d=\"M17.41 7.96l-1.37-1.37c-.4-.4-.92-.59-1.43-.59-.52 0-1.04.2-1.43.59L10.3 9.45l-7.72 7.72c-.78.78-.78 2.05 0 2.83L4 21.41c.39.39.9.59 1.41.59.51 0 1.02-.2 1.41-.59l7.78-7.78 2.81-2.81c.8-.78.8-2.07 0-2.86zM5.41 20L4 18.59l7.72-7.72 1.47 1.35L5.41 20z\"/>\n",
              "  </svg>\n",
              "      </button>\n",
              "      \n",
              "  <style>\n",
              "    .colab-df-container {\n",
              "      display:flex;\n",
              "      flex-wrap:wrap;\n",
              "      gap: 12px;\n",
              "    }\n",
              "\n",
              "    .colab-df-convert {\n",
              "      background-color: #E8F0FE;\n",
              "      border: none;\n",
              "      border-radius: 50%;\n",
              "      cursor: pointer;\n",
              "      display: none;\n",
              "      fill: #1967D2;\n",
              "      height: 32px;\n",
              "      padding: 0 0 0 0;\n",
              "      width: 32px;\n",
              "    }\n",
              "\n",
              "    .colab-df-convert:hover {\n",
              "      background-color: #E2EBFA;\n",
              "      box-shadow: 0px 1px 2px rgba(60, 64, 67, 0.3), 0px 1px 3px 1px rgba(60, 64, 67, 0.15);\n",
              "      fill: #174EA6;\n",
              "    }\n",
              "\n",
              "    [theme=dark] .colab-df-convert {\n",
              "      background-color: #3B4455;\n",
              "      fill: #D2E3FC;\n",
              "    }\n",
              "\n",
              "    [theme=dark] .colab-df-convert:hover {\n",
              "      background-color: #434B5C;\n",
              "      box-shadow: 0px 1px 3px 1px rgba(0, 0, 0, 0.15);\n",
              "      filter: drop-shadow(0px 1px 2px rgba(0, 0, 0, 0.3));\n",
              "      fill: #FFFFFF;\n",
              "    }\n",
              "  </style>\n",
              "\n",
              "      <script>\n",
              "        const buttonEl =\n",
              "          document.querySelector('#df-a5c36848-1aa2-4107-8921-b6bcdcb6c414 button.colab-df-convert');\n",
              "        buttonEl.style.display =\n",
              "          google.colab.kernel.accessAllowed ? 'block' : 'none';\n",
              "\n",
              "        async function convertToInteractive(key) {\n",
              "          const element = document.querySelector('#df-a5c36848-1aa2-4107-8921-b6bcdcb6c414');\n",
              "          const dataTable =\n",
              "            await google.colab.kernel.invokeFunction('convertToInteractive',\n",
              "                                                     [key], {});\n",
              "          if (!dataTable) return;\n",
              "\n",
              "          const docLinkHtml = 'Like what you see? Visit the ' +\n",
              "            '<a target=\"_blank\" href=https://colab.research.google.com/notebooks/data_table.ipynb>data table notebook</a>'\n",
              "            + ' to learn more about interactive tables.';\n",
              "          element.innerHTML = '';\n",
              "          dataTable['output_type'] = 'display_data';\n",
              "          await google.colab.output.renderOutput(dataTable, element);\n",
              "          const docLink = document.createElement('div');\n",
              "          docLink.innerHTML = docLinkHtml;\n",
              "          element.appendChild(docLink);\n",
              "        }\n",
              "      </script>\n",
              "    </div>\n",
              "  </div>\n",
              "  "
            ]
          },
          "metadata": {},
          "execution_count": 5
        }
      ]
    },
    {
      "cell_type": "markdown",
      "source": [
        "###Variable Description and More Evident Renaming\n",
        "\n",
        "\n",
        "| Original Variable     | Description | New Variable |\n",
        "| ----------- | ----------- | ----------- |\n",
        "| dir     | debt payments to total income ratio      | debt_payments_to_total_income_ratio      |\n",
        "| hir   | housing expenses to income ratio        | housing_expenses_to_income_ratio      |\n",
        "| lvr      | ratio of size of loan to assessed value of property      | size_of_loan_to_assessed_value_of_property_ratio      |\n",
        "| ccs   | consumer credit score from 1 to 6 (a low value being a good score)        | consumer_credit_score      |\n",
        "| mcs      | mortgage credit score from 1 to 4 (a low value being a good score)      | mortgage_credit_score_from      |\n",
        "| pbcr   | public bad credit record?        | public_bad_credit_record      |\n",
        "| dmi   | denied mortgage insurance ?       | denied_mortgage_insurance      |\n",
        "| self      | self employed?       | self_employed      |\n",
        "| single   | is the applicant single?      | single      |\n",
        "| uria      | 1989 Massachusetts unemployment rate in the applicant’s industry       | unemployment_rate_in_the_applicant’s_industry      |\n",
        "| condominium   | is unit a condominium?        | condominium      |\n",
        "| black      | is the applicant black?       | black      |\n",
        "| deny   | mortgage application denied?        | deny      |"
      ],
      "metadata": {
        "id": "FpTSqBvsGpJ5"
      }
    },
    {
      "cell_type": "code",
      "source": [
        "new_column_names = [\"_\".join(\"debt payments to total income ratio\".split()),\n",
        "\"_\".join(\"housing expenses to income ratio\".split()),\n",
        " \"_\".join(\"size of loan to assessed value of property ratio\".split()),\n",
        " \"_\".join(\"consumer credit score\".split()),\n",
        " \"_\".join(\"mortgage credit score\".split()),\n",
        " \"_\".join(\"public bad credit record\".split()),\n",
        " \"_\".join(\"denied mortgage insurance\".split()),\n",
        " \"_\".join(\"self employed\".split()),\n",
        " \"_\".join(\"single\".split()),\n",
        " \"_\".join(\"unemployment rate in the applicant’s industry\".split()),\n",
        " \"_\".join(\"condominium\".split()),\n",
        " \"_\".join(\"black\".split()),\n",
        " \"_\".join(\"deny\".split())]\n",
        "\n",
        "\n",
        "df.columns = new_column_names"
      ],
      "metadata": {
        "id": "JGST_XbkPl9X"
      },
      "execution_count": 6,
      "outputs": []
    },
    {
      "cell_type": "code",
      "source": [
        "df.head()"
      ],
      "metadata": {
        "colab": {
          "base_uri": "https://localhost:8080/",
          "height": 270
        },
        "id": "zCZKkkJWWWpx",
        "outputId": "f859d34e-334f-4e58-9feb-2b4988bfa3ef"
      },
      "execution_count": 7,
      "outputs": [
        {
          "output_type": "execute_result",
          "data": {
            "text/plain": [
              "   debt_payments_to_total_income_ratio  housing_expenses_to_income_ratio  \\\n",
              "0                                0.221                             0.221   \n",
              "1                                0.265                             0.265   \n",
              "2                                0.372                             0.248   \n",
              "3                                0.320                             0.250   \n",
              "4                                0.360                             0.350   \n",
              "\n",
              "   size_of_loan_to_assessed_value_of_property_ratio  consumer_credit_score  \\\n",
              "0                                          0.800000                    5.0   \n",
              "1                                          0.921875                    2.0   \n",
              "2                                          0.920398                    1.0   \n",
              "3                                          0.860465                    1.0   \n",
              "4                                          0.600000                    1.0   \n",
              "\n",
              "   mortgage_credit_score public_bad_credit_record denied_mortgage_insurance  \\\n",
              "0                    2.0                       no                        no   \n",
              "1                    2.0                       no                        no   \n",
              "2                    2.0                       no                        no   \n",
              "3                    2.0                       no                        no   \n",
              "4                    1.0                       no                        no   \n",
              "\n",
              "  self_employed single  unemployment_rate_in_the_applicant’s_industry  \\\n",
              "0            no     no                                            3.9   \n",
              "1            no    yes                                            3.2   \n",
              "2            no     no                                            3.2   \n",
              "3            no     no                                            4.3   \n",
              "4            no     no                                            3.2   \n",
              "\n",
              "   condominium black deny  \n",
              "0            0    no   no  \n",
              "1            0    no   no  \n",
              "2            0    no   no  \n",
              "3            0    no   no  \n",
              "4            0    no   no  "
            ],
            "text/html": [
              "\n",
              "  <div id=\"df-50080993-7150-4fc3-9cf8-437a8dbf9d20\">\n",
              "    <div class=\"colab-df-container\">\n",
              "      <div>\n",
              "<style scoped>\n",
              "    .dataframe tbody tr th:only-of-type {\n",
              "        vertical-align: middle;\n",
              "    }\n",
              "\n",
              "    .dataframe tbody tr th {\n",
              "        vertical-align: top;\n",
              "    }\n",
              "\n",
              "    .dataframe thead th {\n",
              "        text-align: right;\n",
              "    }\n",
              "</style>\n",
              "<table border=\"1\" class=\"dataframe\">\n",
              "  <thead>\n",
              "    <tr style=\"text-align: right;\">\n",
              "      <th></th>\n",
              "      <th>debt_payments_to_total_income_ratio</th>\n",
              "      <th>housing_expenses_to_income_ratio</th>\n",
              "      <th>size_of_loan_to_assessed_value_of_property_ratio</th>\n",
              "      <th>consumer_credit_score</th>\n",
              "      <th>mortgage_credit_score</th>\n",
              "      <th>public_bad_credit_record</th>\n",
              "      <th>denied_mortgage_insurance</th>\n",
              "      <th>self_employed</th>\n",
              "      <th>single</th>\n",
              "      <th>unemployment_rate_in_the_applicant’s_industry</th>\n",
              "      <th>condominium</th>\n",
              "      <th>black</th>\n",
              "      <th>deny</th>\n",
              "    </tr>\n",
              "  </thead>\n",
              "  <tbody>\n",
              "    <tr>\n",
              "      <th>0</th>\n",
              "      <td>0.221</td>\n",
              "      <td>0.221</td>\n",
              "      <td>0.800000</td>\n",
              "      <td>5.0</td>\n",
              "      <td>2.0</td>\n",
              "      <td>no</td>\n",
              "      <td>no</td>\n",
              "      <td>no</td>\n",
              "      <td>no</td>\n",
              "      <td>3.9</td>\n",
              "      <td>0</td>\n",
              "      <td>no</td>\n",
              "      <td>no</td>\n",
              "    </tr>\n",
              "    <tr>\n",
              "      <th>1</th>\n",
              "      <td>0.265</td>\n",
              "      <td>0.265</td>\n",
              "      <td>0.921875</td>\n",
              "      <td>2.0</td>\n",
              "      <td>2.0</td>\n",
              "      <td>no</td>\n",
              "      <td>no</td>\n",
              "      <td>no</td>\n",
              "      <td>yes</td>\n",
              "      <td>3.2</td>\n",
              "      <td>0</td>\n",
              "      <td>no</td>\n",
              "      <td>no</td>\n",
              "    </tr>\n",
              "    <tr>\n",
              "      <th>2</th>\n",
              "      <td>0.372</td>\n",
              "      <td>0.248</td>\n",
              "      <td>0.920398</td>\n",
              "      <td>1.0</td>\n",
              "      <td>2.0</td>\n",
              "      <td>no</td>\n",
              "      <td>no</td>\n",
              "      <td>no</td>\n",
              "      <td>no</td>\n",
              "      <td>3.2</td>\n",
              "      <td>0</td>\n",
              "      <td>no</td>\n",
              "      <td>no</td>\n",
              "    </tr>\n",
              "    <tr>\n",
              "      <th>3</th>\n",
              "      <td>0.320</td>\n",
              "      <td>0.250</td>\n",
              "      <td>0.860465</td>\n",
              "      <td>1.0</td>\n",
              "      <td>2.0</td>\n",
              "      <td>no</td>\n",
              "      <td>no</td>\n",
              "      <td>no</td>\n",
              "      <td>no</td>\n",
              "      <td>4.3</td>\n",
              "      <td>0</td>\n",
              "      <td>no</td>\n",
              "      <td>no</td>\n",
              "    </tr>\n",
              "    <tr>\n",
              "      <th>4</th>\n",
              "      <td>0.360</td>\n",
              "      <td>0.350</td>\n",
              "      <td>0.600000</td>\n",
              "      <td>1.0</td>\n",
              "      <td>1.0</td>\n",
              "      <td>no</td>\n",
              "      <td>no</td>\n",
              "      <td>no</td>\n",
              "      <td>no</td>\n",
              "      <td>3.2</td>\n",
              "      <td>0</td>\n",
              "      <td>no</td>\n",
              "      <td>no</td>\n",
              "    </tr>\n",
              "  </tbody>\n",
              "</table>\n",
              "</div>\n",
              "      <button class=\"colab-df-convert\" onclick=\"convertToInteractive('df-50080993-7150-4fc3-9cf8-437a8dbf9d20')\"\n",
              "              title=\"Convert this dataframe to an interactive table.\"\n",
              "              style=\"display:none;\">\n",
              "        \n",
              "  <svg xmlns=\"http://www.w3.org/2000/svg\" height=\"24px\"viewBox=\"0 0 24 24\"\n",
              "       width=\"24px\">\n",
              "    <path d=\"M0 0h24v24H0V0z\" fill=\"none\"/>\n",
              "    <path d=\"M18.56 5.44l.94 2.06.94-2.06 2.06-.94-2.06-.94-.94-2.06-.94 2.06-2.06.94zm-11 1L8.5 8.5l.94-2.06 2.06-.94-2.06-.94L8.5 2.5l-.94 2.06-2.06.94zm10 10l.94 2.06.94-2.06 2.06-.94-2.06-.94-.94-2.06-.94 2.06-2.06.94z\"/><path d=\"M17.41 7.96l-1.37-1.37c-.4-.4-.92-.59-1.43-.59-.52 0-1.04.2-1.43.59L10.3 9.45l-7.72 7.72c-.78.78-.78 2.05 0 2.83L4 21.41c.39.39.9.59 1.41.59.51 0 1.02-.2 1.41-.59l7.78-7.78 2.81-2.81c.8-.78.8-2.07 0-2.86zM5.41 20L4 18.59l7.72-7.72 1.47 1.35L5.41 20z\"/>\n",
              "  </svg>\n",
              "      </button>\n",
              "      \n",
              "  <style>\n",
              "    .colab-df-container {\n",
              "      display:flex;\n",
              "      flex-wrap:wrap;\n",
              "      gap: 12px;\n",
              "    }\n",
              "\n",
              "    .colab-df-convert {\n",
              "      background-color: #E8F0FE;\n",
              "      border: none;\n",
              "      border-radius: 50%;\n",
              "      cursor: pointer;\n",
              "      display: none;\n",
              "      fill: #1967D2;\n",
              "      height: 32px;\n",
              "      padding: 0 0 0 0;\n",
              "      width: 32px;\n",
              "    }\n",
              "\n",
              "    .colab-df-convert:hover {\n",
              "      background-color: #E2EBFA;\n",
              "      box-shadow: 0px 1px 2px rgba(60, 64, 67, 0.3), 0px 1px 3px 1px rgba(60, 64, 67, 0.15);\n",
              "      fill: #174EA6;\n",
              "    }\n",
              "\n",
              "    [theme=dark] .colab-df-convert {\n",
              "      background-color: #3B4455;\n",
              "      fill: #D2E3FC;\n",
              "    }\n",
              "\n",
              "    [theme=dark] .colab-df-convert:hover {\n",
              "      background-color: #434B5C;\n",
              "      box-shadow: 0px 1px 3px 1px rgba(0, 0, 0, 0.15);\n",
              "      filter: drop-shadow(0px 1px 2px rgba(0, 0, 0, 0.3));\n",
              "      fill: #FFFFFF;\n",
              "    }\n",
              "  </style>\n",
              "\n",
              "      <script>\n",
              "        const buttonEl =\n",
              "          document.querySelector('#df-50080993-7150-4fc3-9cf8-437a8dbf9d20 button.colab-df-convert');\n",
              "        buttonEl.style.display =\n",
              "          google.colab.kernel.accessAllowed ? 'block' : 'none';\n",
              "\n",
              "        async function convertToInteractive(key) {\n",
              "          const element = document.querySelector('#df-50080993-7150-4fc3-9cf8-437a8dbf9d20');\n",
              "          const dataTable =\n",
              "            await google.colab.kernel.invokeFunction('convertToInteractive',\n",
              "                                                     [key], {});\n",
              "          if (!dataTable) return;\n",
              "\n",
              "          const docLinkHtml = 'Like what you see? Visit the ' +\n",
              "            '<a target=\"_blank\" href=https://colab.research.google.com/notebooks/data_table.ipynb>data table notebook</a>'\n",
              "            + ' to learn more about interactive tables.';\n",
              "          element.innerHTML = '';\n",
              "          dataTable['output_type'] = 'display_data';\n",
              "          await google.colab.output.renderOutput(dataTable, element);\n",
              "          const docLink = document.createElement('div');\n",
              "          docLink.innerHTML = docLinkHtml;\n",
              "          element.appendChild(docLink);\n",
              "        }\n",
              "      </script>\n",
              "    </div>\n",
              "  </div>\n",
              "  "
            ]
          },
          "metadata": {},
          "execution_count": 7
        }
      ]
    },
    {
      "cell_type": "code",
      "source": [
        "df.info()"
      ],
      "metadata": {
        "colab": {
          "base_uri": "https://localhost:8080/"
        },
        "id": "5SjIQ8vKDyVv",
        "outputId": "4cdedcdd-1460-42cf-bf0b-184fc40e04d9"
      },
      "execution_count": 8,
      "outputs": [
        {
          "output_type": "stream",
          "name": "stdout",
          "text": [
            "<class 'pandas.core.frame.DataFrame'>\n",
            "RangeIndex: 2381 entries, 0 to 2380\n",
            "Data columns (total 13 columns):\n",
            " #   Column                                            Non-Null Count  Dtype  \n",
            "---  ------                                            --------------  -----  \n",
            " 0   debt_payments_to_total_income_ratio               2381 non-null   float64\n",
            " 1   housing_expenses_to_income_ratio                  2381 non-null   float64\n",
            " 2   size_of_loan_to_assessed_value_of_property_ratio  2381 non-null   float64\n",
            " 3   consumer_credit_score                             2381 non-null   float64\n",
            " 4   mortgage_credit_score                             2381 non-null   float64\n",
            " 5   public_bad_credit_record                          2380 non-null   object \n",
            " 6   denied_mortgage_insurance                         2381 non-null   object \n",
            " 7   self_employed                                     2380 non-null   object \n",
            " 8   single                                            2381 non-null   object \n",
            " 9   unemployment_rate_in_the_applicant’s_industry     2381 non-null   float64\n",
            " 10  condominium                                       2381 non-null   int64  \n",
            " 11  black                                             2381 non-null   object \n",
            " 12  deny                                              2381 non-null   object \n",
            "dtypes: float64(6), int64(1), object(6)\n",
            "memory usage: 241.9+ KB\n"
          ]
        }
      ]
    },
    {
      "cell_type": "code",
      "source": [
        "df.describe()"
      ],
      "metadata": {
        "colab": {
          "base_uri": "https://localhost:8080/",
          "height": 364
        },
        "id": "CWVinQFZDk4x",
        "outputId": "3d717496-16c1-44f4-d40f-8f4955e45156"
      },
      "execution_count": 9,
      "outputs": [
        {
          "output_type": "execute_result",
          "data": {
            "text/plain": [
              "       debt_payments_to_total_income_ratio  housing_expenses_to_income_ratio  \\\n",
              "count                          2381.000000                       2381.000000   \n",
              "mean                              0.330814                          0.255346   \n",
              "std                               0.107235                          0.096635   \n",
              "min                               0.000000                          0.000000   \n",
              "25%                               0.280000                          0.214000   \n",
              "50%                               0.330000                          0.260000   \n",
              "75%                               0.370000                          0.298800   \n",
              "max                               3.000000                          3.000000   \n",
              "\n",
              "       size_of_loan_to_assessed_value_of_property_ratio  \\\n",
              "count                                       2381.000000   \n",
              "mean                                           0.737760   \n",
              "std                                            0.178715   \n",
              "min                                            0.020000   \n",
              "25%                                            0.652850   \n",
              "50%                                            0.779412   \n",
              "75%                                            0.868421   \n",
              "max                                            1.950000   \n",
              "\n",
              "       consumer_credit_score  mortgage_credit_score  \\\n",
              "count            2381.000000            2381.000000   \n",
              "mean                2.116387               1.721008   \n",
              "std                 1.666370               0.537169   \n",
              "min                 1.000000               1.000000   \n",
              "25%                 1.000000               1.000000   \n",
              "50%                 1.000000               2.000000   \n",
              "75%                 2.000000               2.000000   \n",
              "max                 6.000000               4.000000   \n",
              "\n",
              "       unemployment_rate_in_the_applicant’s_industry  condominium  \n",
              "count                                    2381.000000  2381.000000  \n",
              "mean                                        3.774496     0.288114  \n",
              "std                                         2.026636     0.452980  \n",
              "min                                         1.800000     0.000000  \n",
              "25%                                         3.100000     0.000000  \n",
              "50%                                         3.200000     0.000000  \n",
              "75%                                         3.900000     1.000000  \n",
              "max                                        10.600000     1.000000  "
            ],
            "text/html": [
              "\n",
              "  <div id=\"df-87018b2a-2ea2-42de-8f09-d6cf8aeea186\">\n",
              "    <div class=\"colab-df-container\">\n",
              "      <div>\n",
              "<style scoped>\n",
              "    .dataframe tbody tr th:only-of-type {\n",
              "        vertical-align: middle;\n",
              "    }\n",
              "\n",
              "    .dataframe tbody tr th {\n",
              "        vertical-align: top;\n",
              "    }\n",
              "\n",
              "    .dataframe thead th {\n",
              "        text-align: right;\n",
              "    }\n",
              "</style>\n",
              "<table border=\"1\" class=\"dataframe\">\n",
              "  <thead>\n",
              "    <tr style=\"text-align: right;\">\n",
              "      <th></th>\n",
              "      <th>debt_payments_to_total_income_ratio</th>\n",
              "      <th>housing_expenses_to_income_ratio</th>\n",
              "      <th>size_of_loan_to_assessed_value_of_property_ratio</th>\n",
              "      <th>consumer_credit_score</th>\n",
              "      <th>mortgage_credit_score</th>\n",
              "      <th>unemployment_rate_in_the_applicant’s_industry</th>\n",
              "      <th>condominium</th>\n",
              "    </tr>\n",
              "  </thead>\n",
              "  <tbody>\n",
              "    <tr>\n",
              "      <th>count</th>\n",
              "      <td>2381.000000</td>\n",
              "      <td>2381.000000</td>\n",
              "      <td>2381.000000</td>\n",
              "      <td>2381.000000</td>\n",
              "      <td>2381.000000</td>\n",
              "      <td>2381.000000</td>\n",
              "      <td>2381.000000</td>\n",
              "    </tr>\n",
              "    <tr>\n",
              "      <th>mean</th>\n",
              "      <td>0.330814</td>\n",
              "      <td>0.255346</td>\n",
              "      <td>0.737760</td>\n",
              "      <td>2.116387</td>\n",
              "      <td>1.721008</td>\n",
              "      <td>3.774496</td>\n",
              "      <td>0.288114</td>\n",
              "    </tr>\n",
              "    <tr>\n",
              "      <th>std</th>\n",
              "      <td>0.107235</td>\n",
              "      <td>0.096635</td>\n",
              "      <td>0.178715</td>\n",
              "      <td>1.666370</td>\n",
              "      <td>0.537169</td>\n",
              "      <td>2.026636</td>\n",
              "      <td>0.452980</td>\n",
              "    </tr>\n",
              "    <tr>\n",
              "      <th>min</th>\n",
              "      <td>0.000000</td>\n",
              "      <td>0.000000</td>\n",
              "      <td>0.020000</td>\n",
              "      <td>1.000000</td>\n",
              "      <td>1.000000</td>\n",
              "      <td>1.800000</td>\n",
              "      <td>0.000000</td>\n",
              "    </tr>\n",
              "    <tr>\n",
              "      <th>25%</th>\n",
              "      <td>0.280000</td>\n",
              "      <td>0.214000</td>\n",
              "      <td>0.652850</td>\n",
              "      <td>1.000000</td>\n",
              "      <td>1.000000</td>\n",
              "      <td>3.100000</td>\n",
              "      <td>0.000000</td>\n",
              "    </tr>\n",
              "    <tr>\n",
              "      <th>50%</th>\n",
              "      <td>0.330000</td>\n",
              "      <td>0.260000</td>\n",
              "      <td>0.779412</td>\n",
              "      <td>1.000000</td>\n",
              "      <td>2.000000</td>\n",
              "      <td>3.200000</td>\n",
              "      <td>0.000000</td>\n",
              "    </tr>\n",
              "    <tr>\n",
              "      <th>75%</th>\n",
              "      <td>0.370000</td>\n",
              "      <td>0.298800</td>\n",
              "      <td>0.868421</td>\n",
              "      <td>2.000000</td>\n",
              "      <td>2.000000</td>\n",
              "      <td>3.900000</td>\n",
              "      <td>1.000000</td>\n",
              "    </tr>\n",
              "    <tr>\n",
              "      <th>max</th>\n",
              "      <td>3.000000</td>\n",
              "      <td>3.000000</td>\n",
              "      <td>1.950000</td>\n",
              "      <td>6.000000</td>\n",
              "      <td>4.000000</td>\n",
              "      <td>10.600000</td>\n",
              "      <td>1.000000</td>\n",
              "    </tr>\n",
              "  </tbody>\n",
              "</table>\n",
              "</div>\n",
              "      <button class=\"colab-df-convert\" onclick=\"convertToInteractive('df-87018b2a-2ea2-42de-8f09-d6cf8aeea186')\"\n",
              "              title=\"Convert this dataframe to an interactive table.\"\n",
              "              style=\"display:none;\">\n",
              "        \n",
              "  <svg xmlns=\"http://www.w3.org/2000/svg\" height=\"24px\"viewBox=\"0 0 24 24\"\n",
              "       width=\"24px\">\n",
              "    <path d=\"M0 0h24v24H0V0z\" fill=\"none\"/>\n",
              "    <path d=\"M18.56 5.44l.94 2.06.94-2.06 2.06-.94-2.06-.94-.94-2.06-.94 2.06-2.06.94zm-11 1L8.5 8.5l.94-2.06 2.06-.94-2.06-.94L8.5 2.5l-.94 2.06-2.06.94zm10 10l.94 2.06.94-2.06 2.06-.94-2.06-.94-.94-2.06-.94 2.06-2.06.94z\"/><path d=\"M17.41 7.96l-1.37-1.37c-.4-.4-.92-.59-1.43-.59-.52 0-1.04.2-1.43.59L10.3 9.45l-7.72 7.72c-.78.78-.78 2.05 0 2.83L4 21.41c.39.39.9.59 1.41.59.51 0 1.02-.2 1.41-.59l7.78-7.78 2.81-2.81c.8-.78.8-2.07 0-2.86zM5.41 20L4 18.59l7.72-7.72 1.47 1.35L5.41 20z\"/>\n",
              "  </svg>\n",
              "      </button>\n",
              "      \n",
              "  <style>\n",
              "    .colab-df-container {\n",
              "      display:flex;\n",
              "      flex-wrap:wrap;\n",
              "      gap: 12px;\n",
              "    }\n",
              "\n",
              "    .colab-df-convert {\n",
              "      background-color: #E8F0FE;\n",
              "      border: none;\n",
              "      border-radius: 50%;\n",
              "      cursor: pointer;\n",
              "      display: none;\n",
              "      fill: #1967D2;\n",
              "      height: 32px;\n",
              "      padding: 0 0 0 0;\n",
              "      width: 32px;\n",
              "    }\n",
              "\n",
              "    .colab-df-convert:hover {\n",
              "      background-color: #E2EBFA;\n",
              "      box-shadow: 0px 1px 2px rgba(60, 64, 67, 0.3), 0px 1px 3px 1px rgba(60, 64, 67, 0.15);\n",
              "      fill: #174EA6;\n",
              "    }\n",
              "\n",
              "    [theme=dark] .colab-df-convert {\n",
              "      background-color: #3B4455;\n",
              "      fill: #D2E3FC;\n",
              "    }\n",
              "\n",
              "    [theme=dark] .colab-df-convert:hover {\n",
              "      background-color: #434B5C;\n",
              "      box-shadow: 0px 1px 3px 1px rgba(0, 0, 0, 0.15);\n",
              "      filter: drop-shadow(0px 1px 2px rgba(0, 0, 0, 0.3));\n",
              "      fill: #FFFFFF;\n",
              "    }\n",
              "  </style>\n",
              "\n",
              "      <script>\n",
              "        const buttonEl =\n",
              "          document.querySelector('#df-87018b2a-2ea2-42de-8f09-d6cf8aeea186 button.colab-df-convert');\n",
              "        buttonEl.style.display =\n",
              "          google.colab.kernel.accessAllowed ? 'block' : 'none';\n",
              "\n",
              "        async function convertToInteractive(key) {\n",
              "          const element = document.querySelector('#df-87018b2a-2ea2-42de-8f09-d6cf8aeea186');\n",
              "          const dataTable =\n",
              "            await google.colab.kernel.invokeFunction('convertToInteractive',\n",
              "                                                     [key], {});\n",
              "          if (!dataTable) return;\n",
              "\n",
              "          const docLinkHtml = 'Like what you see? Visit the ' +\n",
              "            '<a target=\"_blank\" href=https://colab.research.google.com/notebooks/data_table.ipynb>data table notebook</a>'\n",
              "            + ' to learn more about interactive tables.';\n",
              "          element.innerHTML = '';\n",
              "          dataTable['output_type'] = 'display_data';\n",
              "          await google.colab.output.renderOutput(dataTable, element);\n",
              "          const docLink = document.createElement('div');\n",
              "          docLink.innerHTML = docLinkHtml;\n",
              "          element.appendChild(docLink);\n",
              "        }\n",
              "      </script>\n",
              "    </div>\n",
              "  </div>\n",
              "  "
            ]
          },
          "metadata": {},
          "execution_count": 9
        }
      ]
    },
    {
      "cell_type": "markdown",
      "source": [
        "b) Volkswirtschaftler möchten herausfinden, was die möglichen Einflussfaktoren auf die\n",
        "Ablehnung eines Kreditantrags sind, und ob es eine rassistische Diskriminierung gibt. Welcher Typ von Aufgabe des maschinellen Lernens ist für diese Aufgabe geeignet? Welche\n",
        "Methoden kann man benutzen?"
      ],
      "metadata": {
        "id": "260tkkbeXcdg"
      }
    },
    {
      "cell_type": "markdown",
      "source": [
        "**Antwort:** \n",
        "Grundsätzlich kann die Aufgabe der Feature Selection im Maschninellen Lernen Auskunft darüber geben wie groß der Einflussfaktor einzelner Features auf die Target Variable ist. Zum Beispiel eignen sich die Klassen im [sklearn.feature_selection](https://scikit-learn.org/stable/modules/feature_selection.html#feature-selection) Modul um disen Zusammenhang zu untersuchen. Eine Methode um hiermit den Zusammenhang zwischen Featuren und der Target Variable zu untersuchen ist die Nutzung von statistischen Tests. Die Art des anzuwendenden statistischen Tests richtet sich nach dem Datentyp (categorical, ordinal und numeric) des Features (siehe Aufgabe 4). \n",
        "\n",
        "Eine weitere Methode ist pandas interne DataFrame.corr() Funktion mit der man die paarweise Korrelation zwischen Spalten bestimmen kann. Diese wird typischerweise ebenfalls im Feature Selection Prozess angewendet. Die gewünschte Korrelationsmethode (Pearson, Spearman, Kendalls Tau) kann hierbei gewählt werden.\n",
        "\n",
        "Eine weitere Methode findet sich in der Betrachtung von Decision Tree Algorithmen. Hierbei kann das Auswahlkriterium zur Aufteilung der Daten (z.B. der Information Gain) eines Features genutzt werden um Aussagen über den Einfluss dieses Features auf die Target Variable zu machen. Decision Trees sind nämlich genau nach dem Prinzip aufgebaut, dass die Features mit dem größten Einfluss näher an der Wurzel lokalisiert sind. Beispielsweise kann man in sklearn über das feature_importances_ Attribut eines Entscheidungsbaum auf diese Größe zugreifen. \n",
        "\n",
        "\n",
        "\n",
        "Mit den oben vorgestellten Methoden kann der Zusammenhang zwischen dem Feature **black** und dem Target **deny** ermittelt werden. Daraus kann man ableiten ob eine rassistische Diskrimierung vorliegt.\n",
        "\n",
        "\n",
        "In die Kontextsensitive Systeme Vorlesun reingucken!\n",
        "\n",
        "Furthermore, impurity-based feature importance for trees are strongly biased and favor high cardinality features (typically numerical features) over low cardinality features such as binary features or categorical variables with a small number of possible categories.\n",
        "\n",
        "Ggf. noch Permutation Feature Importance aus Sklearn mitaufnehmen: https://scikit-learn.org/stable/modules/permutation_importance.html#permutation-importance"
      ],
      "metadata": {
        "id": "Aq7C6agFjDZf"
      }
    },
    {
      "cell_type": "code",
      "source": [
        ""
      ],
      "metadata": {
        "id": "Cy7cEUKh_IwE"
      },
      "execution_count": 9,
      "outputs": []
    },
    {
      "cell_type": "markdown",
      "source": [
        "c) Ist Datenvorverarbeitung nötig? Warum? Falls nötig, verarbeiten Sie die Daten vor."
      ],
      "metadata": {
        "id": "NRCm5dAufN5S"
      }
    },
    {
      "cell_type": "markdown",
      "source": [
        "**Antwort:** <br> Für einige der statistischen Tests, für die DataFrame.corr() Funktion und viele der ALG in Teilaufgabe f) ist es notwendig die nominalen Daten mit den Ausprägungen \"yes\" und \"no\" in numerische Daten (\"0\" bzw. \"1\") umzuwandeln. Dies trifft auf folgende Features zu: **public_bad_credit_record, denied_mortgage_insurance, self_employed, single, unemployment_rate_in_the_applicant’s_industry, black**. Und das Target: **deny**. <br><br> Darüberhinaus sollten die Daten skaliert werden, da Unterschiede in dem Ausprägungsbereich der Daten Einfluss auf die Performanz der ML-Algorithmen haben können. Dies ist für diese Aufgabe allerdings nicht unmittelbar relevant, da wir in den folgenden Teilaufgaben nur an den relativen Unterschieden zwischen den Featuren Einflüssen interessiert sind und nicht an der Gesamtperformance der ALG. Daher werden wir uns in diesem Abschnitt nicht tiefer mit der Auswahl der Skalierungsmethode beschäftigen, sondern die Daten lediglich standardisieren.\n",
        "\n",
        "Muss man für die Anwendung von Decision Trees, die Daten in Intervalle einteilen?\n",
        "\n",
        "Feaute Importance is misleading for features that have many unique values! https://scikit-learn.org/stable/auto_examples/ensemble/plot_forest_importances.html Therefore we need Data Preparation"
      ],
      "metadata": {
        "id": "u2mznWtTfTTM"
      }
    },
    {
      "cell_type": "code",
      "source": [
        "#Transformieren von nominalen Daten in numerische Daten\n",
        "\n",
        "yes_no_to_int = {\"yes\": 1, \"no\": 0}\n",
        "\n",
        "for column in df.columns:\n",
        " if df[column].dtype == \"object\":\n",
        "    df[column] = df[column].map(yes_no_to_int)\n",
        "   \n"
      ],
      "metadata": {
        "id": "ORSl82mpgVQu"
      },
      "execution_count": 10,
      "outputs": []
    },
    {
      "cell_type": "code",
      "source": [
        "#Daten standardisieren\n",
        "# ist eigentlich nicht sinnvoll..\n",
        "\n",
        "\n",
        "from sklearn.preprocessing import StandardScaler\n",
        "standard_scaler = StandardScaler()\n",
        "data_standardized = standard_scaler.fit_transform(df)\n",
        "df_standardized = pd.DataFrame(data_standardized)\n"
      ],
      "metadata": {
        "id": "LqDcqD2Ei7By"
      },
      "execution_count": 11,
      "outputs": []
    },
    {
      "cell_type": "markdown",
      "source": [
        "d) Separieren Sie die Daten in 80% : 20% = Training : Test Datensatz. Führen Sie eine logistische \n",
        "Regression durch. Beschreiben Sie Koeffizienten und deren Signifikanzniveau sowie die Area \n",
        "Under Curve (AUC) der Receiver-Operator-Curve (ROC). Interpretieren Sie die Ergebnisse."
      ],
      "metadata": {
        "id": "Wp65K7bDk4B-"
      }
    },
    {
      "cell_type": "code",
      "source": [
        "#Daten in Feature und Target separieren\n",
        "\n",
        "X = df.iloc[:, :-1]\n",
        "y = df.iloc[:, -1]\n",
        "\n"
      ],
      "metadata": {
        "id": "KNyHNi2Vn5AP"
      },
      "execution_count": 12,
      "outputs": []
    },
    {
      "cell_type": "code",
      "source": [
        "# Aufteilen der Daten in einen Trainings- und einen Testdatensatz\n",
        "\n",
        "from sklearn.model_selection import train_test_split\n",
        "\n",
        "X_train, X_test, y_train, y_test = train_test_split(X, y, test_size=0.2, random_state=0 )\n"
      ],
      "metadata": {
        "id": "9EUcGPgckSv2"
      },
      "execution_count": 13,
      "outputs": []
    },
    {
      "cell_type": "code",
      "source": [
        "# Benutzung von Phyton's statsmodels Modul um eine logistische Regression durchzuführen und statistische Metriken auszugeben\n",
        "import statsmodels.api as sm\n",
        "log_regressor = sm.Logit(y_train, sm.add_constant(X_train)).fit()\n"
      ],
      "metadata": {
        "id": "VCeglmZTpFBM",
        "colab": {
          "base_uri": "https://localhost:8080/"
        },
        "outputId": "872b3d7b-004f-4c86-ec9a-962b03dffadc"
      },
      "execution_count": 57,
      "outputs": [
        {
          "output_type": "stream",
          "name": "stdout",
          "text": [
            "Optimization terminated successfully.\n",
            "         Current function value: 0.275621\n",
            "         Iterations 7\n"
          ]
        },
        {
          "output_type": "stream",
          "name": "stderr",
          "text": [
            "/usr/local/lib/python3.7/dist-packages/statsmodels/tsa/tsatools.py:117: FutureWarning: In a future version of pandas all arguments of concat except for the argument 'objs' will be keyword-only\n",
            "  x = pd.concat(x[::order], 1)\n"
          ]
        }
      ]
    },
    {
      "cell_type": "code",
      "source": [
        "#Darstellung der Parameter des logistischen Regressionsmodell und zugehörigen Signifikanzwerten\n",
        "test = log_regressor.summary().tables[1].as_html()\n",
        "dff = pd.read_html(test, header=0, index_col=0)\n",
        "dff[0].sort_values(by=\"coef\", ascending=False)\n"
      ],
      "metadata": {
        "colab": {
          "base_uri": "https://localhost:8080/",
          "height": 457
        },
        "id": "IPtDJ3FtHmk3",
        "outputId": "e176a668-3d2e-401e-fcbc-b7ee63c9f0b4"
      },
      "execution_count": 58,
      "outputs": [
        {
          "output_type": "execute_result",
          "data": {
            "text/plain": [
              "                                                    coef  std err       z  \\\n",
              "denied_mortgage_insurance                         4.2408    0.561   7.554   \n",
              "debt_payments_to_total_income_ratio               4.1928    1.134   3.696   \n",
              "size_of_loan_to_assessed_value_of_property_ratio  1.5981    0.534   2.992   \n",
              "public_bad_credit_record                          1.2776    0.229   5.581   \n",
              "black                                             0.7478    0.198   3.781   \n",
              "self_employed                                     0.6548    0.236   2.775   \n",
              "housing_expenses_to_income_ratio                  0.4760    1.376   0.346   \n",
              "single                                            0.4170    0.173   2.410   \n",
              "consumer_credit_score                             0.2962    0.044   6.755   \n",
              "mortgage_credit_score                             0.1589    0.162   0.982   \n",
              "unemployment_rate_in_the_applicant’s_industry     0.0626    0.038   1.652   \n",
              "condominium                                       0.0435    0.188   0.232   \n",
              "const                                            -6.8219    0.608 -11.214   \n",
              "\n",
              "                                                  P>|z|  [0.025  0.975]  \n",
              "denied_mortgage_insurance                         0.000   3.141   5.341  \n",
              "debt_payments_to_total_income_ratio               0.000   1.969   6.416  \n",
              "size_of_loan_to_assessed_value_of_property_ratio  0.003   0.551   2.645  \n",
              "public_bad_credit_record                          0.000   0.829   1.726  \n",
              "black                                             0.000   0.360   1.136  \n",
              "self_employed                                     0.006   0.192   1.117  \n",
              "housing_expenses_to_income_ratio                  0.729  -2.221   3.173  \n",
              "single                                            0.016   0.078   0.756  \n",
              "consumer_credit_score                             0.000   0.210   0.382  \n",
              "mortgage_credit_score                             0.326  -0.158   0.476  \n",
              "unemployment_rate_in_the_applicant’s_industry     0.099  -0.012   0.137  \n",
              "condominium                                       0.817  -0.324   0.411  \n",
              "const                                             0.000  -8.014  -5.630  "
            ],
            "text/html": [
              "\n",
              "  <div id=\"df-a8aa0ad6-93f9-420d-b82c-896890204cd0\">\n",
              "    <div class=\"colab-df-container\">\n",
              "      <div>\n",
              "<style scoped>\n",
              "    .dataframe tbody tr th:only-of-type {\n",
              "        vertical-align: middle;\n",
              "    }\n",
              "\n",
              "    .dataframe tbody tr th {\n",
              "        vertical-align: top;\n",
              "    }\n",
              "\n",
              "    .dataframe thead th {\n",
              "        text-align: right;\n",
              "    }\n",
              "</style>\n",
              "<table border=\"1\" class=\"dataframe\">\n",
              "  <thead>\n",
              "    <tr style=\"text-align: right;\">\n",
              "      <th></th>\n",
              "      <th>coef</th>\n",
              "      <th>std err</th>\n",
              "      <th>z</th>\n",
              "      <th>P&gt;|z|</th>\n",
              "      <th>[0.025</th>\n",
              "      <th>0.975]</th>\n",
              "    </tr>\n",
              "  </thead>\n",
              "  <tbody>\n",
              "    <tr>\n",
              "      <th>denied_mortgage_insurance</th>\n",
              "      <td>4.2408</td>\n",
              "      <td>0.561</td>\n",
              "      <td>7.554</td>\n",
              "      <td>0.000</td>\n",
              "      <td>3.141</td>\n",
              "      <td>5.341</td>\n",
              "    </tr>\n",
              "    <tr>\n",
              "      <th>debt_payments_to_total_income_ratio</th>\n",
              "      <td>4.1928</td>\n",
              "      <td>1.134</td>\n",
              "      <td>3.696</td>\n",
              "      <td>0.000</td>\n",
              "      <td>1.969</td>\n",
              "      <td>6.416</td>\n",
              "    </tr>\n",
              "    <tr>\n",
              "      <th>size_of_loan_to_assessed_value_of_property_ratio</th>\n",
              "      <td>1.5981</td>\n",
              "      <td>0.534</td>\n",
              "      <td>2.992</td>\n",
              "      <td>0.003</td>\n",
              "      <td>0.551</td>\n",
              "      <td>2.645</td>\n",
              "    </tr>\n",
              "    <tr>\n",
              "      <th>public_bad_credit_record</th>\n",
              "      <td>1.2776</td>\n",
              "      <td>0.229</td>\n",
              "      <td>5.581</td>\n",
              "      <td>0.000</td>\n",
              "      <td>0.829</td>\n",
              "      <td>1.726</td>\n",
              "    </tr>\n",
              "    <tr>\n",
              "      <th>black</th>\n",
              "      <td>0.7478</td>\n",
              "      <td>0.198</td>\n",
              "      <td>3.781</td>\n",
              "      <td>0.000</td>\n",
              "      <td>0.360</td>\n",
              "      <td>1.136</td>\n",
              "    </tr>\n",
              "    <tr>\n",
              "      <th>self_employed</th>\n",
              "      <td>0.6548</td>\n",
              "      <td>0.236</td>\n",
              "      <td>2.775</td>\n",
              "      <td>0.006</td>\n",
              "      <td>0.192</td>\n",
              "      <td>1.117</td>\n",
              "    </tr>\n",
              "    <tr>\n",
              "      <th>housing_expenses_to_income_ratio</th>\n",
              "      <td>0.4760</td>\n",
              "      <td>1.376</td>\n",
              "      <td>0.346</td>\n",
              "      <td>0.729</td>\n",
              "      <td>-2.221</td>\n",
              "      <td>3.173</td>\n",
              "    </tr>\n",
              "    <tr>\n",
              "      <th>single</th>\n",
              "      <td>0.4170</td>\n",
              "      <td>0.173</td>\n",
              "      <td>2.410</td>\n",
              "      <td>0.016</td>\n",
              "      <td>0.078</td>\n",
              "      <td>0.756</td>\n",
              "    </tr>\n",
              "    <tr>\n",
              "      <th>consumer_credit_score</th>\n",
              "      <td>0.2962</td>\n",
              "      <td>0.044</td>\n",
              "      <td>6.755</td>\n",
              "      <td>0.000</td>\n",
              "      <td>0.210</td>\n",
              "      <td>0.382</td>\n",
              "    </tr>\n",
              "    <tr>\n",
              "      <th>mortgage_credit_score</th>\n",
              "      <td>0.1589</td>\n",
              "      <td>0.162</td>\n",
              "      <td>0.982</td>\n",
              "      <td>0.326</td>\n",
              "      <td>-0.158</td>\n",
              "      <td>0.476</td>\n",
              "    </tr>\n",
              "    <tr>\n",
              "      <th>unemployment_rate_in_the_applicant’s_industry</th>\n",
              "      <td>0.0626</td>\n",
              "      <td>0.038</td>\n",
              "      <td>1.652</td>\n",
              "      <td>0.099</td>\n",
              "      <td>-0.012</td>\n",
              "      <td>0.137</td>\n",
              "    </tr>\n",
              "    <tr>\n",
              "      <th>condominium</th>\n",
              "      <td>0.0435</td>\n",
              "      <td>0.188</td>\n",
              "      <td>0.232</td>\n",
              "      <td>0.817</td>\n",
              "      <td>-0.324</td>\n",
              "      <td>0.411</td>\n",
              "    </tr>\n",
              "    <tr>\n",
              "      <th>const</th>\n",
              "      <td>-6.8219</td>\n",
              "      <td>0.608</td>\n",
              "      <td>-11.214</td>\n",
              "      <td>0.000</td>\n",
              "      <td>-8.014</td>\n",
              "      <td>-5.630</td>\n",
              "    </tr>\n",
              "  </tbody>\n",
              "</table>\n",
              "</div>\n",
              "      <button class=\"colab-df-convert\" onclick=\"convertToInteractive('df-a8aa0ad6-93f9-420d-b82c-896890204cd0')\"\n",
              "              title=\"Convert this dataframe to an interactive table.\"\n",
              "              style=\"display:none;\">\n",
              "        \n",
              "  <svg xmlns=\"http://www.w3.org/2000/svg\" height=\"24px\"viewBox=\"0 0 24 24\"\n",
              "       width=\"24px\">\n",
              "    <path d=\"M0 0h24v24H0V0z\" fill=\"none\"/>\n",
              "    <path d=\"M18.56 5.44l.94 2.06.94-2.06 2.06-.94-2.06-.94-.94-2.06-.94 2.06-2.06.94zm-11 1L8.5 8.5l.94-2.06 2.06-.94-2.06-.94L8.5 2.5l-.94 2.06-2.06.94zm10 10l.94 2.06.94-2.06 2.06-.94-2.06-.94-.94-2.06-.94 2.06-2.06.94z\"/><path d=\"M17.41 7.96l-1.37-1.37c-.4-.4-.92-.59-1.43-.59-.52 0-1.04.2-1.43.59L10.3 9.45l-7.72 7.72c-.78.78-.78 2.05 0 2.83L4 21.41c.39.39.9.59 1.41.59.51 0 1.02-.2 1.41-.59l7.78-7.78 2.81-2.81c.8-.78.8-2.07 0-2.86zM5.41 20L4 18.59l7.72-7.72 1.47 1.35L5.41 20z\"/>\n",
              "  </svg>\n",
              "      </button>\n",
              "      \n",
              "  <style>\n",
              "    .colab-df-container {\n",
              "      display:flex;\n",
              "      flex-wrap:wrap;\n",
              "      gap: 12px;\n",
              "    }\n",
              "\n",
              "    .colab-df-convert {\n",
              "      background-color: #E8F0FE;\n",
              "      border: none;\n",
              "      border-radius: 50%;\n",
              "      cursor: pointer;\n",
              "      display: none;\n",
              "      fill: #1967D2;\n",
              "      height: 32px;\n",
              "      padding: 0 0 0 0;\n",
              "      width: 32px;\n",
              "    }\n",
              "\n",
              "    .colab-df-convert:hover {\n",
              "      background-color: #E2EBFA;\n",
              "      box-shadow: 0px 1px 2px rgba(60, 64, 67, 0.3), 0px 1px 3px 1px rgba(60, 64, 67, 0.15);\n",
              "      fill: #174EA6;\n",
              "    }\n",
              "\n",
              "    [theme=dark] .colab-df-convert {\n",
              "      background-color: #3B4455;\n",
              "      fill: #D2E3FC;\n",
              "    }\n",
              "\n",
              "    [theme=dark] .colab-df-convert:hover {\n",
              "      background-color: #434B5C;\n",
              "      box-shadow: 0px 1px 3px 1px rgba(0, 0, 0, 0.15);\n",
              "      filter: drop-shadow(0px 1px 2px rgba(0, 0, 0, 0.3));\n",
              "      fill: #FFFFFF;\n",
              "    }\n",
              "  </style>\n",
              "\n",
              "      <script>\n",
              "        const buttonEl =\n",
              "          document.querySelector('#df-a8aa0ad6-93f9-420d-b82c-896890204cd0 button.colab-df-convert');\n",
              "        buttonEl.style.display =\n",
              "          google.colab.kernel.accessAllowed ? 'block' : 'none';\n",
              "\n",
              "        async function convertToInteractive(key) {\n",
              "          const element = document.querySelector('#df-a8aa0ad6-93f9-420d-b82c-896890204cd0');\n",
              "          const dataTable =\n",
              "            await google.colab.kernel.invokeFunction('convertToInteractive',\n",
              "                                                     [key], {});\n",
              "          if (!dataTable) return;\n",
              "\n",
              "          const docLinkHtml = 'Like what you see? Visit the ' +\n",
              "            '<a target=\"_blank\" href=https://colab.research.google.com/notebooks/data_table.ipynb>data table notebook</a>'\n",
              "            + ' to learn more about interactive tables.';\n",
              "          element.innerHTML = '';\n",
              "          dataTable['output_type'] = 'display_data';\n",
              "          await google.colab.output.renderOutput(dataTable, element);\n",
              "          const docLink = document.createElement('div');\n",
              "          docLink.innerHTML = docLinkHtml;\n",
              "          element.appendChild(docLink);\n",
              "        }\n",
              "      </script>\n",
              "    </div>\n",
              "  </div>\n",
              "  "
            ]
          },
          "metadata": {},
          "execution_count": 58
        }
      ]
    },
    {
      "cell_type": "markdown",
      "source": [
        "\n",
        "\n",
        "###Beschreiben der Koeffizienten und deren Signifikanzniveaus\n",
        "...\n",
        "\n",
        "\n",
        "\n",
        "\n",
        "\n",
        "### Koeffizienten\n",
        "Die Spalte **coef** der log_regressor.summary() Ausgabe stellt die Koeffizienten des logistischen Regressionsmodells dar. Um die Koeffizienten zu verstehen betrachten wir zunächst ein vereinfachtes logistische Regressionsmodell, welches nur die Attribute **single** und **black** betrachtet: <br><br> $log(p/1-p)=0.4170*single+0.7478*black$ <br><br> $p = P(Y=1)$ entspricht der Wahrscheinlichkeit, dass der Kreditantrag abgelehnt wird. Daraus folgt, dass $1-p = P(Y=0)$ die Wahrscheinlicheit darstellt, dass der Kreditantrag angenommen wird. Das Verhältnis der Wahrscheinlichkeit für die Ablehnung zur Wahrschieinlichkeit für die Annahme $P(Y=1)/P(Y=0)$ wird auch **Chancenverhältniss** genannt. <br><br>\n",
        "Angenommen das Attribut **single** hat den Wert 1 für eine Beobachtung, dann erhöht sich $log(p/1-p)$ um den Koeffizienten von **single**, nämlich 0.4170 in unserem Fall. Das heißt, dass sich das **Chancenverhältniss** um $exp(0.4170)=1.5174$ erhöht. Und das bedeutet, dass die Chance (Wahrscheinlichkeit) für eine Kreditablehnung um 51.74% steigt im Verhältniss zur Chance der Kreditannahme. <br><br> Generell lässt sich sagen: wenn das Vorzeichen des Koeffizienten eines Attributes positiv ist, dann wird die Wahrscheinlichkeit für eine Kreditablehnung größer. Ist das Vorzeichen negativ, dann wird die Wahrscheinlichkeit für eine Kreditannahme größer.\n",
        "\n",
        "### Signifikanzniveau\n",
        "Die Einschätzung der Signifikanz der ermittelten Koeffizienten der Attribute des logistischen Regressionsmodels kann mit Hilfe des p-Wertes erfolgen, welcher einem Hypothesentest zur Grund liegt.\n",
        "Das Modul statsmodels ermöglicht es uns für jeden ermittelten Koeffizienten einen Z-Hypothesentest durchzuführen, mit dem getestet wird mit welcher Sicherheit der Koeffizient ungleich 0 ist. Genauer gesagt ist die H0: coef==0, die H1: coef!=0.\n",
        "Die Spalte  **P>|z|** stellt den Signifikanzwert(p-Wert) dar, welcher beschreibt in wie weit die Nullhypothese H0 glaubwürdig ist. Ein niedriger p-Wert bedeutet, dass die Nullhypothese H0 zu gunsten der Alternativhypothese H1 verworfen werden kann. Welcher p-Wert hierfür genau gewählt wird ist Kontext abhänig. Generell folgt, dass je niedriger der p-Wert ist, desto sicherer ist die Alternativhypohtese und demnach die Güte des ermittelten Koeffizienten. In unserem Kontext kann zu dem folgende Interpreation gemacht werden: betrachtet man den p-Wert von dem Attribut **single** mit **P>|z|=0.016**, dann kan daraus schließen, dass es eine 1.6% Chance gibt, dass das Attribut **single** keinen Einfluss auf unser target **deny** hat [(Quelle für diese Interpretation)](https://medium.com/swlh/interpreting-linear-regression-through-statsmodels-summary-4796d359035a). \n",
        "\n",
        "\n",
        "\n",
        "###Beschreiben der Koeffizienten und deren Signifikanzniveaus\n",
        "...\n",
        "\n",
        "### Beschreiben von Area Under Curve (AUC) der Receiver-Operator-Curve (ROC)\n",
        "\n",
        "\n",
        "### Ergebnisse Interpretieren\n",
        "gerade mit Bezug zu Teilaufgabe b) rassistischer Zusammenhang?\n",
        "\n",
        "\n",
        "\n",
        "\n",
        "\n",
        "\n",
        "\n",
        "\n"
      ],
      "metadata": {
        "id": "ghtZazmWCzyO"
      }
    },
    {
      "cell_type": "code",
      "source": [
        ""
      ],
      "metadata": {
        "id": "VU4IAujiri19"
      },
      "execution_count": 17,
      "outputs": []
    },
    {
      "cell_type": "code",
      "source": [
        ""
      ],
      "metadata": {
        "id": "L_0NB4Z5rap9"
      },
      "execution_count": 17,
      "outputs": []
    },
    {
      "cell_type": "code",
      "source": [
        ""
      ],
      "metadata": {
        "id": "CbC42Q6yrXDC"
      },
      "execution_count": 17,
      "outputs": []
    },
    {
      "cell_type": "code",
      "source": [
        ""
      ],
      "metadata": {
        "id": "sV0P3DCJrOUI"
      },
      "execution_count": 17,
      "outputs": []
    },
    {
      "cell_type": "code",
      "source": [
        ""
      ],
      "metadata": {
        "id": "tH87gEbbIqI9"
      },
      "execution_count": 17,
      "outputs": []
    },
    {
      "cell_type": "code",
      "source": [
        ""
      ],
      "metadata": {
        "id": "h8MAR1fuioi_"
      },
      "execution_count": 17,
      "outputs": []
    },
    {
      "cell_type": "code",
      "source": [
        ""
      ],
      "metadata": {
        "id": "9o1iRUfrinHa"
      },
      "execution_count": 17,
      "outputs": []
    },
    {
      "cell_type": "code",
      "source": [
        ""
      ],
      "metadata": {
        "id": "gzlS76ADijc9"
      },
      "execution_count": 17,
      "outputs": []
    },
    {
      "cell_type": "code",
      "source": [
        ""
      ],
      "metadata": {
        "id": "vWpKwbTYgu_U"
      },
      "execution_count": 17,
      "outputs": []
    },
    {
      "cell_type": "code",
      "source": [
        ""
      ],
      "metadata": {
        "id": "WRKbKFHFgmlD"
      },
      "execution_count": 17,
      "outputs": []
    },
    {
      "cell_type": "code",
      "source": [
        ""
      ],
      "metadata": {
        "id": "QtCtOXeYghcL"
      },
      "execution_count": 17,
      "outputs": []
    },
    {
      "cell_type": "code",
      "source": [
        ""
      ],
      "metadata": {
        "id": "1vt4SVO-gQTV"
      },
      "execution_count": 17,
      "outputs": []
    },
    {
      "cell_type": "code",
      "source": [
        ""
      ],
      "metadata": {
        "id": "iAcwkcgOgA-m"
      },
      "execution_count": 17,
      "outputs": []
    },
    {
      "cell_type": "code",
      "source": [
        ""
      ],
      "metadata": {
        "id": "C5S9V4G0f4hB"
      },
      "execution_count": 17,
      "outputs": []
    },
    {
      "cell_type": "code",
      "source": [
        ""
      ],
      "metadata": {
        "id": "Os3Ni8xdfWQJ"
      },
      "execution_count": 17,
      "outputs": []
    },
    {
      "cell_type": "code",
      "source": [
        ""
      ],
      "metadata": {
        "id": "5rCX21XIfQm8"
      },
      "execution_count": 17,
      "outputs": []
    },
    {
      "cell_type": "code",
      "source": [
        ""
      ],
      "metadata": {
        "id": "nYrFPLKJfMG_"
      },
      "execution_count": 17,
      "outputs": []
    },
    {
      "cell_type": "code",
      "source": [
        ""
      ],
      "metadata": {
        "id": "ZnyctTKSfKXi"
      },
      "execution_count": 17,
      "outputs": []
    },
    {
      "cell_type": "code",
      "source": [
        ""
      ],
      "metadata": {
        "id": "HRfLFfA8fGof"
      },
      "execution_count": 17,
      "outputs": []
    },
    {
      "cell_type": "code",
      "source": [
        ""
      ],
      "metadata": {
        "id": "8akAFuL3fBAk"
      },
      "execution_count": 17,
      "outputs": []
    },
    {
      "cell_type": "code",
      "source": [
        ""
      ],
      "metadata": {
        "id": "xowmjKBueu_V"
      },
      "execution_count": 17,
      "outputs": []
    },
    {
      "cell_type": "code",
      "source": [
        ""
      ],
      "metadata": {
        "id": "4FzHd6BXepkd"
      },
      "execution_count": 17,
      "outputs": []
    },
    {
      "cell_type": "code",
      "source": [
        ""
      ],
      "metadata": {
        "id": "oVgva5QhemTA"
      },
      "execution_count": 17,
      "outputs": []
    },
    {
      "cell_type": "code",
      "source": [
        ""
      ],
      "metadata": {
        "id": "OnF_apJjXcDw"
      },
      "execution_count": 17,
      "outputs": []
    }
  ]
}