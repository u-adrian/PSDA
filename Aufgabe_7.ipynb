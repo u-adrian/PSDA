{
  "nbformat": 4,
  "nbformat_minor": 0,
  "metadata": {
    "colab": {
      "name": "Kopie von Aufgabe_7.ipynb",
      "provenance": [],
      "authorship_tag": "ABX9TyO21nOZT79Q3WoaTdl7Ys/I",
      "include_colab_link": true
    },
    "kernelspec": {
      "name": "python3",
      "display_name": "Python 3"
    },
    "language_info": {
      "name": "python"
    }
  },
  "cells": [
    {
      "cell_type": "markdown",
      "metadata": {
        "id": "view-in-github",
        "colab_type": "text"
      },
      "source": [
        "<a href=\"https://colab.research.google.com/github/u-adrian/PSDA/blob/main/Aufgabe_7.ipynb\" target=\"_parent\"><img src=\"https://colab.research.google.com/assets/colab-badge.svg\" alt=\"Open In Colab\"/></a>"
      ]
    },
    {
      "cell_type": "markdown",
      "source": [
        "Model: Random Forest\n",
        "Hyperparam:\n",
        "*   Tiefe der Bäume: [4, 8, 16, 32]\n",
        "*   Anzahl der Bäume: [4, 8, 16, 32]\n",
        "*   Bagging: [Yes,No]\n",
        "*   Random split selection: [Yes, No]\n",
        "*   Criterion: [gini, entropy]\n"
      ],
      "metadata": {
        "id": "pTZ8OTk_IToT"
      }
    },
    {
      "cell_type": "code",
      "execution_count": 11,
      "metadata": {
        "id": "9Q1UaurkWF6F",
        "colab": {
          "base_uri": "https://localhost:8080/"
        },
        "outputId": "5151888e-a47c-4138-dcf9-af26b34fc132"
      },
      "outputs": [
        {
          "output_type": "execute_result",
          "data": {
            "text/plain": [
              "['mean_fit_time',\n",
              " 'mean_score_time',\n",
              " 'mean_test_score',\n",
              " 'param_bootstrap',\n",
              " 'param_criterion',\n",
              " 'param_max_depth',\n",
              " 'param_max_features',\n",
              " 'param_n_estimators',\n",
              " 'params',\n",
              " 'rank_test_score',\n",
              " 'split0_test_score',\n",
              " 'split1_test_score',\n",
              " 'split2_test_score',\n",
              " 'split3_test_score',\n",
              " 'split4_test_score',\n",
              " 'std_fit_time',\n",
              " 'std_score_time',\n",
              " 'std_test_score']"
            ]
          },
          "metadata": {},
          "execution_count": 11
        }
      ],
      "source": [
        "from sklearn.ensemble import RandomForestClassifier\n",
        "from sklearn.datasets import load_iris\n",
        "\n",
        "from sklearn.model_selection import GridSearchCV\n",
        "\n",
        "dataset = load_iris()\n",
        "dataset\n",
        "X = dataset.data\n",
        "y = dataset.target\n",
        "\n",
        "forest = RandomForestClassifier(random_state=0)\n",
        "\n",
        "parameters = {'max_depth':[4,8,16,32], 'n_estimators':[4,8,16,32], 'bootstrap':[True,False], 'max_features': ['sqrt','log2',None], 'criterion':['gini','entropy']}\n",
        "\n",
        "gscv = GridSearchCV(forest, parameters)\n",
        "gscv.fit(X, y)\n",
        "sorted(gscv.cv_results_.keys())"
      ]
    },
    {
      "cell_type": "code",
      "source": [
        "print(gscv.cv_results_['rank_test_score'])\n"
      ],
      "metadata": {
        "colab": {
          "base_uri": "https://localhost:8080/"
        },
        "id": "QZa47zSUOeGd",
        "outputId": "419b4567-1c9e-4794-b6a6-bb88e4c21693"
      },
      "execution_count": 12,
      "outputs": [
        {
          "output_type": "stream",
          "name": "stdout",
          "text": [
            "[136 136  91  65 136 136  91  65  91 136  32  65 136 174  32  65 136 174\n",
            "  32  65 171 174  32  65 136 174  32  65 136 174  32  65 171 174  32  65\n",
            " 136 174  32  65 136 174  32  65 171 174  32  65 136  91  32   1 136  91\n",
            "  32   1 136 183  32   1 136 183  91   1 136 183  91   1 136 190  32   1\n",
            " 136 183  91   1 136 183  91   1 136 190  32   1 136 183  91   1 136 183\n",
            "  91   1 136 190  32   1   1  32  32  32   1  32  32  32  32  32  32  32\n",
            "  65  91   1 136  65  91   1 136   1  32   1   1  65  91   1 136  65  91\n",
            "   1 136   1  32   1   1  65  91   1 136  65  91   1 136   1  32   1   1\n",
            "  32  32  65   1  32  32  65   1  91  91  91  91  91 136  65  91  91 136\n",
            "  65  91  91  91  91  91  91 136  65  91  91 136  65  91  91  91  91  91\n",
            "  91 136  65  91  91 136  65  91  91  91  91  91]\n"
          ]
        }
      ]
    },
    {
      "cell_type": "code",
      "source": [
        "gscv.best_estimator_"
      ],
      "metadata": {
        "colab": {
          "base_uri": "https://localhost:8080/"
        },
        "id": "UV3MJcOnP-eI",
        "outputId": "72c719f2-17a8-49c4-c0b4-11a81b8a47cd"
      },
      "execution_count": 13,
      "outputs": [
        {
          "output_type": "execute_result",
          "data": {
            "text/plain": [
              "RandomForestClassifier(criterion='entropy', max_depth=4, max_features='sqrt',\n",
              "                       n_estimators=32, random_state=0)"
            ]
          },
          "metadata": {},
          "execution_count": 13
        }
      ]
    },
    {
      "cell_type": "code",
      "source": [
        "print(gscv.cv_results_['params'])"
      ],
      "metadata": {
        "colab": {
          "base_uri": "https://localhost:8080/"
        },
        "id": "68w9cW_HPisN",
        "outputId": "541f6497-4535-4d6d-94e8-629acae6bcee"
      },
      "execution_count": 14,
      "outputs": [
        {
          "output_type": "stream",
          "name": "stdout",
          "text": [
            "[{'bootstrap': True, 'criterion': 'gini', 'max_depth': 4, 'max_features': 'sqrt', 'n_estimators': 4}, {'bootstrap': True, 'criterion': 'gini', 'max_depth': 4, 'max_features': 'sqrt', 'n_estimators': 8}, {'bootstrap': True, 'criterion': 'gini', 'max_depth': 4, 'max_features': 'sqrt', 'n_estimators': 16}, {'bootstrap': True, 'criterion': 'gini', 'max_depth': 4, 'max_features': 'sqrt', 'n_estimators': 32}, {'bootstrap': True, 'criterion': 'gini', 'max_depth': 4, 'max_features': 'log2', 'n_estimators': 4}, {'bootstrap': True, 'criterion': 'gini', 'max_depth': 4, 'max_features': 'log2', 'n_estimators': 8}, {'bootstrap': True, 'criterion': 'gini', 'max_depth': 4, 'max_features': 'log2', 'n_estimators': 16}, {'bootstrap': True, 'criterion': 'gini', 'max_depth': 4, 'max_features': 'log2', 'n_estimators': 32}, {'bootstrap': True, 'criterion': 'gini', 'max_depth': 4, 'max_features': None, 'n_estimators': 4}, {'bootstrap': True, 'criterion': 'gini', 'max_depth': 4, 'max_features': None, 'n_estimators': 8}, {'bootstrap': True, 'criterion': 'gini', 'max_depth': 4, 'max_features': None, 'n_estimators': 16}, {'bootstrap': True, 'criterion': 'gini', 'max_depth': 4, 'max_features': None, 'n_estimators': 32}, {'bootstrap': True, 'criterion': 'gini', 'max_depth': 8, 'max_features': 'sqrt', 'n_estimators': 4}, {'bootstrap': True, 'criterion': 'gini', 'max_depth': 8, 'max_features': 'sqrt', 'n_estimators': 8}, {'bootstrap': True, 'criterion': 'gini', 'max_depth': 8, 'max_features': 'sqrt', 'n_estimators': 16}, {'bootstrap': True, 'criterion': 'gini', 'max_depth': 8, 'max_features': 'sqrt', 'n_estimators': 32}, {'bootstrap': True, 'criterion': 'gini', 'max_depth': 8, 'max_features': 'log2', 'n_estimators': 4}, {'bootstrap': True, 'criterion': 'gini', 'max_depth': 8, 'max_features': 'log2', 'n_estimators': 8}, {'bootstrap': True, 'criterion': 'gini', 'max_depth': 8, 'max_features': 'log2', 'n_estimators': 16}, {'bootstrap': True, 'criterion': 'gini', 'max_depth': 8, 'max_features': 'log2', 'n_estimators': 32}, {'bootstrap': True, 'criterion': 'gini', 'max_depth': 8, 'max_features': None, 'n_estimators': 4}, {'bootstrap': True, 'criterion': 'gini', 'max_depth': 8, 'max_features': None, 'n_estimators': 8}, {'bootstrap': True, 'criterion': 'gini', 'max_depth': 8, 'max_features': None, 'n_estimators': 16}, {'bootstrap': True, 'criterion': 'gini', 'max_depth': 8, 'max_features': None, 'n_estimators': 32}, {'bootstrap': True, 'criterion': 'gini', 'max_depth': 16, 'max_features': 'sqrt', 'n_estimators': 4}, {'bootstrap': True, 'criterion': 'gini', 'max_depth': 16, 'max_features': 'sqrt', 'n_estimators': 8}, {'bootstrap': True, 'criterion': 'gini', 'max_depth': 16, 'max_features': 'sqrt', 'n_estimators': 16}, {'bootstrap': True, 'criterion': 'gini', 'max_depth': 16, 'max_features': 'sqrt', 'n_estimators': 32}, {'bootstrap': True, 'criterion': 'gini', 'max_depth': 16, 'max_features': 'log2', 'n_estimators': 4}, {'bootstrap': True, 'criterion': 'gini', 'max_depth': 16, 'max_features': 'log2', 'n_estimators': 8}, {'bootstrap': True, 'criterion': 'gini', 'max_depth': 16, 'max_features': 'log2', 'n_estimators': 16}, {'bootstrap': True, 'criterion': 'gini', 'max_depth': 16, 'max_features': 'log2', 'n_estimators': 32}, {'bootstrap': True, 'criterion': 'gini', 'max_depth': 16, 'max_features': None, 'n_estimators': 4}, {'bootstrap': True, 'criterion': 'gini', 'max_depth': 16, 'max_features': None, 'n_estimators': 8}, {'bootstrap': True, 'criterion': 'gini', 'max_depth': 16, 'max_features': None, 'n_estimators': 16}, {'bootstrap': True, 'criterion': 'gini', 'max_depth': 16, 'max_features': None, 'n_estimators': 32}, {'bootstrap': True, 'criterion': 'gini', 'max_depth': 32, 'max_features': 'sqrt', 'n_estimators': 4}, {'bootstrap': True, 'criterion': 'gini', 'max_depth': 32, 'max_features': 'sqrt', 'n_estimators': 8}, {'bootstrap': True, 'criterion': 'gini', 'max_depth': 32, 'max_features': 'sqrt', 'n_estimators': 16}, {'bootstrap': True, 'criterion': 'gini', 'max_depth': 32, 'max_features': 'sqrt', 'n_estimators': 32}, {'bootstrap': True, 'criterion': 'gini', 'max_depth': 32, 'max_features': 'log2', 'n_estimators': 4}, {'bootstrap': True, 'criterion': 'gini', 'max_depth': 32, 'max_features': 'log2', 'n_estimators': 8}, {'bootstrap': True, 'criterion': 'gini', 'max_depth': 32, 'max_features': 'log2', 'n_estimators': 16}, {'bootstrap': True, 'criterion': 'gini', 'max_depth': 32, 'max_features': 'log2', 'n_estimators': 32}, {'bootstrap': True, 'criterion': 'gini', 'max_depth': 32, 'max_features': None, 'n_estimators': 4}, {'bootstrap': True, 'criterion': 'gini', 'max_depth': 32, 'max_features': None, 'n_estimators': 8}, {'bootstrap': True, 'criterion': 'gini', 'max_depth': 32, 'max_features': None, 'n_estimators': 16}, {'bootstrap': True, 'criterion': 'gini', 'max_depth': 32, 'max_features': None, 'n_estimators': 32}, {'bootstrap': True, 'criterion': 'entropy', 'max_depth': 4, 'max_features': 'sqrt', 'n_estimators': 4}, {'bootstrap': True, 'criterion': 'entropy', 'max_depth': 4, 'max_features': 'sqrt', 'n_estimators': 8}, {'bootstrap': True, 'criterion': 'entropy', 'max_depth': 4, 'max_features': 'sqrt', 'n_estimators': 16}, {'bootstrap': True, 'criterion': 'entropy', 'max_depth': 4, 'max_features': 'sqrt', 'n_estimators': 32}, {'bootstrap': True, 'criterion': 'entropy', 'max_depth': 4, 'max_features': 'log2', 'n_estimators': 4}, {'bootstrap': True, 'criterion': 'entropy', 'max_depth': 4, 'max_features': 'log2', 'n_estimators': 8}, {'bootstrap': True, 'criterion': 'entropy', 'max_depth': 4, 'max_features': 'log2', 'n_estimators': 16}, {'bootstrap': True, 'criterion': 'entropy', 'max_depth': 4, 'max_features': 'log2', 'n_estimators': 32}, {'bootstrap': True, 'criterion': 'entropy', 'max_depth': 4, 'max_features': None, 'n_estimators': 4}, {'bootstrap': True, 'criterion': 'entropy', 'max_depth': 4, 'max_features': None, 'n_estimators': 8}, {'bootstrap': True, 'criterion': 'entropy', 'max_depth': 4, 'max_features': None, 'n_estimators': 16}, {'bootstrap': True, 'criterion': 'entropy', 'max_depth': 4, 'max_features': None, 'n_estimators': 32}, {'bootstrap': True, 'criterion': 'entropy', 'max_depth': 8, 'max_features': 'sqrt', 'n_estimators': 4}, {'bootstrap': True, 'criterion': 'entropy', 'max_depth': 8, 'max_features': 'sqrt', 'n_estimators': 8}, {'bootstrap': True, 'criterion': 'entropy', 'max_depth': 8, 'max_features': 'sqrt', 'n_estimators': 16}, {'bootstrap': True, 'criterion': 'entropy', 'max_depth': 8, 'max_features': 'sqrt', 'n_estimators': 32}, {'bootstrap': True, 'criterion': 'entropy', 'max_depth': 8, 'max_features': 'log2', 'n_estimators': 4}, {'bootstrap': True, 'criterion': 'entropy', 'max_depth': 8, 'max_features': 'log2', 'n_estimators': 8}, {'bootstrap': True, 'criterion': 'entropy', 'max_depth': 8, 'max_features': 'log2', 'n_estimators': 16}, {'bootstrap': True, 'criterion': 'entropy', 'max_depth': 8, 'max_features': 'log2', 'n_estimators': 32}, {'bootstrap': True, 'criterion': 'entropy', 'max_depth': 8, 'max_features': None, 'n_estimators': 4}, {'bootstrap': True, 'criterion': 'entropy', 'max_depth': 8, 'max_features': None, 'n_estimators': 8}, {'bootstrap': True, 'criterion': 'entropy', 'max_depth': 8, 'max_features': None, 'n_estimators': 16}, {'bootstrap': True, 'criterion': 'entropy', 'max_depth': 8, 'max_features': None, 'n_estimators': 32}, {'bootstrap': True, 'criterion': 'entropy', 'max_depth': 16, 'max_features': 'sqrt', 'n_estimators': 4}, {'bootstrap': True, 'criterion': 'entropy', 'max_depth': 16, 'max_features': 'sqrt', 'n_estimators': 8}, {'bootstrap': True, 'criterion': 'entropy', 'max_depth': 16, 'max_features': 'sqrt', 'n_estimators': 16}, {'bootstrap': True, 'criterion': 'entropy', 'max_depth': 16, 'max_features': 'sqrt', 'n_estimators': 32}, {'bootstrap': True, 'criterion': 'entropy', 'max_depth': 16, 'max_features': 'log2', 'n_estimators': 4}, {'bootstrap': True, 'criterion': 'entropy', 'max_depth': 16, 'max_features': 'log2', 'n_estimators': 8}, {'bootstrap': True, 'criterion': 'entropy', 'max_depth': 16, 'max_features': 'log2', 'n_estimators': 16}, {'bootstrap': True, 'criterion': 'entropy', 'max_depth': 16, 'max_features': 'log2', 'n_estimators': 32}, {'bootstrap': True, 'criterion': 'entropy', 'max_depth': 16, 'max_features': None, 'n_estimators': 4}, {'bootstrap': True, 'criterion': 'entropy', 'max_depth': 16, 'max_features': None, 'n_estimators': 8}, {'bootstrap': True, 'criterion': 'entropy', 'max_depth': 16, 'max_features': None, 'n_estimators': 16}, {'bootstrap': True, 'criterion': 'entropy', 'max_depth': 16, 'max_features': None, 'n_estimators': 32}, {'bootstrap': True, 'criterion': 'entropy', 'max_depth': 32, 'max_features': 'sqrt', 'n_estimators': 4}, {'bootstrap': True, 'criterion': 'entropy', 'max_depth': 32, 'max_features': 'sqrt', 'n_estimators': 8}, {'bootstrap': True, 'criterion': 'entropy', 'max_depth': 32, 'max_features': 'sqrt', 'n_estimators': 16}, {'bootstrap': True, 'criterion': 'entropy', 'max_depth': 32, 'max_features': 'sqrt', 'n_estimators': 32}, {'bootstrap': True, 'criterion': 'entropy', 'max_depth': 32, 'max_features': 'log2', 'n_estimators': 4}, {'bootstrap': True, 'criterion': 'entropy', 'max_depth': 32, 'max_features': 'log2', 'n_estimators': 8}, {'bootstrap': True, 'criterion': 'entropy', 'max_depth': 32, 'max_features': 'log2', 'n_estimators': 16}, {'bootstrap': True, 'criterion': 'entropy', 'max_depth': 32, 'max_features': 'log2', 'n_estimators': 32}, {'bootstrap': True, 'criterion': 'entropy', 'max_depth': 32, 'max_features': None, 'n_estimators': 4}, {'bootstrap': True, 'criterion': 'entropy', 'max_depth': 32, 'max_features': None, 'n_estimators': 8}, {'bootstrap': True, 'criterion': 'entropy', 'max_depth': 32, 'max_features': None, 'n_estimators': 16}, {'bootstrap': True, 'criterion': 'entropy', 'max_depth': 32, 'max_features': None, 'n_estimators': 32}, {'bootstrap': False, 'criterion': 'gini', 'max_depth': 4, 'max_features': 'sqrt', 'n_estimators': 4}, {'bootstrap': False, 'criterion': 'gini', 'max_depth': 4, 'max_features': 'sqrt', 'n_estimators': 8}, {'bootstrap': False, 'criterion': 'gini', 'max_depth': 4, 'max_features': 'sqrt', 'n_estimators': 16}, {'bootstrap': False, 'criterion': 'gini', 'max_depth': 4, 'max_features': 'sqrt', 'n_estimators': 32}, {'bootstrap': False, 'criterion': 'gini', 'max_depth': 4, 'max_features': 'log2', 'n_estimators': 4}, {'bootstrap': False, 'criterion': 'gini', 'max_depth': 4, 'max_features': 'log2', 'n_estimators': 8}, {'bootstrap': False, 'criterion': 'gini', 'max_depth': 4, 'max_features': 'log2', 'n_estimators': 16}, {'bootstrap': False, 'criterion': 'gini', 'max_depth': 4, 'max_features': 'log2', 'n_estimators': 32}, {'bootstrap': False, 'criterion': 'gini', 'max_depth': 4, 'max_features': None, 'n_estimators': 4}, {'bootstrap': False, 'criterion': 'gini', 'max_depth': 4, 'max_features': None, 'n_estimators': 8}, {'bootstrap': False, 'criterion': 'gini', 'max_depth': 4, 'max_features': None, 'n_estimators': 16}, {'bootstrap': False, 'criterion': 'gini', 'max_depth': 4, 'max_features': None, 'n_estimators': 32}, {'bootstrap': False, 'criterion': 'gini', 'max_depth': 8, 'max_features': 'sqrt', 'n_estimators': 4}, {'bootstrap': False, 'criterion': 'gini', 'max_depth': 8, 'max_features': 'sqrt', 'n_estimators': 8}, {'bootstrap': False, 'criterion': 'gini', 'max_depth': 8, 'max_features': 'sqrt', 'n_estimators': 16}, {'bootstrap': False, 'criterion': 'gini', 'max_depth': 8, 'max_features': 'sqrt', 'n_estimators': 32}, {'bootstrap': False, 'criterion': 'gini', 'max_depth': 8, 'max_features': 'log2', 'n_estimators': 4}, {'bootstrap': False, 'criterion': 'gini', 'max_depth': 8, 'max_features': 'log2', 'n_estimators': 8}, {'bootstrap': False, 'criterion': 'gini', 'max_depth': 8, 'max_features': 'log2', 'n_estimators': 16}, {'bootstrap': False, 'criterion': 'gini', 'max_depth': 8, 'max_features': 'log2', 'n_estimators': 32}, {'bootstrap': False, 'criterion': 'gini', 'max_depth': 8, 'max_features': None, 'n_estimators': 4}, {'bootstrap': False, 'criterion': 'gini', 'max_depth': 8, 'max_features': None, 'n_estimators': 8}, {'bootstrap': False, 'criterion': 'gini', 'max_depth': 8, 'max_features': None, 'n_estimators': 16}, {'bootstrap': False, 'criterion': 'gini', 'max_depth': 8, 'max_features': None, 'n_estimators': 32}, {'bootstrap': False, 'criterion': 'gini', 'max_depth': 16, 'max_features': 'sqrt', 'n_estimators': 4}, {'bootstrap': False, 'criterion': 'gini', 'max_depth': 16, 'max_features': 'sqrt', 'n_estimators': 8}, {'bootstrap': False, 'criterion': 'gini', 'max_depth': 16, 'max_features': 'sqrt', 'n_estimators': 16}, {'bootstrap': False, 'criterion': 'gini', 'max_depth': 16, 'max_features': 'sqrt', 'n_estimators': 32}, {'bootstrap': False, 'criterion': 'gini', 'max_depth': 16, 'max_features': 'log2', 'n_estimators': 4}, {'bootstrap': False, 'criterion': 'gini', 'max_depth': 16, 'max_features': 'log2', 'n_estimators': 8}, {'bootstrap': False, 'criterion': 'gini', 'max_depth': 16, 'max_features': 'log2', 'n_estimators': 16}, {'bootstrap': False, 'criterion': 'gini', 'max_depth': 16, 'max_features': 'log2', 'n_estimators': 32}, {'bootstrap': False, 'criterion': 'gini', 'max_depth': 16, 'max_features': None, 'n_estimators': 4}, {'bootstrap': False, 'criterion': 'gini', 'max_depth': 16, 'max_features': None, 'n_estimators': 8}, {'bootstrap': False, 'criterion': 'gini', 'max_depth': 16, 'max_features': None, 'n_estimators': 16}, {'bootstrap': False, 'criterion': 'gini', 'max_depth': 16, 'max_features': None, 'n_estimators': 32}, {'bootstrap': False, 'criterion': 'gini', 'max_depth': 32, 'max_features': 'sqrt', 'n_estimators': 4}, {'bootstrap': False, 'criterion': 'gini', 'max_depth': 32, 'max_features': 'sqrt', 'n_estimators': 8}, {'bootstrap': False, 'criterion': 'gini', 'max_depth': 32, 'max_features': 'sqrt', 'n_estimators': 16}, {'bootstrap': False, 'criterion': 'gini', 'max_depth': 32, 'max_features': 'sqrt', 'n_estimators': 32}, {'bootstrap': False, 'criterion': 'gini', 'max_depth': 32, 'max_features': 'log2', 'n_estimators': 4}, {'bootstrap': False, 'criterion': 'gini', 'max_depth': 32, 'max_features': 'log2', 'n_estimators': 8}, {'bootstrap': False, 'criterion': 'gini', 'max_depth': 32, 'max_features': 'log2', 'n_estimators': 16}, {'bootstrap': False, 'criterion': 'gini', 'max_depth': 32, 'max_features': 'log2', 'n_estimators': 32}, {'bootstrap': False, 'criterion': 'gini', 'max_depth': 32, 'max_features': None, 'n_estimators': 4}, {'bootstrap': False, 'criterion': 'gini', 'max_depth': 32, 'max_features': None, 'n_estimators': 8}, {'bootstrap': False, 'criterion': 'gini', 'max_depth': 32, 'max_features': None, 'n_estimators': 16}, {'bootstrap': False, 'criterion': 'gini', 'max_depth': 32, 'max_features': None, 'n_estimators': 32}, {'bootstrap': False, 'criterion': 'entropy', 'max_depth': 4, 'max_features': 'sqrt', 'n_estimators': 4}, {'bootstrap': False, 'criterion': 'entropy', 'max_depth': 4, 'max_features': 'sqrt', 'n_estimators': 8}, {'bootstrap': False, 'criterion': 'entropy', 'max_depth': 4, 'max_features': 'sqrt', 'n_estimators': 16}, {'bootstrap': False, 'criterion': 'entropy', 'max_depth': 4, 'max_features': 'sqrt', 'n_estimators': 32}, {'bootstrap': False, 'criterion': 'entropy', 'max_depth': 4, 'max_features': 'log2', 'n_estimators': 4}, {'bootstrap': False, 'criterion': 'entropy', 'max_depth': 4, 'max_features': 'log2', 'n_estimators': 8}, {'bootstrap': False, 'criterion': 'entropy', 'max_depth': 4, 'max_features': 'log2', 'n_estimators': 16}, {'bootstrap': False, 'criterion': 'entropy', 'max_depth': 4, 'max_features': 'log2', 'n_estimators': 32}, {'bootstrap': False, 'criterion': 'entropy', 'max_depth': 4, 'max_features': None, 'n_estimators': 4}, {'bootstrap': False, 'criterion': 'entropy', 'max_depth': 4, 'max_features': None, 'n_estimators': 8}, {'bootstrap': False, 'criterion': 'entropy', 'max_depth': 4, 'max_features': None, 'n_estimators': 16}, {'bootstrap': False, 'criterion': 'entropy', 'max_depth': 4, 'max_features': None, 'n_estimators': 32}, {'bootstrap': False, 'criterion': 'entropy', 'max_depth': 8, 'max_features': 'sqrt', 'n_estimators': 4}, {'bootstrap': False, 'criterion': 'entropy', 'max_depth': 8, 'max_features': 'sqrt', 'n_estimators': 8}, {'bootstrap': False, 'criterion': 'entropy', 'max_depth': 8, 'max_features': 'sqrt', 'n_estimators': 16}, {'bootstrap': False, 'criterion': 'entropy', 'max_depth': 8, 'max_features': 'sqrt', 'n_estimators': 32}, {'bootstrap': False, 'criterion': 'entropy', 'max_depth': 8, 'max_features': 'log2', 'n_estimators': 4}, {'bootstrap': False, 'criterion': 'entropy', 'max_depth': 8, 'max_features': 'log2', 'n_estimators': 8}, {'bootstrap': False, 'criterion': 'entropy', 'max_depth': 8, 'max_features': 'log2', 'n_estimators': 16}, {'bootstrap': False, 'criterion': 'entropy', 'max_depth': 8, 'max_features': 'log2', 'n_estimators': 32}, {'bootstrap': False, 'criterion': 'entropy', 'max_depth': 8, 'max_features': None, 'n_estimators': 4}, {'bootstrap': False, 'criterion': 'entropy', 'max_depth': 8, 'max_features': None, 'n_estimators': 8}, {'bootstrap': False, 'criterion': 'entropy', 'max_depth': 8, 'max_features': None, 'n_estimators': 16}, {'bootstrap': False, 'criterion': 'entropy', 'max_depth': 8, 'max_features': None, 'n_estimators': 32}, {'bootstrap': False, 'criterion': 'entropy', 'max_depth': 16, 'max_features': 'sqrt', 'n_estimators': 4}, {'bootstrap': False, 'criterion': 'entropy', 'max_depth': 16, 'max_features': 'sqrt', 'n_estimators': 8}, {'bootstrap': False, 'criterion': 'entropy', 'max_depth': 16, 'max_features': 'sqrt', 'n_estimators': 16}, {'bootstrap': False, 'criterion': 'entropy', 'max_depth': 16, 'max_features': 'sqrt', 'n_estimators': 32}, {'bootstrap': False, 'criterion': 'entropy', 'max_depth': 16, 'max_features': 'log2', 'n_estimators': 4}, {'bootstrap': False, 'criterion': 'entropy', 'max_depth': 16, 'max_features': 'log2', 'n_estimators': 8}, {'bootstrap': False, 'criterion': 'entropy', 'max_depth': 16, 'max_features': 'log2', 'n_estimators': 16}, {'bootstrap': False, 'criterion': 'entropy', 'max_depth': 16, 'max_features': 'log2', 'n_estimators': 32}, {'bootstrap': False, 'criterion': 'entropy', 'max_depth': 16, 'max_features': None, 'n_estimators': 4}, {'bootstrap': False, 'criterion': 'entropy', 'max_depth': 16, 'max_features': None, 'n_estimators': 8}, {'bootstrap': False, 'criterion': 'entropy', 'max_depth': 16, 'max_features': None, 'n_estimators': 16}, {'bootstrap': False, 'criterion': 'entropy', 'max_depth': 16, 'max_features': None, 'n_estimators': 32}, {'bootstrap': False, 'criterion': 'entropy', 'max_depth': 32, 'max_features': 'sqrt', 'n_estimators': 4}, {'bootstrap': False, 'criterion': 'entropy', 'max_depth': 32, 'max_features': 'sqrt', 'n_estimators': 8}, {'bootstrap': False, 'criterion': 'entropy', 'max_depth': 32, 'max_features': 'sqrt', 'n_estimators': 16}, {'bootstrap': False, 'criterion': 'entropy', 'max_depth': 32, 'max_features': 'sqrt', 'n_estimators': 32}, {'bootstrap': False, 'criterion': 'entropy', 'max_depth': 32, 'max_features': 'log2', 'n_estimators': 4}, {'bootstrap': False, 'criterion': 'entropy', 'max_depth': 32, 'max_features': 'log2', 'n_estimators': 8}, {'bootstrap': False, 'criterion': 'entropy', 'max_depth': 32, 'max_features': 'log2', 'n_estimators': 16}, {'bootstrap': False, 'criterion': 'entropy', 'max_depth': 32, 'max_features': 'log2', 'n_estimators': 32}, {'bootstrap': False, 'criterion': 'entropy', 'max_depth': 32, 'max_features': None, 'n_estimators': 4}, {'bootstrap': False, 'criterion': 'entropy', 'max_depth': 32, 'max_features': None, 'n_estimators': 8}, {'bootstrap': False, 'criterion': 'entropy', 'max_depth': 32, 'max_features': None, 'n_estimators': 16}, {'bootstrap': False, 'criterion': 'entropy', 'max_depth': 32, 'max_features': None, 'n_estimators': 32}]\n"
          ]
        }
      ]
    },
    {
      "cell_type": "code",
      "source": [
        "import matplotlib.pyplot as plt\n"
      ],
      "metadata": {
        "id": "71N59MHmQrHd"
      },
      "execution_count": null,
      "outputs": []
    }
  ]
}