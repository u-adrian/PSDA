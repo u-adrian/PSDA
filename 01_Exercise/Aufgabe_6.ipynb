{
 "cells": [
  {
   "cell_type": "markdown",
   "metadata": {
    "colab_type": "text",
    "id": "view-in-github"
   },
   "source": [
    "<a href=\"https://colab.research.google.com/github/u-adrian/PSDA/blob/main/01_Exercise/Aufgabe_6.ipynb\" target=\"_parent\"><img src=\"https://colab.research.google.com/assets/colab-badge.svg\" alt=\"Open In Colab\"/></a>"
   ]
  },
  {
   "cell_type": "markdown",
   "metadata": {
    "id": "pTZ8OTk_IToT"
   },
   "source": [
    "Model: Random Forest\n",
    "Hyperparam:\n",
    "*   Tiefe der Bäume: [1, 2, 4, 8, 16, 32]\n",
    "*   Anzahl der Bäume: [1, 2, 4, 8, 16, 32]\n",
    "*   Bagging: [Yes,No]\n",
    "*   Random split selection: [Yes, No]\n",
    "*   Criterion: [gini, entropy]\n",
    "\n",
    "Der Verwendete Datensatz ist der Iris Datensatz. Zu finden hier: [https://scikit-learn.org/stable/auto_examples/datasets/plot_iris_dataset.html]\n"
   ]
  },
  {
   "cell_type": "code",
   "execution_count": 1,
   "metadata": {
    "id": "sNmmAWUCqM3F"
   },
   "outputs": [
    {
     "name": "stdout",
     "output_type": "stream",
     "text": [
      "Requirement already satisfied: sklearn in c:\\users\\adria\\miniconda3\\envs\\tensorflow_lower\\lib\\site-packages (0.0)\n",
      "Requirement already satisfied: scikit-learn in c:\\users\\adria\\miniconda3\\envs\\tensorflow_lower\\lib\\site-packages (from sklearn) (1.0.2)\n",
      "Requirement already satisfied: numpy>=1.14.6 in c:\\users\\adria\\appdata\\roaming\\python\\python38\\site-packages (from scikit-learn->sklearn) (1.22.0)\n",
      "Requirement already satisfied: joblib>=0.11 in c:\\users\\adria\\miniconda3\\envs\\tensorflow_lower\\lib\\site-packages (from scikit-learn->sklearn) (1.1.0)\n",
      "Requirement already satisfied: threadpoolctl>=2.0.0 in c:\\users\\adria\\miniconda3\\envs\\tensorflow_lower\\lib\\site-packages (from scikit-learn->sklearn) (3.1.0)\n",
      "Requirement already satisfied: scipy>=1.1.0 in c:\\users\\adria\\miniconda3\\envs\\tensorflow_lower\\lib\\site-packages (from scikit-learn->sklearn) (1.6.2)\n"
     ]
    }
   ],
   "source": [
    "!pip install sklearn\n",
    "random_state = 1"
   ]
  },
  {
   "cell_type": "code",
   "execution_count": 2,
   "metadata": {
    "colab": {
     "base_uri": "https://localhost:8080/"
    },
    "id": "9Q1UaurkWF6F",
    "outputId": "b92d5b23-0e00-4d85-e2d1-c0e7de953cad"
   },
   "outputs": [
    {
     "data": {
      "text/plain": [
       "GridSearchCV(cv=StratifiedKFold(n_splits=5, random_state=1, shuffle=True),\n",
       "             estimator=RandomForestClassifier(random_state=1), n_jobs=-1,\n",
       "             param_grid={'bootstrap': [True, False],\n",
       "                         'criterion': ['gini', 'entropy'],\n",
       "                         'max_depth': [1, 2, 4, 8, 16, 32],\n",
       "                         'max_features': ['sqrt', 'log2'],\n",
       "                         'n_estimators': [1, 2, 4, 8, 16, 32]})"
      ]
     },
     "execution_count": 2,
     "metadata": {},
     "output_type": "execute_result"
    }
   ],
   "source": [
    "from sklearn.ensemble import RandomForestClassifier\n",
    "from sklearn.datasets import load_iris, load_diabetes\n",
    "\n",
    "from sklearn.model_selection import GridSearchCV\n",
    "from sklearn.model_selection import StratifiedKFold\n",
    "\n",
    "dataset = load_iris()\n",
    "#dataset = load_diabetes()\n",
    "\n",
    "X = dataset.data\n",
    "y = dataset.target\n",
    "\n",
    "stratKFold = StratifiedKFold(n_splits=5,shuffle=True,random_state=random_state)\n",
    "\n",
    "forest = RandomForestClassifier(random_state=random_state)\n",
    "\n",
    "parameters = {'max_depth':[1,2,4,8,16,32], 'n_estimators':[1,2,4,8,16,32], 'bootstrap':[True,False], 'max_features': ['sqrt','log2'], 'criterion':['gini','entropy']}\n",
    "\n",
    "gscv = GridSearchCV(estimator=forest, param_grid=parameters, n_jobs=-1, cv=stratKFold)\n",
    "gscv.fit(X, y)"
   ]
  },
  {
   "cell_type": "code",
   "execution_count": 3,
   "metadata": {},
   "outputs": [
    {
     "name": "stdout",
     "output_type": "stream",
     "text": [
      "8511961000\n",
      "5341209800\n",
      "3739997400\n",
      "2997014200\n",
      "2620190800\n",
      "2362829300\n",
      "2232124100\n",
      "1316543300\n",
      "1326505800\n",
      "1216999300\n",
      "2244911400\n",
      "1254401000\n",
      "1223504000\n",
      "1310032400\n",
      "1321998900\n",
      "1189014600\n",
      "1216420800\n",
      "1189533900\n",
      "1223005600\n",
      "1277999400\n",
      "[8511961000, 5341209800, 3739997400, 2997014200, 2620190800, 2362829300, 2232124100, 1316543300, 1326505800, 1216999300, 2244911400, 1254401000, 1223504000, 1310032400, 1321998900, 1189014600, 1216420800, 1189533900, 1223005600, 1277999400]\n"
     ]
    }
   ],
   "source": [
    "import time\n",
    "\n",
    "\n",
    "cpus = [1,2,3,4,5,6,7,8,9,10,11,12,13,14,15,16,17,18,19,20]\n",
    "deltas = []\n",
    "for cpu in cpus:\n",
    "    start = time.time_ns()\n",
    "    gscv = GridSearchCV(estimator=forest, param_grid=parameters, n_jobs=cpu, cv=stratKFold)\n",
    "    gscv.fit(X, y)\n",
    "    end = time.time_ns()\n",
    "    delta = end-start\n",
    "    deltas.append(delta)\n",
    "    print(delta)\n",
    "    \n",
    "print(deltas)"
   ]
  },
  {
   "cell_type": "code",
   "execution_count": null,
   "metadata": {},
   "outputs": [],
   "source": []
  },
  {
   "cell_type": "code",
   "execution_count": 4,
   "metadata": {
    "colab": {
     "base_uri": "https://localhost:8080/"
    },
    "id": "4dj85LzSwUl3",
    "outputId": "536ae42c-2fe4-411f-c3ca-a529ce1e71c0"
   },
   "outputs": [
    {
     "name": "stdout",
     "output_type": "stream",
     "text": [
      "RandomForestClassifier(criterion='entropy', max_depth=8, max_features='sqrt',\n",
      "                       n_estimators=8, random_state=1)\n"
     ]
    }
   ],
   "source": [
    "print(gscv.best_estimator_)"
   ]
  },
  {
   "cell_type": "code",
   "execution_count": null,
   "metadata": {},
   "outputs": [],
   "source": []
  },
  {
   "cell_type": "code",
   "execution_count": 5,
   "metadata": {
    "colab": {
     "base_uri": "https://localhost:8080/",
     "height": 1000
    },
    "id": "-AkuwPT9bbLa",
    "outputId": "fa32f8b1-c632-4235-bb80-0d411c1a9d0c"
   },
   "outputs": [
    {
     "data": {
      "image/png": "[encoded data removed]",
      "text/plain": [
       "<Figure size 432x288 with 1 Axes>"
      ]
     },
     "metadata": {
      "needs_background": "light"
     },
     "output_type": "display_data"
    },
    {
     "data": {
      "image/png": "[encoded data removed]",
      "text/plain": [
       "<Figure size 432x288 with 1 Axes>"
      ]
     },
     "metadata": {
      "needs_background": "light"
     },
     "output_type": "display_data"
    },
    {
     "data": {
      "image/png": "[encoded data removed]",
      "text/plain": [
       "<Figure size 432x288 with 1 Axes>"
      ]
     },
     "metadata": {
      "needs_background": "light"
     },
     "output_type": "display_data"
    },
    {
     "data": {
      "image/png": "[encoded data removed]",
      "text/plain": [
       "<Figure size 432x288 with 1 Axes>"
      ]
     },
     "metadata": {
      "needs_background": "light"
     },
     "output_type": "display_data"
    },
    {
     "data": {
      "image/png": "[encoded data removed]",
      "text/plain": [
       "<Figure size 432x288 with 1 Axes>"
      ]
     },
     "metadata": {
      "needs_background": "light"
     },
     "output_type": "display_data"
    }
   ],
   "source": [
    "from pandas.core.groupby.groupby import GroupBy\n",
    "import pandas as pd\n",
    "import numpy as np\n",
    "import matplotlib.pyplot as plt\n",
    "\n",
    "params = pd.DataFrame(gscv.cv_results_['params'])\n",
    "scores = pd.DataFrame(gscv.cv_results_['mean_test_score']).rename(columns={0: 'score'})\n",
    "dataframe = params.join(scores)\n",
    "for key in parameters.keys():\n",
    "  groups = dataframe.groupby([key])\n",
    "  param_list=[]\n",
    "  score_list=[]\n",
    "  #extract data\n",
    "  for param in groups.groups.keys():\n",
    "    df=dataframe.iloc[groups.groups[param]]\n",
    "\n",
    "    scores=np.asarray(df['score'])\n",
    "    param_list.append(param)\n",
    "    score_list.append(scores)\n",
    "\n",
    "  ###plot\n",
    "  plt.boxplot(score_list,labels=param_list)\n",
    "  plt.xlabel(key)\n",
    "  plt.ylabel('accuracy')\n",
    "  plt.show()"
   ]
  },
  {
   "cell_type": "code",
   "execution_count": 6,
   "metadata": {
    "scrolled": true
   },
   "outputs": [
    {
     "data": {
      "image/png": "[encoded data removed]",
      "text/plain": [
       "<Figure size 432x288 with 1 Axes>"
      ]
     },
     "metadata": {
      "needs_background": "light"
     },
     "output_type": "display_data"
    }
   ],
   "source": [
    "plt.scatter(cpus,y=deltas)\n",
    "plt.xlabel('#CPU-cores')\n",
    "plt.ylabel('time in ns')\n",
    "plt.show()"
   ]
  },
  {
   "cell_type": "markdown",
   "metadata": {},
   "source": [
    "# Zielmetrik\n",
    "\n",
    "Wir haben uns in diesem Fall (IRIS Dataset) für die Zielmetrik Accuracy entschieden, da die Klassenwahrscheinlichkeit aller Klassen gleich ist. Außerdem gibt es in diesem Szenario keine starken negativen Auswirkungen durch ein false-negative, anders als beispielsweise bei einer Krebsuntersuchung."
   ]
  },
  {
   "cell_type": "code",
   "execution_count": null,
   "metadata": {},
   "outputs": [],
   "source": []
  }
 ],
 "metadata": {
  "colab": {
   "authorship_tag": "ABX9TyMIBufIrONUR7FqnysFRSe+",
   "include_colab_link": true,
   "name": "Aufgabe_7.ipynb",
   "provenance": []
  },
  "kernelspec": {
   "display_name": "Python 3 (ipykernel)",
   "language": "python",
   "name": "python3"
  },
  "language_info": {
   "codemirror_mode": {
    "name": "ipython",
    "version": 3
   },
   "file_extension": ".py",
   "mimetype": "text/x-python",
   "name": "python",
   "nbconvert_exporter": "python",
   "pygments_lexer": "ipython3",
   "version": "3.8.12"
  }
 },
 "nbformat": 4,
 "nbformat_minor": 1
}
