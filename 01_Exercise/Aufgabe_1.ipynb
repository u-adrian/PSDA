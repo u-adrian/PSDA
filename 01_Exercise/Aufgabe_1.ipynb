{
 "cells": [
  {
   "cell_type": "markdown",
   "metadata": {},
   "source": [
    "# Aufgabe 1\n",
    "\n",
    "a) Warum vergleicht man die Algorithmen, Modelle, Performance-Metriken usw.?\n",
    "\n",
    "b) Was versteht man unter Reproduzierbarkeit bezüglich Datenanalytik?\n",
    "\n",
    "c) Was muss man beachten, damit die Ergebnisse vergleichbar und reproduzierbar sind?\n",
    "\n",
    "d) Geben Sie die requirement.txt Datei für Python und den Ausdruck der Sitzungsinformation\n",
    "von R (sessionInfo()) mit Ihrer Lösung zum Übungsblatt 1 ab."
   ]
  },
  {
   "cell_type": "markdown",
   "metadata": {},
   "source": [
    "### a)\n",
    "\n",
    "Der Vergleich zwischen unterschiedlichen Algorithmen und Modellen dient dazu einen für meist einen speziellen Anwendungsfall besten Algorithmus oder ein bestes Modell zu finden.\n",
    "Unterschiedliche Algorithmen und Modelle haben unterschiedliche Vor- und Nachteile und arbeiten oft auch auf unterschiedlichen Arten von Daten.\n",
    "Es kann aber auch ein allgemeiner Vergleich gezogen werden, welcher sich auf die Leistung der Algorithmen oder Modelle bezieht.\n",
    "Dabei wird bewertet, welche Ergebnisse mit einem bestimmten Algorithmus oder einem bestimmten Modell auf oft unbekannten Daten zu erwarten sind.\n",
    "Bei einem solchen Vergleich können Performance-Metriken helfen.\n",
    "\n",
    "Performance-Metriken bewerten wie gut die Leistung eines Algorithmus oder eines Modells ist.\n",
    "Verschiedene Performance-Metriken legen den Fokus auf unterschiedliche Teilbereiche der Leistungsfähigkeit.\n",
    "So ist es bei manchen Anwendungsfällen wie der Krebserkennung beispielsweise sehr wichtig keine False Negatives zu haben.\n",
    "In einem solchen Fall könnte ein Mensch, der an Krebs erkrankt ist, dies jedoch aufgrund des False Negatives nicht behandelt lässt,\n",
    "in ein späteres Stadium des Krebs fortschreiten oder sogar sterben. Bei anderen Anwendungsfällen, würde ein False Negative jedoch nicht ins Gewicht fallen.\n",
    "Bei der Bestimmung von Pflanzen beispielsweise hätte eine Falsche Bestimmung der Klasse im Allgemeinen keine großen negativen Auswirkungen.\n",
    "In einem solchen Fall wäre es wichtig die verschiedenen Performance-Metriken dahingehend zu vergleichen und eine passende Performance-Metrik für den vorhandenen Anwendungsfall auszuwählen."
   ]
  },
  {
   "cell_type": "markdown",
   "metadata": {},
   "source": [
    "### b)\n",
    "\n",
    "Bei der Datenanalytik werden verschiedene Verarbeitungsschritte mit den Daten durchgeführt.\n",
    "Diese sollen dazu führen, dass die Daten einfacher zu analysieren sind.\n",
    "Es können beispielsweise Verteilungen von einzelnen Variabelwerten im Datensatz betrachtet werden oder auch die Verteilung von Variabelwerten unter bestimmten Bedingungen.\n",
    "\n",
    "Wichtig ist hierbei, dass diese Verarbeitungsschritte nachvollziehbar und vor allem auch reproduzierbar sind.\n",
    "Dies bedeutet, dass die Verarbeitungsschritte bekannt sein müssen und bei einer unabhängigen Durchführung der gleichen Schritte auf den gleichen Daten für die Datenanalyse die gleichen Ergebnisse herauskommen müssen.\n",
    "Nur wenn dies der Fall ist, ist die durchgeführte Datenanalyse reproduzierbar."
   ]
  },
  {
   "cell_type": "markdown",
   "metadata": {},
   "source": [
    "### c)\n",
    "\n",
    "Für die Vergleichbarkeit und Reproduzierbarkeit von Ergebnissen muss eine gleich Vorverarbeitung der Daten beachtet werden.\n",
    "Insbesondere müssen daher auch die Vorverarbeitungsschritte bekannt sein. Hierbei können die einzelnen Schritte gegebenenfalls je nach Daten von einander abweichen.\n",
    "Die Resultate dieser Vorverarbeitung müssen jedoch auf gleich strukturierte Ergebnisse der beiden Vorverarbeitungsvarianten hinauslaufen.\n",
    "\n",
    "Auch die weiteren Schritte, um zu den Ergebnissen zu kommen, welche sich nicht auf die Datenvorverarbeitung beziehen, müssen bekannt und erneut zum gleichen Ergebnis ausführbar sein.\n",
    "Nur wenn dies der Fall ist, kann man die Ergebnisse, welche man beispielsweise auf einem Subset von Daten ausführt mit den Ergebnissen eines anderen Subsets der Daten vergleichen."
   ]
  }
 ],
 "metadata": {
  "language_info": {
   "name": "python"
  },
  "orig_nbformat": 4
 },
 "nbformat": 4,
 "nbformat_minor": 2
}
