{
 "cells": [
  {
   "cell_type": "markdown",
   "metadata": {
    "colab_type": "text",
    "id": "view-in-github"
   },
   "source": [
    "<a href=\"https://colab.research.google.com/github/u-adrian/PSDA/blob/main/01_Exercise/Aufgabe_4.ipynb\" target=\"_parent\"><img src=\"https://colab.research.google.com/assets/colab-badge.svg\" alt=\"Open In Colab\"/></a>"
   ]
  },
  {
   "cell_type": "markdown",
   "metadata": {
    "id": "Hkyf9CwyW7Rn"
   },
   "source": [
    "# Aufgabe 4: Korrelation und Multikollinearität\n",
    "\n",
    "a) Lesen Sie den Datensatz Credit.csv ein. Erkunden Sie die Daten und konvertieren Sie\n",
    "gegebenenfalls kategorische Variablen in ein geeignetes Format (z. B. mit pandas.get_dummies()\n",
    "oder sklearn.model_selection.OneHotEncoder()). Die Zielvariable des Datensatz ist Balance.\n",
    "\n",
    "b) Separieren Sie den Datensatz in 80%-20% für Training und Testdatensatz. Was müssen Sie hier beachten?\n",
    "\n",
    "c) Erstellen Sie aus der Variable Ethnicity drei binäre Variablen Ethnicity_Caucasian,\n",
    "Ethnicity_Asian und Ethnicity_African. Führen Sie eine lineare Regression mit OLS als\n",
    "Schätzer mit diesen Variablen und allen anderen Variablen (außer Limit) durch. Berechnen Sie\n",
    "Root Mean Square Error (RMSE) zwischen der Vorhersage und den wahren Werten im Test-\n",
    "Datensatz. Beschreiben Sie Ihre Ergebnisse.\n",
    "\n",
    "d) Führen Sie die Analyse in 4c) erneut durch, ohne die Variable Ethnicity_Caucasian. Vergleichen\n",
    "Sie diese Ergebnisse mit denen aus 4c).\n",
    "\n",
    "e) Führen Sie eine lineare Regression (OLS) mit folgenden Variablen durch:\n",
    "\n",
    "i. Income, Limit, Age\n",
    "\n",
    "ii. Income, Rating, Age\n",
    "\n",
    "iii. Income, Limit, Rating, Age\n",
    "\n",
    "Beschreiben Sie die Koeffizienten, Konfidenzintervalle und Signifikanzniveau. Vergleichen Sie die\n",
    "Ergebnisse.\n",
    "\n",
    "f) Was ist Korrelation? Wann benutzt man Pearson Korrelation, Spearman Korrelation und Kendalls\n",
    "Tau? Berechnen Sie Korrelationen zwischen allen Variablen im Trainings-Datensatz. Welche\n",
    "Schlussfolgerung können Sie daraus ziehen?\n",
    "\n",
    "g) Führen Sie die Analyse in 4e) mit Random Forest anstatt der linearen Regression durch. Variieren\n",
    "Sie dabei den Parameter random_state mit den Werten {1, 33, 135, 123, 99, 22} und\n",
    "einigen selbstgewählten Werten. Berechnen Sie MSE des Test-Datensatzes. Vergleichen Sie\n",
    "Feature Importance. Welche Schlussfolgerung können Sie daraus ziehen?\n",
    "\n",
    "h) Was ist Multikollinearität? Was sind ihre möglichen Ursachen und Auswirkungen? Wie kann man\n",
    "sie erkennen? Welche Maßnahmen gibt es, wenn Variablen in den Daten kollinear sind?"
   ]
  },
  {
   "cell_type": "markdown",
   "metadata": {
    "id": "bdTdgK_6Z61o"
   },
   "source": [
    "a) Lesen Sie den Datensatz Credit.csv ein. Erkunden Sie die Daten und konvertieren Sie gegebenenfalls kategorische Variablen in ein geeignetes Format (z. B. mit pandas.get_dummies() oder sklearn.model_selection.OneHotEncoder()). Die Zielvariable des Datensatz ist Balance."
   ]
  },
  {
   "cell_type": "code",
   "execution_count": 1,
   "metadata": {},
   "outputs": [
    {
     "ename": "ModuleNotFoundError",
     "evalue": "No module named 'google.colab'",
     "output_type": "error",
     "traceback": [
      "\u001b[1;31m---------------------------------------------------------------------------\u001b[0m",
      "\u001b[1;31mModuleNotFoundError\u001b[0m                       Traceback (most recent call last)",
      "\u001b[1;32m~\\AppData\\Local\\Temp/ipykernel_18564/1408506528.py\u001b[0m in \u001b[0;36m<module>\u001b[1;34m\u001b[0m\n\u001b[1;32m----> 1\u001b[1;33m \u001b[1;32mfrom\u001b[0m \u001b[0mgoogle\u001b[0m\u001b[1;33m.\u001b[0m\u001b[0mcolab\u001b[0m \u001b[1;32mimport\u001b[0m \u001b[0mdrive\u001b[0m\u001b[1;33m\u001b[0m\u001b[1;33m\u001b[0m\u001b[0m\n\u001b[0m\u001b[0;32m      2\u001b[0m \u001b[0mdrive\u001b[0m\u001b[1;33m.\u001b[0m\u001b[0mmount\u001b[0m\u001b[1;33m(\u001b[0m\u001b[1;34m'/content/drive'\u001b[0m\u001b[1;33m)\u001b[0m\u001b[1;33m\u001b[0m\u001b[1;33m\u001b[0m\u001b[0m\n",
      "\u001b[1;31mModuleNotFoundError\u001b[0m: No module named 'google.colab'"
     ]
    }
   ],
   "source": [
    "from google.colab import drive\n",
    "drive.mount('/content/drive')"
   ]
  },
  {
   "cell_type": "code",
   "execution_count": null,
   "metadata": {
    "id": "T8YzN-0gYpC4"
   },
   "outputs": [],
   "source": [
    "import pandas as pd"
   ]
  },
  {
   "cell_type": "code",
   "execution_count": null,
   "metadata": {
    "colab": {
     "base_uri": "https://localhost:8080/",
     "height": 424
    },
    "id": "zqhv3_E3YtXF",
    "outputId": "d5dc44ef-dfde-45df-fe75-3c1f9a369133"
   },
   "outputs": [],
   "source": [
    "df = pd.read_csv(\"drive/My Drive/PSDA/01_Exercise/dataset/Credit.csv\",index_col=0)\n",
    "columns = ['Gender','Student','Married']\n",
    "for column in columns:\n",
    "  df[column] = pd.factorize(df[column])[0]\n",
    "df"
   ]
  },
  {
   "cell_type": "code",
   "execution_count": null,
   "metadata": {
    "id": "-XaX_RqghQD-"
   },
   "outputs": [],
   "source": [
    "X=df.drop(labels='Balance',axis=1)\n",
    "y=df['Balance']"
   ]
  },
  {
   "cell_type": "markdown",
   "metadata": {
    "id": "fDctJms2g1xP"
   },
   "source": [
    "b) Separieren Sie den Datensatz in 80%-20% für Training und Testdatensatz. Was müssen Sie hier beachten?"
   ]
  },
  {
   "cell_type": "markdown",
   "metadata": {
    "id": "ZzmiDXDiknSZ"
   },
   "source": [
    "**Antwort:** Hier gilt zu beachten, dass der Train-Test-Split randomisiert ist."
   ]
  },
  {
   "cell_type": "code",
   "execution_count": null,
   "metadata": {
    "colab": {
     "base_uri": "https://localhost:8080/",
     "height": 424
    },
    "id": "t3EGviMFg04r",
    "outputId": "11bb9441-89be-49f0-ed11-fa4f95c22eae"
   },
   "outputs": [],
   "source": [
    "from sklearn.model_selection import train_test_split\n",
    "X_train, X_test, y_train, y_test = train_test_split(X, y, test_size=0.20, random_state=21)\n",
    "X_train"
   ]
  },
  {
   "cell_type": "markdown",
   "metadata": {
    "id": "GbyQN2JblDvJ"
   },
   "source": [
    "c) Erstellen Sie aus der Variable Ethnicity drei binäre Variablen Ethnicity_Caucasian, Ethnicity_Asian und Ethnicity_African. Führen Sie eine lineare Regression mit OLS als Schätzer mit diesen Variablen und allen anderen Variablen (außer Limit) durch. Berechnen Sie Root Mean Square Error (RMSE) zwischen der Vorhersage und den wahren Werten im Test- Datensatz. Beschreiben Sie Ihre Ergebnisse."
   ]
  },
  {
   "cell_type": "code",
   "execution_count": null,
   "metadata": {
    "colab": {
     "base_uri": "https://localhost:8080/",
     "height": 424
    },
    "id": "smP62hA3lFZZ",
    "outputId": "b8527cdd-3a0f-4db4-8a5b-bea15dc194d9"
   },
   "outputs": [],
   "source": [
    "X_train, X_test = pd.get_dummies(X_train), pd.get_dummies(X_test)\n",
    "X_train.rename(columns = {'Ethnicity_African American':'Ethnicity_African'}, inplace = True)\n",
    "X_test.rename(columns = {'Ethnicity_African American':'Ethnicity_African'}, inplace = True)\n",
    "\n",
    "\n",
    "X_train"
   ]
  },
  {
   "cell_type": "code",
   "execution_count": null,
   "metadata": {
    "colab": {
     "base_uri": "https://localhost:8080/"
    },
    "id": "-P8RreUgnUlQ",
    "outputId": "9a7657f9-e0af-4888-e0af-cfc5460b562d"
   },
   "outputs": [],
   "source": [
    "from sklearn.linear_model import LinearRegression\n",
    "from sklearn.metrics import mean_squared_error\n",
    "\n",
    "reg = LinearRegression().fit(X_train.drop('Limit',axis=1), y_train)\n",
    "y_pred = reg.predict(X_test.drop('Limit',axis=1))\n",
    "\n",
    "print(\"RMSE:\", mean_squared_error(y_test, y_pred, squared=False))"
   ]
  },
  {
   "cell_type": "markdown",
   "metadata": {
    "id": "enFyrhNbo0Qf"
   },
   "source": [
    "**Antwort:**  RMSE ist ein Maß für die Abweichung/Error einer Prädiktion. Als RMSE haben wir hier 103.45 (gerundet auf 2 Nachkommastellen), wobei ein niedriger RMSE besser und ein höherer schlechter ist. \n",
    "\n",
    "**TODO**\n",
    "\n"
   ]
  },
  {
   "cell_type": "markdown",
   "metadata": {
    "id": "OlWaCzEaxxBf"
   },
   "source": []
  },
  {
   "cell_type": "markdown",
   "metadata": {
    "id": "pENt-_m-pTmm"
   },
   "source": [
    "d) Führen Sie die Analyse in 4c) erneut durch, ohne die Variable Ethnicity_Caucasian. Vergleichen Sie diese Ergebnisse mit denen aus 4c)."
   ]
  },
  {
   "cell_type": "code",
   "execution_count": null,
   "metadata": {
    "colab": {
     "base_uri": "https://localhost:8080/"
    },
    "id": "HXAMbVUfpVDL",
    "outputId": "69092204-e26a-4782-f419-5b5a869ff7cc"
   },
   "outputs": [],
   "source": [
    "reg = LinearRegression().fit(X_train.drop(['Limit','Ethnicity_Caucasian'],axis=1), y_train)\n",
    "y_pred = reg.predict(X_test.drop(['Limit','Ethnicity_Caucasian'],axis=1))\n",
    "\n",
    "print(\"RMSE:\", mean_squared_error(y_test, y_pred, squared=False))"
   ]
  },
  {
   "cell_type": "markdown",
   "metadata": {
    "id": "Mmkz5zY2qBxV"
   },
   "source": [
    "**Antwort:**\n",
    "\n",
    "Durch das löschen von \"Ethnicity_Caucasian\" gehen keine Informationen verloren, da diese Spalte durch die 2 Spalten \"Ethnicity_African\" und \"Ethnicity_Asian\" rekonstruiert werden kann. Somit bleibt der Error (RMSE) unverändert. Die (sehr) geringe Abweichung kommt wahrscheilich durch Ungenauigkeiten der Fließkommadarstellung zustande."
   ]
  },
  {
   "cell_type": "markdown",
   "metadata": {
    "id": "tslHQtGVrBqI"
   },
   "source": [
    "e) Führen Sie eine lineare Regression (OLS) mit folgenden Variablen durch:\n",
    "\n",
    "i. Income, Limit, Age\n",
    "\n",
    "ii. Income, Rating, Age\n",
    "\n",
    "iii. Income, Limit, Rating, Age\n",
    "\n",
    "Beschreiben Sie die Koeffizienten, Konfidenzintervalle und Signifikanzniveau. Vergleichen Sie die Ergebnisse."
   ]
  },
  {
   "cell_type": "code",
   "execution_count": null,
   "metadata": {
    "colab": {
     "base_uri": "https://localhost:8080/"
    },
    "id": "QWFb57fsrC84",
    "outputId": "38f33c98-9f35-4c7d-935c-21292753cf19"
   },
   "outputs": [],
   "source": [
    "reg = LinearRegression().fit(X_train[['Income','Limit','Age']], y_train)\n",
    "y_pred = reg.predict(X_test[['Income','Limit','Age']])\n",
    "\n",
    "print('RMSE:',mean_squared_error(y_test, y_pred, squared=False))\n",
    "print('coef:',reg.coef_)"
   ]
  },
  {
   "cell_type": "code",
   "execution_count": null,
   "metadata": {
    "colab": {
     "base_uri": "https://localhost:8080/"
    },
    "id": "CMccs87xrbm0",
    "outputId": "6ba8ba64-4efe-4ad8-b874-4fe12f84b2a0"
   },
   "outputs": [],
   "source": [
    "reg = LinearRegression().fit(X_train[['Income','Rating','Age']], y_train)\n",
    "y_pred = reg.predict(X_test[['Income','Rating','Age']])\n",
    "\n",
    "print('RMSE:',mean_squared_error(y_test, y_pred, squared=False))\n",
    "print('coef:',reg.coef_)"
   ]
  },
  {
   "cell_type": "code",
   "execution_count": null,
   "metadata": {
    "colab": {
     "base_uri": "https://localhost:8080/"
    },
    "id": "SQUyG5b_rf2q",
    "outputId": "1460159b-26f0-49ff-e6b2-48c9bd5ed1e4"
   },
   "outputs": [],
   "source": [
    "reg = LinearRegression().fit(X_train[['Income','Limit','Rating','Age']], y_train)\n",
    "y_pred = reg.predict(X_test[['Income','Limit', 'Rating', 'Age']])\n",
    "\n",
    "print('RMSE:',mean_squared_error(y_test, y_pred, squared=False))\n",
    "print('coef:',reg.coef_)"
   ]
  },
  {
   "cell_type": "markdown",
   "metadata": {
    "id": "VVSGl_UXvnAm"
   },
   "source": [
    "**TODO**"
   ]
  },
  {
   "cell_type": "markdown",
   "metadata": {
    "id": "d7ofALMLvpKu"
   },
   "source": [
    "f) Was ist Korrelation? Wann benutzt man Pearson Korrelation, Spearman Korrelation und Kendalls Tau? Berechnen Sie Korrelationen zwischen allen Variablen im Trainings-Datensatz. Welche Schlussfolgerung können Sie daraus ziehen?"
   ]
  },
  {
   "cell_type": "markdown",
   "metadata": {
    "id": "F77K0MQxwRpe"
   },
   "source": [
    "\n",
    "1.   Pearson Korrelation: Wird verwendet um den Lineare Zusammenhang zwischen zwei Variablen zu untersuchen.\n",
    "\n",
    "2.   Spearman Korrelation: \n",
    "3.   Kendalls Tau\n",
    "\n",
    "\n",
    "\n"
   ]
  },
  {
   "cell_type": "code",
   "execution_count": null,
   "metadata": {
    "colab": {
     "base_uri": "https://localhost:8080/",
     "height": 426
    },
    "id": "lpq35TU62Hz6",
    "outputId": "b298eb4d-d6ee-4603-96c5-7e22a82fea03"
   },
   "outputs": [],
   "source": [
    "X_train.corr()"
   ]
  },
  {
   "cell_type": "markdown",
   "metadata": {
    "id": "q6Zta6IQxiHm"
   },
   "source": [
    "g) Führen Sie die Analyse in 4e) mit Random Forest anstatt der linearen Regression durch. Variieren Sie dabei den Parameter random_state mit den Werten {1, 33, 135, 123, 99, 22} und einigen selbstgewählten Werten. Berechnen Sie MSE des Test-Datensatzes. Vergleichen Sie Feature Importance. Welche Schlussfolgerung können Sie daraus ziehen?"
   ]
  },
  {
   "cell_type": "code",
   "execution_count": null,
   "metadata": {
    "id": "i_QQOLfb1J_3"
   },
   "outputs": [],
   "source": [
    "from sklearn.ensemble import RandomForestClassifier"
   ]
  },
  {
   "cell_type": "code",
   "execution_count": null,
   "metadata": {
    "colab": {
     "base_uri": "https://localhost:8080/"
    },
    "id": "dIp67-yxzhHl",
    "outputId": "0bb61f22-eb6c-4910-fdd5-c8843b0e4a53"
   },
   "outputs": [],
   "source": [
    "values = [1, 33, 135, 123, 99, 22, 500, 12, 49]\n",
    "for num in values:\n",
    "  rfc = RandomForestClassifier(random_state=num).fit(X_train, y_train)\n",
    "  y_pred = rfc.predict(X_test)\n",
    "\n",
    "  print(\"random state value:\", num)\n",
    "  print('MSE:',mean_squared_error(y_test, y_pred))\n",
    "  print(\"Feature importance:\", rfc.feature_importances_)\n",
    "  print()"
   ]
  },
  {
   "cell_type": "markdown",
   "metadata": {
    "id": "y8F9pFiv1tgF"
   },
   "source": [
    "Es ist zu sehen, dass der MSE stark von dem random state abhängt. Die feature importance ist jedoch ziemlich konstant."
   ]
  },
  {
   "cell_type": "markdown",
   "metadata": {
    "id": "hn9W0KfpzY0A"
   },
   "source": [
    "h) Was ist Multikollinearität? Was sind ihre möglichen Ursachen und Auswirkungen? Wie kann man\n",
    "sie erkennen? Welche Maßnahmen gibt es, wenn Variablen in den Daten kollinear sind?"
   ]
  },
  {
   "cell_type": "markdown",
   "metadata": {
    "id": "ACUHSVHbzkZu"
   },
   "source": [
    "**Antwort:**\n",
    "\n",
    "TODO"
   ]
  },
  {
   "cell_type": "code",
   "execution_count": null,
   "metadata": {
    "id": "m2Jytyd0zndz"
   },
   "outputs": [],
   "source": []
  }
 ],
 "metadata": {
  "colab": {
   "include_colab_link": true,
   "name": "Aufgabe_4.ipynb",
   "provenance": []
  },
  "kernelspec": {
   "display_name": "Python 3 (ipykernel)",
   "language": "python",
   "name": "python3"
  },
  "language_info": {
   "codemirror_mode": {
    "name": "ipython",
    "version": 3
   },
   "file_extension": ".py",
   "mimetype": "text/x-python",
   "name": "python",
   "nbconvert_exporter": "python",
   "pygments_lexer": "ipython3",
   "version": "3.8.12"
  }
 },
 "nbformat": 4,
 "nbformat_minor": 1
}
