{
  "cells": [
    {
      "cell_type": "markdown",
      "metadata": {
        "id": "view-in-github",
        "colab_type": "text"
      },
      "source": [
        "<a href=\"https://colab.research.google.com/github/u-adrian/PSDA/blob/main/01_Exercise/Aufgabe_5_update.ipynb\" target=\"_parent\"><img src=\"https://colab.research.google.com/assets/colab-badge.svg\" alt=\"Open In Colab\"/></a>"
      ]
    },
    {
      "cell_type": "code",
      "execution_count": 1,
      "metadata": {
        "colab": {
          "base_uri": "https://localhost:8080/"
        },
        "id": "cPisoOnhNEBh",
        "outputId": "ee59241f-16d6-4c23-9061-68caeaf7dc87"
      },
      "outputs": [
        {
          "output_type": "stream",
          "name": "stdout",
          "text": [
            "Drive already mounted at /content/drive; to attempt to forcibly remount, call drive.mount(\"/content/drive\", force_remount=True).\n"
          ]
        }
      ],
      "source": [
        "from google.colab import drive\n",
        "drive.mount('/content/drive')"
      ]
    },
    {
      "cell_type": "markdown",
      "metadata": {
        "id": "SyehaK71Rv6i"
      },
      "source": [
        "# Aufgabe 5: Interpretation von Modellen"
      ]
    },
    {
      "cell_type": "markdown",
      "metadata": {
        "id": "9SB0FVL5Reem"
      },
      "source": [
        "a) Lesen Sie den Datensatz Hdma.csv ein und machen Sie sich mit den Daten vertraut."
      ]
    },
    {
      "cell_type": "code",
      "execution_count": 2,
      "metadata": {
        "id": "gmbFV6yqR-ZN"
      },
      "outputs": [],
      "source": [
        "import pandas as pd\n",
        "import os\n"
      ]
    },
    {
      "cell_type": "code",
      "execution_count": 3,
      "metadata": {
        "id": "r4OU8wO0SC1R"
      },
      "outputs": [],
      "source": [
        "DATA_PATH = \"/content/drive/MyDrive/PDSA/ÜB1/dataset\""
      ]
    },
    {
      "cell_type": "code",
      "execution_count": 4,
      "metadata": {
        "id": "8OD6qNzgS_nU"
      },
      "outputs": [],
      "source": [
        "df = pd.read_csv(os.path.join(DATA_PATH,\"Hdma.csv\"),sep=';')"
      ]
    },
    {
      "cell_type": "code",
      "execution_count": 5,
      "metadata": {
        "colab": {
          "base_uri": "https://localhost:8080/",
          "height": 206
        },
        "id": "580Ba88_VkgJ",
        "outputId": "4af021aa-1173-4bb6-a66b-beadc4997d21"
      },
      "outputs": [
        {
          "output_type": "execute_result",
          "data": {
            "text/plain": [
              "     dir    hir       lvr  ccs  mcs pbcr dmi self single  uria  condo black  \\\n",
              "0  0.221  0.221  0.800000  5.0  2.0   no  no   no     no   3.9      0    no   \n",
              "1  0.265  0.265  0.921875  2.0  2.0   no  no   no    yes   3.2      0    no   \n",
              "2  0.372  0.248  0.920398  1.0  2.0   no  no   no     no   3.2      0    no   \n",
              "3  0.320  0.250  0.860465  1.0  2.0   no  no   no     no   4.3      0    no   \n",
              "4  0.360  0.350  0.600000  1.0  1.0   no  no   no     no   3.2      0    no   \n",
              "\n",
              "  deny  \n",
              "0   no  \n",
              "1   no  \n",
              "2   no  \n",
              "3   no  \n",
              "4   no  "
            ],
            "text/html": [
              "\n",
              "  <div id=\"df-735db622-c3e9-4c5c-9088-8fb1b0954248\">\n",
              "    <div class=\"colab-df-container\">\n",
              "      <div>\n",
              "<style scoped>\n",
              "    .dataframe tbody tr th:only-of-type {\n",
              "        vertical-align: middle;\n",
              "    }\n",
              "\n",
              "    .dataframe tbody tr th {\n",
              "        vertical-align: top;\n",
              "    }\n",
              "\n",
              "    .dataframe thead th {\n",
              "        text-align: right;\n",
              "    }\n",
              "</style>\n",
              "<table border=\"1\" class=\"dataframe\">\n",
              "  <thead>\n",
              "    <tr style=\"text-align: right;\">\n",
              "      <th></th>\n",
              "      <th>dir</th>\n",
              "      <th>hir</th>\n",
              "      <th>lvr</th>\n",
              "      <th>ccs</th>\n",
              "      <th>mcs</th>\n",
              "      <th>pbcr</th>\n",
              "      <th>dmi</th>\n",
              "      <th>self</th>\n",
              "      <th>single</th>\n",
              "      <th>uria</th>\n",
              "      <th>condo</th>\n",
              "      <th>black</th>\n",
              "      <th>deny</th>\n",
              "    </tr>\n",
              "  </thead>\n",
              "  <tbody>\n",
              "    <tr>\n",
              "      <th>0</th>\n",
              "      <td>0.221</td>\n",
              "      <td>0.221</td>\n",
              "      <td>0.800000</td>\n",
              "      <td>5.0</td>\n",
              "      <td>2.0</td>\n",
              "      <td>no</td>\n",
              "      <td>no</td>\n",
              "      <td>no</td>\n",
              "      <td>no</td>\n",
              "      <td>3.9</td>\n",
              "      <td>0</td>\n",
              "      <td>no</td>\n",
              "      <td>no</td>\n",
              "    </tr>\n",
              "    <tr>\n",
              "      <th>1</th>\n",
              "      <td>0.265</td>\n",
              "      <td>0.265</td>\n",
              "      <td>0.921875</td>\n",
              "      <td>2.0</td>\n",
              "      <td>2.0</td>\n",
              "      <td>no</td>\n",
              "      <td>no</td>\n",
              "      <td>no</td>\n",
              "      <td>yes</td>\n",
              "      <td>3.2</td>\n",
              "      <td>0</td>\n",
              "      <td>no</td>\n",
              "      <td>no</td>\n",
              "    </tr>\n",
              "    <tr>\n",
              "      <th>2</th>\n",
              "      <td>0.372</td>\n",
              "      <td>0.248</td>\n",
              "      <td>0.920398</td>\n",
              "      <td>1.0</td>\n",
              "      <td>2.0</td>\n",
              "      <td>no</td>\n",
              "      <td>no</td>\n",
              "      <td>no</td>\n",
              "      <td>no</td>\n",
              "      <td>3.2</td>\n",
              "      <td>0</td>\n",
              "      <td>no</td>\n",
              "      <td>no</td>\n",
              "    </tr>\n",
              "    <tr>\n",
              "      <th>3</th>\n",
              "      <td>0.320</td>\n",
              "      <td>0.250</td>\n",
              "      <td>0.860465</td>\n",
              "      <td>1.0</td>\n",
              "      <td>2.0</td>\n",
              "      <td>no</td>\n",
              "      <td>no</td>\n",
              "      <td>no</td>\n",
              "      <td>no</td>\n",
              "      <td>4.3</td>\n",
              "      <td>0</td>\n",
              "      <td>no</td>\n",
              "      <td>no</td>\n",
              "    </tr>\n",
              "    <tr>\n",
              "      <th>4</th>\n",
              "      <td>0.360</td>\n",
              "      <td>0.350</td>\n",
              "      <td>0.600000</td>\n",
              "      <td>1.0</td>\n",
              "      <td>1.0</td>\n",
              "      <td>no</td>\n",
              "      <td>no</td>\n",
              "      <td>no</td>\n",
              "      <td>no</td>\n",
              "      <td>3.2</td>\n",
              "      <td>0</td>\n",
              "      <td>no</td>\n",
              "      <td>no</td>\n",
              "    </tr>\n",
              "  </tbody>\n",
              "</table>\n",
              "</div>\n",
              "      <button class=\"colab-df-convert\" onclick=\"convertToInteractive('df-735db622-c3e9-4c5c-9088-8fb1b0954248')\"\n",
              "              title=\"Convert this dataframe to an interactive table.\"\n",
              "              style=\"display:none;\">\n",
              "        \n",
              "  <svg xmlns=\"http://www.w3.org/2000/svg\" height=\"24px\"viewBox=\"0 0 24 24\"\n",
              "       width=\"24px\">\n",
              "    <path d=\"M0 0h24v24H0V0z\" fill=\"none\"/>\n",
              "    <path d=\"M18.56 5.44l.94 2.06.94-2.06 2.06-.94-2.06-.94-.94-2.06-.94 2.06-2.06.94zm-11 1L8.5 8.5l.94-2.06 2.06-.94-2.06-.94L8.5 2.5l-.94 2.06-2.06.94zm10 10l.94 2.06.94-2.06 2.06-.94-2.06-.94-.94-2.06-.94 2.06-2.06.94z\"/><path d=\"M17.41 7.96l-1.37-1.37c-.4-.4-.92-.59-1.43-.59-.52 0-1.04.2-1.43.59L10.3 9.45l-7.72 7.72c-.78.78-.78 2.05 0 2.83L4 21.41c.39.39.9.59 1.41.59.51 0 1.02-.2 1.41-.59l7.78-7.78 2.81-2.81c.8-.78.8-2.07 0-2.86zM5.41 20L4 18.59l7.72-7.72 1.47 1.35L5.41 20z\"/>\n",
              "  </svg>\n",
              "      </button>\n",
              "      \n",
              "  <style>\n",
              "    .colab-df-container {\n",
              "      display:flex;\n",
              "      flex-wrap:wrap;\n",
              "      gap: 12px;\n",
              "    }\n",
              "\n",
              "    .colab-df-convert {\n",
              "      background-color: #E8F0FE;\n",
              "      border: none;\n",
              "      border-radius: 50%;\n",
              "      cursor: pointer;\n",
              "      display: none;\n",
              "      fill: #1967D2;\n",
              "      height: 32px;\n",
              "      padding: 0 0 0 0;\n",
              "      width: 32px;\n",
              "    }\n",
              "\n",
              "    .colab-df-convert:hover {\n",
              "      background-color: #E2EBFA;\n",
              "      box-shadow: 0px 1px 2px rgba(60, 64, 67, 0.3), 0px 1px 3px 1px rgba(60, 64, 67, 0.15);\n",
              "      fill: #174EA6;\n",
              "    }\n",
              "\n",
              "    [theme=dark] .colab-df-convert {\n",
              "      background-color: #3B4455;\n",
              "      fill: #D2E3FC;\n",
              "    }\n",
              "\n",
              "    [theme=dark] .colab-df-convert:hover {\n",
              "      background-color: #434B5C;\n",
              "      box-shadow: 0px 1px 3px 1px rgba(0, 0, 0, 0.15);\n",
              "      filter: drop-shadow(0px 1px 2px rgba(0, 0, 0, 0.3));\n",
              "      fill: #FFFFFF;\n",
              "    }\n",
              "  </style>\n",
              "\n",
              "      <script>\n",
              "        const buttonEl =\n",
              "          document.querySelector('#df-735db622-c3e9-4c5c-9088-8fb1b0954248 button.colab-df-convert');\n",
              "        buttonEl.style.display =\n",
              "          google.colab.kernel.accessAllowed ? 'block' : 'none';\n",
              "\n",
              "        async function convertToInteractive(key) {\n",
              "          const element = document.querySelector('#df-735db622-c3e9-4c5c-9088-8fb1b0954248');\n",
              "          const dataTable =\n",
              "            await google.colab.kernel.invokeFunction('convertToInteractive',\n",
              "                                                     [key], {});\n",
              "          if (!dataTable) return;\n",
              "\n",
              "          const docLinkHtml = 'Like what you see? Visit the ' +\n",
              "            '<a target=\"_blank\" href=https://colab.research.google.com/notebooks/data_table.ipynb>data table notebook</a>'\n",
              "            + ' to learn more about interactive tables.';\n",
              "          element.innerHTML = '';\n",
              "          dataTable['output_type'] = 'display_data';\n",
              "          await google.colab.output.renderOutput(dataTable, element);\n",
              "          const docLink = document.createElement('div');\n",
              "          docLink.innerHTML = docLinkHtml;\n",
              "          element.appendChild(docLink);\n",
              "        }\n",
              "      </script>\n",
              "    </div>\n",
              "  </div>\n",
              "  "
            ]
          },
          "metadata": {},
          "execution_count": 5
        }
      ],
      "source": [
        "df.head()"
      ]
    },
    {
      "cell_type": "markdown",
      "metadata": {
        "id": "FpTSqBvsGpJ5"
      },
      "source": [
        "###Variable Description and More Evident Renaming\n",
        "\n",
        "\n",
        "| Original Variable     | Description | New Variable |\n",
        "| ----------- | ----------- | ----------- |\n",
        "| dir     | debt payments to total income ratio      | debt_payments_to_total_income_ratio      |\n",
        "| hir   | housing expenses to income ratio        | housing_expenses_to_income_ratio      |\n",
        "| lvr      | ratio of size of loan to assessed value of property      | size_of_loan_to_assessed_value_of_property_ratio      |\n",
        "| ccs   | consumer credit score from 1 to 6 (a low value being a good score)        | consumer_credit_score      |\n",
        "| mcs      | mortgage credit score from 1 to 4 (a low value being a good score)      | mortgage_credit_score_from      |\n",
        "| pbcr   | public bad credit record?        | public_bad_credit_record      |\n",
        "| dmi   | denied mortgage insurance ?       | denied_mortgage_insurance      |\n",
        "| self      | self employed?       | self_employed      |\n",
        "| single   | is the applicant single?      | single      |\n",
        "| uria      | 1989 Massachusetts unemployment rate in the applicant’s industry       | unemployment_rate_in_the_applicant’s_industry      |\n",
        "| condominium   | is unit a condominium?        | condominium      |\n",
        "| black      | is the applicant black?       | black      |\n",
        "| deny   | mortgage application denied?        | deny      |"
      ]
    },
    {
      "cell_type": "code",
      "execution_count": 6,
      "metadata": {
        "id": "JGST_XbkPl9X"
      },
      "outputs": [],
      "source": [
        "new_column_names = [\"_\".join(\"debt payments to total income ratio\".split()),\n",
        "\"_\".join(\"housing expenses to income ratio\".split()),\n",
        " \"_\".join(\"size of loan to assessed value of property ratio\".split()),\n",
        " \"_\".join(\"consumer credit score\".split()),\n",
        " \"_\".join(\"mortgage credit score\".split()),\n",
        " \"_\".join(\"public bad credit record\".split()),\n",
        " \"_\".join(\"denied mortgage insurance\".split()),\n",
        " \"_\".join(\"self employed\".split()),\n",
        " \"_\".join(\"single\".split()),\n",
        " \"_\".join(\"unemployment rate in the applicant’s industry\".split()),\n",
        " \"_\".join(\"condominium\".split()),\n",
        " \"_\".join(\"black\".split()),\n",
        " \"_\".join(\"deny\".split())]\n",
        "\n",
        "\n",
        "df.columns = new_column_names"
      ]
    },
    {
      "cell_type": "code",
      "execution_count": 7,
      "metadata": {
        "colab": {
          "base_uri": "https://localhost:8080/",
          "height": 270
        },
        "id": "zCZKkkJWWWpx",
        "outputId": "be8be7dc-faab-4fce-d220-924c24104cec"
      },
      "outputs": [
        {
          "output_type": "execute_result",
          "data": {
            "text/plain": [
              "   debt_payments_to_total_income_ratio  housing_expenses_to_income_ratio  \\\n",
              "0                                0.221                             0.221   \n",
              "1                                0.265                             0.265   \n",
              "2                                0.372                             0.248   \n",
              "3                                0.320                             0.250   \n",
              "4                                0.360                             0.350   \n",
              "\n",
              "   size_of_loan_to_assessed_value_of_property_ratio  consumer_credit_score  \\\n",
              "0                                          0.800000                    5.0   \n",
              "1                                          0.921875                    2.0   \n",
              "2                                          0.920398                    1.0   \n",
              "3                                          0.860465                    1.0   \n",
              "4                                          0.600000                    1.0   \n",
              "\n",
              "   mortgage_credit_score public_bad_credit_record denied_mortgage_insurance  \\\n",
              "0                    2.0                       no                        no   \n",
              "1                    2.0                       no                        no   \n",
              "2                    2.0                       no                        no   \n",
              "3                    2.0                       no                        no   \n",
              "4                    1.0                       no                        no   \n",
              "\n",
              "  self_employed single  unemployment_rate_in_the_applicant’s_industry  \\\n",
              "0            no     no                                            3.9   \n",
              "1            no    yes                                            3.2   \n",
              "2            no     no                                            3.2   \n",
              "3            no     no                                            4.3   \n",
              "4            no     no                                            3.2   \n",
              "\n",
              "   condominium black deny  \n",
              "0            0    no   no  \n",
              "1            0    no   no  \n",
              "2            0    no   no  \n",
              "3            0    no   no  \n",
              "4            0    no   no  "
            ],
            "text/html": [
              "\n",
              "  <div id=\"df-d41b4acb-1621-4046-960a-58a79c03c508\">\n",
              "    <div class=\"colab-df-container\">\n",
              "      <div>\n",
              "<style scoped>\n",
              "    .dataframe tbody tr th:only-of-type {\n",
              "        vertical-align: middle;\n",
              "    }\n",
              "\n",
              "    .dataframe tbody tr th {\n",
              "        vertical-align: top;\n",
              "    }\n",
              "\n",
              "    .dataframe thead th {\n",
              "        text-align: right;\n",
              "    }\n",
              "</style>\n",
              "<table border=\"1\" class=\"dataframe\">\n",
              "  <thead>\n",
              "    <tr style=\"text-align: right;\">\n",
              "      <th></th>\n",
              "      <th>debt_payments_to_total_income_ratio</th>\n",
              "      <th>housing_expenses_to_income_ratio</th>\n",
              "      <th>size_of_loan_to_assessed_value_of_property_ratio</th>\n",
              "      <th>consumer_credit_score</th>\n",
              "      <th>mortgage_credit_score</th>\n",
              "      <th>public_bad_credit_record</th>\n",
              "      <th>denied_mortgage_insurance</th>\n",
              "      <th>self_employed</th>\n",
              "      <th>single</th>\n",
              "      <th>unemployment_rate_in_the_applicant’s_industry</th>\n",
              "      <th>condominium</th>\n",
              "      <th>black</th>\n",
              "      <th>deny</th>\n",
              "    </tr>\n",
              "  </thead>\n",
              "  <tbody>\n",
              "    <tr>\n",
              "      <th>0</th>\n",
              "      <td>0.221</td>\n",
              "      <td>0.221</td>\n",
              "      <td>0.800000</td>\n",
              "      <td>5.0</td>\n",
              "      <td>2.0</td>\n",
              "      <td>no</td>\n",
              "      <td>no</td>\n",
              "      <td>no</td>\n",
              "      <td>no</td>\n",
              "      <td>3.9</td>\n",
              "      <td>0</td>\n",
              "      <td>no</td>\n",
              "      <td>no</td>\n",
              "    </tr>\n",
              "    <tr>\n",
              "      <th>1</th>\n",
              "      <td>0.265</td>\n",
              "      <td>0.265</td>\n",
              "      <td>0.921875</td>\n",
              "      <td>2.0</td>\n",
              "      <td>2.0</td>\n",
              "      <td>no</td>\n",
              "      <td>no</td>\n",
              "      <td>no</td>\n",
              "      <td>yes</td>\n",
              "      <td>3.2</td>\n",
              "      <td>0</td>\n",
              "      <td>no</td>\n",
              "      <td>no</td>\n",
              "    </tr>\n",
              "    <tr>\n",
              "      <th>2</th>\n",
              "      <td>0.372</td>\n",
              "      <td>0.248</td>\n",
              "      <td>0.920398</td>\n",
              "      <td>1.0</td>\n",
              "      <td>2.0</td>\n",
              "      <td>no</td>\n",
              "      <td>no</td>\n",
              "      <td>no</td>\n",
              "      <td>no</td>\n",
              "      <td>3.2</td>\n",
              "      <td>0</td>\n",
              "      <td>no</td>\n",
              "      <td>no</td>\n",
              "    </tr>\n",
              "    <tr>\n",
              "      <th>3</th>\n",
              "      <td>0.320</td>\n",
              "      <td>0.250</td>\n",
              "      <td>0.860465</td>\n",
              "      <td>1.0</td>\n",
              "      <td>2.0</td>\n",
              "      <td>no</td>\n",
              "      <td>no</td>\n",
              "      <td>no</td>\n",
              "      <td>no</td>\n",
              "      <td>4.3</td>\n",
              "      <td>0</td>\n",
              "      <td>no</td>\n",
              "      <td>no</td>\n",
              "    </tr>\n",
              "    <tr>\n",
              "      <th>4</th>\n",
              "      <td>0.360</td>\n",
              "      <td>0.350</td>\n",
              "      <td>0.600000</td>\n",
              "      <td>1.0</td>\n",
              "      <td>1.0</td>\n",
              "      <td>no</td>\n",
              "      <td>no</td>\n",
              "      <td>no</td>\n",
              "      <td>no</td>\n",
              "      <td>3.2</td>\n",
              "      <td>0</td>\n",
              "      <td>no</td>\n",
              "      <td>no</td>\n",
              "    </tr>\n",
              "  </tbody>\n",
              "</table>\n",
              "</div>\n",
              "      <button class=\"colab-df-convert\" onclick=\"convertToInteractive('df-d41b4acb-1621-4046-960a-58a79c03c508')\"\n",
              "              title=\"Convert this dataframe to an interactive table.\"\n",
              "              style=\"display:none;\">\n",
              "        \n",
              "  <svg xmlns=\"http://www.w3.org/2000/svg\" height=\"24px\"viewBox=\"0 0 24 24\"\n",
              "       width=\"24px\">\n",
              "    <path d=\"M0 0h24v24H0V0z\" fill=\"none\"/>\n",
              "    <path d=\"M18.56 5.44l.94 2.06.94-2.06 2.06-.94-2.06-.94-.94-2.06-.94 2.06-2.06.94zm-11 1L8.5 8.5l.94-2.06 2.06-.94-2.06-.94L8.5 2.5l-.94 2.06-2.06.94zm10 10l.94 2.06.94-2.06 2.06-.94-2.06-.94-.94-2.06-.94 2.06-2.06.94z\"/><path d=\"M17.41 7.96l-1.37-1.37c-.4-.4-.92-.59-1.43-.59-.52 0-1.04.2-1.43.59L10.3 9.45l-7.72 7.72c-.78.78-.78 2.05 0 2.83L4 21.41c.39.39.9.59 1.41.59.51 0 1.02-.2 1.41-.59l7.78-7.78 2.81-2.81c.8-.78.8-2.07 0-2.86zM5.41 20L4 18.59l7.72-7.72 1.47 1.35L5.41 20z\"/>\n",
              "  </svg>\n",
              "      </button>\n",
              "      \n",
              "  <style>\n",
              "    .colab-df-container {\n",
              "      display:flex;\n",
              "      flex-wrap:wrap;\n",
              "      gap: 12px;\n",
              "    }\n",
              "\n",
              "    .colab-df-convert {\n",
              "      background-color: #E8F0FE;\n",
              "      border: none;\n",
              "      border-radius: 50%;\n",
              "      cursor: pointer;\n",
              "      display: none;\n",
              "      fill: #1967D2;\n",
              "      height: 32px;\n",
              "      padding: 0 0 0 0;\n",
              "      width: 32px;\n",
              "    }\n",
              "\n",
              "    .colab-df-convert:hover {\n",
              "      background-color: #E2EBFA;\n",
              "      box-shadow: 0px 1px 2px rgba(60, 64, 67, 0.3), 0px 1px 3px 1px rgba(60, 64, 67, 0.15);\n",
              "      fill: #174EA6;\n",
              "    }\n",
              "\n",
              "    [theme=dark] .colab-df-convert {\n",
              "      background-color: #3B4455;\n",
              "      fill: #D2E3FC;\n",
              "    }\n",
              "\n",
              "    [theme=dark] .colab-df-convert:hover {\n",
              "      background-color: #434B5C;\n",
              "      box-shadow: 0px 1px 3px 1px rgba(0, 0, 0, 0.15);\n",
              "      filter: drop-shadow(0px 1px 2px rgba(0, 0, 0, 0.3));\n",
              "      fill: #FFFFFF;\n",
              "    }\n",
              "  </style>\n",
              "\n",
              "      <script>\n",
              "        const buttonEl =\n",
              "          document.querySelector('#df-d41b4acb-1621-4046-960a-58a79c03c508 button.colab-df-convert');\n",
              "        buttonEl.style.display =\n",
              "          google.colab.kernel.accessAllowed ? 'block' : 'none';\n",
              "\n",
              "        async function convertToInteractive(key) {\n",
              "          const element = document.querySelector('#df-d41b4acb-1621-4046-960a-58a79c03c508');\n",
              "          const dataTable =\n",
              "            await google.colab.kernel.invokeFunction('convertToInteractive',\n",
              "                                                     [key], {});\n",
              "          if (!dataTable) return;\n",
              "\n",
              "          const docLinkHtml = 'Like what you see? Visit the ' +\n",
              "            '<a target=\"_blank\" href=https://colab.research.google.com/notebooks/data_table.ipynb>data table notebook</a>'\n",
              "            + ' to learn more about interactive tables.';\n",
              "          element.innerHTML = '';\n",
              "          dataTable['output_type'] = 'display_data';\n",
              "          await google.colab.output.renderOutput(dataTable, element);\n",
              "          const docLink = document.createElement('div');\n",
              "          docLink.innerHTML = docLinkHtml;\n",
              "          element.appendChild(docLink);\n",
              "        }\n",
              "      </script>\n",
              "    </div>\n",
              "  </div>\n",
              "  "
            ]
          },
          "metadata": {},
          "execution_count": 7
        }
      ],
      "source": [
        "df.head()"
      ]
    },
    {
      "cell_type": "code",
      "execution_count": 8,
      "metadata": {
        "colab": {
          "base_uri": "https://localhost:8080/"
        },
        "id": "5SjIQ8vKDyVv",
        "outputId": "b2dff9fa-7834-4856-8dec-eefdb7e6b332"
      },
      "outputs": [
        {
          "output_type": "stream",
          "name": "stdout",
          "text": [
            "<class 'pandas.core.frame.DataFrame'>\n",
            "RangeIndex: 2381 entries, 0 to 2380\n",
            "Data columns (total 13 columns):\n",
            " #   Column                                            Non-Null Count  Dtype  \n",
            "---  ------                                            --------------  -----  \n",
            " 0   debt_payments_to_total_income_ratio               2381 non-null   float64\n",
            " 1   housing_expenses_to_income_ratio                  2381 non-null   float64\n",
            " 2   size_of_loan_to_assessed_value_of_property_ratio  2381 non-null   float64\n",
            " 3   consumer_credit_score                             2381 non-null   float64\n",
            " 4   mortgage_credit_score                             2381 non-null   float64\n",
            " 5   public_bad_credit_record                          2380 non-null   object \n",
            " 6   denied_mortgage_insurance                         2381 non-null   object \n",
            " 7   self_employed                                     2380 non-null   object \n",
            " 8   single                                            2381 non-null   object \n",
            " 9   unemployment_rate_in_the_applicant’s_industry     2381 non-null   float64\n",
            " 10  condominium                                       2381 non-null   int64  \n",
            " 11  black                                             2381 non-null   object \n",
            " 12  deny                                              2381 non-null   object \n",
            "dtypes: float64(6), int64(1), object(6)\n",
            "memory usage: 241.9+ KB\n"
          ]
        }
      ],
      "source": [
        "df.info()"
      ]
    },
    {
      "cell_type": "code",
      "execution_count": 9,
      "metadata": {
        "colab": {
          "base_uri": "https://localhost:8080/",
          "height": 364
        },
        "id": "CWVinQFZDk4x",
        "outputId": "9fc00dd2-c9a7-4f5c-d158-f28ecce7d782"
      },
      "outputs": [
        {
          "output_type": "execute_result",
          "data": {
            "text/plain": [
              "       debt_payments_to_total_income_ratio  housing_expenses_to_income_ratio  \\\n",
              "count                          2381.000000                       2381.000000   \n",
              "mean                              0.330814                          0.255346   \n",
              "std                               0.107235                          0.096635   \n",
              "min                               0.000000                          0.000000   \n",
              "25%                               0.280000                          0.214000   \n",
              "50%                               0.330000                          0.260000   \n",
              "75%                               0.370000                          0.298800   \n",
              "max                               3.000000                          3.000000   \n",
              "\n",
              "       size_of_loan_to_assessed_value_of_property_ratio  \\\n",
              "count                                       2381.000000   \n",
              "mean                                           0.737760   \n",
              "std                                            0.178715   \n",
              "min                                            0.020000   \n",
              "25%                                            0.652850   \n",
              "50%                                            0.779412   \n",
              "75%                                            0.868421   \n",
              "max                                            1.950000   \n",
              "\n",
              "       consumer_credit_score  mortgage_credit_score  \\\n",
              "count            2381.000000            2381.000000   \n",
              "mean                2.116387               1.721008   \n",
              "std                 1.666370               0.537169   \n",
              "min                 1.000000               1.000000   \n",
              "25%                 1.000000               1.000000   \n",
              "50%                 1.000000               2.000000   \n",
              "75%                 2.000000               2.000000   \n",
              "max                 6.000000               4.000000   \n",
              "\n",
              "       unemployment_rate_in_the_applicant’s_industry  condominium  \n",
              "count                                    2381.000000  2381.000000  \n",
              "mean                                        3.774496     0.288114  \n",
              "std                                         2.026636     0.452980  \n",
              "min                                         1.800000     0.000000  \n",
              "25%                                         3.100000     0.000000  \n",
              "50%                                         3.200000     0.000000  \n",
              "75%                                         3.900000     1.000000  \n",
              "max                                        10.600000     1.000000  "
            ],
            "text/html": [
              "\n",
              "  <div id=\"df-d6f78110-e177-419f-9fe1-ca71f427f006\">\n",
              "    <div class=\"colab-df-container\">\n",
              "      <div>\n",
              "<style scoped>\n",
              "    .dataframe tbody tr th:only-of-type {\n",
              "        vertical-align: middle;\n",
              "    }\n",
              "\n",
              "    .dataframe tbody tr th {\n",
              "        vertical-align: top;\n",
              "    }\n",
              "\n",
              "    .dataframe thead th {\n",
              "        text-align: right;\n",
              "    }\n",
              "</style>\n",
              "<table border=\"1\" class=\"dataframe\">\n",
              "  <thead>\n",
              "    <tr style=\"text-align: right;\">\n",
              "      <th></th>\n",
              "      <th>debt_payments_to_total_income_ratio</th>\n",
              "      <th>housing_expenses_to_income_ratio</th>\n",
              "      <th>size_of_loan_to_assessed_value_of_property_ratio</th>\n",
              "      <th>consumer_credit_score</th>\n",
              "      <th>mortgage_credit_score</th>\n",
              "      <th>unemployment_rate_in_the_applicant’s_industry</th>\n",
              "      <th>condominium</th>\n",
              "    </tr>\n",
              "  </thead>\n",
              "  <tbody>\n",
              "    <tr>\n",
              "      <th>count</th>\n",
              "      <td>2381.000000</td>\n",
              "      <td>2381.000000</td>\n",
              "      <td>2381.000000</td>\n",
              "      <td>2381.000000</td>\n",
              "      <td>2381.000000</td>\n",
              "      <td>2381.000000</td>\n",
              "      <td>2381.000000</td>\n",
              "    </tr>\n",
              "    <tr>\n",
              "      <th>mean</th>\n",
              "      <td>0.330814</td>\n",
              "      <td>0.255346</td>\n",
              "      <td>0.737760</td>\n",
              "      <td>2.116387</td>\n",
              "      <td>1.721008</td>\n",
              "      <td>3.774496</td>\n",
              "      <td>0.288114</td>\n",
              "    </tr>\n",
              "    <tr>\n",
              "      <th>std</th>\n",
              "      <td>0.107235</td>\n",
              "      <td>0.096635</td>\n",
              "      <td>0.178715</td>\n",
              "      <td>1.666370</td>\n",
              "      <td>0.537169</td>\n",
              "      <td>2.026636</td>\n",
              "      <td>0.452980</td>\n",
              "    </tr>\n",
              "    <tr>\n",
              "      <th>min</th>\n",
              "      <td>0.000000</td>\n",
              "      <td>0.000000</td>\n",
              "      <td>0.020000</td>\n",
              "      <td>1.000000</td>\n",
              "      <td>1.000000</td>\n",
              "      <td>1.800000</td>\n",
              "      <td>0.000000</td>\n",
              "    </tr>\n",
              "    <tr>\n",
              "      <th>25%</th>\n",
              "      <td>0.280000</td>\n",
              "      <td>0.214000</td>\n",
              "      <td>0.652850</td>\n",
              "      <td>1.000000</td>\n",
              "      <td>1.000000</td>\n",
              "      <td>3.100000</td>\n",
              "      <td>0.000000</td>\n",
              "    </tr>\n",
              "    <tr>\n",
              "      <th>50%</th>\n",
              "      <td>0.330000</td>\n",
              "      <td>0.260000</td>\n",
              "      <td>0.779412</td>\n",
              "      <td>1.000000</td>\n",
              "      <td>2.000000</td>\n",
              "      <td>3.200000</td>\n",
              "      <td>0.000000</td>\n",
              "    </tr>\n",
              "    <tr>\n",
              "      <th>75%</th>\n",
              "      <td>0.370000</td>\n",
              "      <td>0.298800</td>\n",
              "      <td>0.868421</td>\n",
              "      <td>2.000000</td>\n",
              "      <td>2.000000</td>\n",
              "      <td>3.900000</td>\n",
              "      <td>1.000000</td>\n",
              "    </tr>\n",
              "    <tr>\n",
              "      <th>max</th>\n",
              "      <td>3.000000</td>\n",
              "      <td>3.000000</td>\n",
              "      <td>1.950000</td>\n",
              "      <td>6.000000</td>\n",
              "      <td>4.000000</td>\n",
              "      <td>10.600000</td>\n",
              "      <td>1.000000</td>\n",
              "    </tr>\n",
              "  </tbody>\n",
              "</table>\n",
              "</div>\n",
              "      <button class=\"colab-df-convert\" onclick=\"convertToInteractive('df-d6f78110-e177-419f-9fe1-ca71f427f006')\"\n",
              "              title=\"Convert this dataframe to an interactive table.\"\n",
              "              style=\"display:none;\">\n",
              "        \n",
              "  <svg xmlns=\"http://www.w3.org/2000/svg\" height=\"24px\"viewBox=\"0 0 24 24\"\n",
              "       width=\"24px\">\n",
              "    <path d=\"M0 0h24v24H0V0z\" fill=\"none\"/>\n",
              "    <path d=\"M18.56 5.44l.94 2.06.94-2.06 2.06-.94-2.06-.94-.94-2.06-.94 2.06-2.06.94zm-11 1L8.5 8.5l.94-2.06 2.06-.94-2.06-.94L8.5 2.5l-.94 2.06-2.06.94zm10 10l.94 2.06.94-2.06 2.06-.94-2.06-.94-.94-2.06-.94 2.06-2.06.94z\"/><path d=\"M17.41 7.96l-1.37-1.37c-.4-.4-.92-.59-1.43-.59-.52 0-1.04.2-1.43.59L10.3 9.45l-7.72 7.72c-.78.78-.78 2.05 0 2.83L4 21.41c.39.39.9.59 1.41.59.51 0 1.02-.2 1.41-.59l7.78-7.78 2.81-2.81c.8-.78.8-2.07 0-2.86zM5.41 20L4 18.59l7.72-7.72 1.47 1.35L5.41 20z\"/>\n",
              "  </svg>\n",
              "      </button>\n",
              "      \n",
              "  <style>\n",
              "    .colab-df-container {\n",
              "      display:flex;\n",
              "      flex-wrap:wrap;\n",
              "      gap: 12px;\n",
              "    }\n",
              "\n",
              "    .colab-df-convert {\n",
              "      background-color: #E8F0FE;\n",
              "      border: none;\n",
              "      border-radius: 50%;\n",
              "      cursor: pointer;\n",
              "      display: none;\n",
              "      fill: #1967D2;\n",
              "      height: 32px;\n",
              "      padding: 0 0 0 0;\n",
              "      width: 32px;\n",
              "    }\n",
              "\n",
              "    .colab-df-convert:hover {\n",
              "      background-color: #E2EBFA;\n",
              "      box-shadow: 0px 1px 2px rgba(60, 64, 67, 0.3), 0px 1px 3px 1px rgba(60, 64, 67, 0.15);\n",
              "      fill: #174EA6;\n",
              "    }\n",
              "\n",
              "    [theme=dark] .colab-df-convert {\n",
              "      background-color: #3B4455;\n",
              "      fill: #D2E3FC;\n",
              "    }\n",
              "\n",
              "    [theme=dark] .colab-df-convert:hover {\n",
              "      background-color: #434B5C;\n",
              "      box-shadow: 0px 1px 3px 1px rgba(0, 0, 0, 0.15);\n",
              "      filter: drop-shadow(0px 1px 2px rgba(0, 0, 0, 0.3));\n",
              "      fill: #FFFFFF;\n",
              "    }\n",
              "  </style>\n",
              "\n",
              "      <script>\n",
              "        const buttonEl =\n",
              "          document.querySelector('#df-d6f78110-e177-419f-9fe1-ca71f427f006 button.colab-df-convert');\n",
              "        buttonEl.style.display =\n",
              "          google.colab.kernel.accessAllowed ? 'block' : 'none';\n",
              "\n",
              "        async function convertToInteractive(key) {\n",
              "          const element = document.querySelector('#df-d6f78110-e177-419f-9fe1-ca71f427f006');\n",
              "          const dataTable =\n",
              "            await google.colab.kernel.invokeFunction('convertToInteractive',\n",
              "                                                     [key], {});\n",
              "          if (!dataTable) return;\n",
              "\n",
              "          const docLinkHtml = 'Like what you see? Visit the ' +\n",
              "            '<a target=\"_blank\" href=https://colab.research.google.com/notebooks/data_table.ipynb>data table notebook</a>'\n",
              "            + ' to learn more about interactive tables.';\n",
              "          element.innerHTML = '';\n",
              "          dataTable['output_type'] = 'display_data';\n",
              "          await google.colab.output.renderOutput(dataTable, element);\n",
              "          const docLink = document.createElement('div');\n",
              "          docLink.innerHTML = docLinkHtml;\n",
              "          element.appendChild(docLink);\n",
              "        }\n",
              "      </script>\n",
              "    </div>\n",
              "  </div>\n",
              "  "
            ]
          },
          "metadata": {},
          "execution_count": 9
        }
      ],
      "source": [
        "df.describe()"
      ]
    },
    {
      "cell_type": "markdown",
      "metadata": {
        "id": "260tkkbeXcdg"
      },
      "source": [
        "b) Volkswirtschaftler möchten herausfinden, was die möglichen Einflussfaktoren auf die\n",
        "Ablehnung eines Kreditantrags sind, und ob es eine rassistische Diskriminierung gibt. Welcher Typ von Aufgabe des maschinellen Lernens ist für diese Aufgabe geeignet? Welche\n",
        "Methoden kann man benutzen?"
      ]
    },
    {
      "cell_type": "markdown",
      "metadata": {
        "id": "Aq7C6agFjDZf"
      },
      "source": [
        "**Antwort:** \n",
        "Grundsätzlich kann die Aufgabe der Feature Selection im Maschninellen Lernen Auskunft darüber geben wie groß der Einflussfaktor einzelner Features auf die Target Variable ist. Zum Beispiel eignen sich die Klassen im [sklearn.feature_selection](https://scikit-learn.org/stable/modules/feature_selection.html#feature-selection) Modul um disen Zusammenhang zu untersuchen. Eine Methode um hiermit den Zusammenhang zwischen Featuren und der Target Variable zu untersuchen ist die Nutzung von statistischen Tests. Die Art des anzuwendenden statistischen Tests richtet sich nach dem Datentyp (categorical, ordinal und numeric) des Features (siehe Aufgabe 4). \n",
        "\n",
        "Eine weitere Methode ist pandas interne DataFrame.corr() Funktion mit der man die paarweise Korrelation zwischen Spalten bestimmen kann. Diese wird typischerweise ebenfalls im Feature Selection Prozess angewendet. Die gewünschte Korrelationsmethode (Pearson, Spearman, Kendalls Tau) kann hierbei gewählt werden.\n",
        "\n",
        "Eine weitere Methode findet sich in der Betrachtung von Decision Tree Algorithmen. Hierbei kann das Auswahlkriterium zur Aufteilung der Daten (z.B. der Information Gain) eines Features genutzt werden um Aussagen über den Einfluss dieses Features auf die Target Variable zu machen. Decision Trees sind nämlich genau nach dem Prinzip aufgebaut, dass die Features mit dem größten Einfluss näher an der Wurzel lokalisiert sind. Beispielsweise kann man in sklearn über das feature_importances_ Attribut eines Entscheidungsbaum auf diese Größe zugreifen. \n",
        "\n",
        "\n",
        "\n",
        "Mit den oben vorgestellten Methoden kann der Zusammenhang zwischen dem Feature **black** und dem Target **deny** ermittelt werden. Daraus kann man ableiten ob eine rassistische Diskrimierung vorliegt.\n",
        "\n",
        "\n",
        "In die Kontextsensitive Systeme Vorlesun reingucken!\n",
        "\n",
        "Furthermore, impurity-based feature importance for trees are strongly biased and favor high cardinality features (typically numerical features) over low cardinality features such as binary features or categorical variables with a small number of possible categories.\n",
        "\n",
        "Ggf. noch Permutation Feature Importance aus Sklearn mitaufnehmen: https://scikit-learn.org/stable/modules/permutation_importance.html#permutation-importance"
      ]
    },
    {
      "cell_type": "code",
      "execution_count": 9,
      "metadata": {
        "id": "Cy7cEUKh_IwE"
      },
      "outputs": [],
      "source": [
        ""
      ]
    },
    {
      "cell_type": "markdown",
      "metadata": {
        "id": "NRCm5dAufN5S"
      },
      "source": [
        "c) Ist Datenvorverarbeitung nötig? Warum? Falls nötig, verarbeiten Sie die Daten vor."
      ]
    },
    {
      "cell_type": "markdown",
      "metadata": {
        "id": "u2mznWtTfTTM"
      },
      "source": [
        "**Antwort:** <br> Für einige der statistischen Tests, für die DataFrame.corr() Funktion und viele der ALG in Teilaufgabe f) ist es notwendig die nominalen Daten mit den Ausprägungen \"yes\" und \"no\" in numerische Daten (\"0\" bzw. \"1\") umzuwandeln. Dies trifft auf folgende Features zu: **public_bad_credit_record, denied_mortgage_insurance, self_employed, single, unemployment_rate_in_the_applicant’s_industry, black**. Und das Target: **deny**.\n",
        "\n",
        "In der obigen Ausgabe von df.info() haben wir gesehen, dass es zwei Attribute mit einer NaN Ausprägung gibt. Die zugehörigen Beobachtungen werden wir aus dem Datensatz löschen, da diese in ML Algorithmen Probleme verursachen können.\n",
        "\n",
        "\n",
        "Muss man für die Anwendung von Decision Trees, die Daten in Intervalle einteilen?\n",
        "\n",
        "Feaute Importance is misleading for features that have many unique values! https://scikit-learn.org/stable/auto_examples/ensemble/plot_forest_importances.html Therefore we need Data Preparation"
      ]
    },
    {
      "cell_type": "code",
      "execution_count": 10,
      "metadata": {
        "id": "ORSl82mpgVQu"
      },
      "outputs": [],
      "source": [
        "#Transformieren von nominalen Daten in numerische Daten\n",
        "\n",
        "yes_no_to_int = {\"yes\": 1, \"no\": 0}\n",
        "\n",
        "for column in df.columns:\n",
        " if df[column].dtype == \"object\":\n",
        "    df[column] = df[column].map(yes_no_to_int)\n"
      ]
    },
    {
      "cell_type": "code",
      "execution_count": 11,
      "metadata": {
        "id": "ayTlcO5GFDN7"
      },
      "outputs": [],
      "source": [
        "#Beobachtung mit NaN Ausprägung ausfindig machen und aus dem Datensatz löschen\n",
        "import numpy as np\n",
        "df[df.isin([np.nan]).any(1)]\n",
        "df = df.dropna()"
      ]
    },
    {
      "cell_type": "code",
      "execution_count": 12,
      "metadata": {
        "colab": {
          "base_uri": "https://localhost:8080/",
          "height": 364
        },
        "id": "CPAkaztyGSOg",
        "outputId": "33419f19-a695-4e02-d1e2-70ff3470e326"
      },
      "outputs": [
        {
          "output_type": "execute_result",
          "data": {
            "text/plain": [
              "       debt_payments_to_total_income_ratio  housing_expenses_to_income_ratio  \\\n",
              "count                          2380.000000                       2380.000000   \n",
              "mean                              0.330814                          0.255346   \n",
              "std                               0.107257                          0.096656   \n",
              "min                               0.000000                          0.000000   \n",
              "25%                               0.280000                          0.214000   \n",
              "50%                               0.330000                          0.260000   \n",
              "75%                               0.370000                          0.298825   \n",
              "max                               3.000000                          3.000000   \n",
              "\n",
              "       size_of_loan_to_assessed_value_of_property_ratio  \\\n",
              "count                                       2380.000000   \n",
              "mean                                           0.737776   \n",
              "std                                            0.178751   \n",
              "min                                            0.020000   \n",
              "25%                                            0.652681   \n",
              "50%                                            0.779536   \n",
              "75%                                            0.868459   \n",
              "max                                            1.950000   \n",
              "\n",
              "       consumer_credit_score  mortgage_credit_score  public_bad_credit_record  \\\n",
              "count            2380.000000            2380.000000               2380.000000   \n",
              "mean                2.116387               1.721008                  0.073529   \n",
              "std                 1.666721               0.537282                  0.261058   \n",
              "min                 1.000000               1.000000                  0.000000   \n",
              "25%                 1.000000               1.000000                  0.000000   \n",
              "50%                 1.000000               2.000000                  0.000000   \n",
              "75%                 2.000000               2.000000                  0.000000   \n",
              "max                 6.000000               4.000000                  1.000000   \n",
              "\n",
              "       denied_mortgage_insurance  self_employed       single  \\\n",
              "count                2380.000000    2380.000000  2380.000000   \n",
              "mean                    0.020168       0.116387     0.393277   \n",
              "std                     0.140604       0.320755     0.488580   \n",
              "min                     0.000000       0.000000     0.000000   \n",
              "25%                     0.000000       0.000000     0.000000   \n",
              "50%                     0.000000       0.000000     0.000000   \n",
              "75%                     0.000000       0.000000     1.000000   \n",
              "max                     1.000000       1.000000     1.000000   \n",
              "\n",
              "       unemployment_rate_in_the_applicant’s_industry  condominium  \\\n",
              "count                                    2380.000000  2380.000000   \n",
              "mean                                        3.774496     0.288235   \n",
              "std                                         2.027062     0.453036   \n",
              "min                                         1.800000     0.000000   \n",
              "25%                                         3.100000     0.000000   \n",
              "50%                                         3.200000     0.000000   \n",
              "75%                                         3.900000     1.000000   \n",
              "max                                        10.600000     1.000000   \n",
              "\n",
              "             black         deny  \n",
              "count  2380.000000  2380.000000  \n",
              "mean      0.142437     0.119748  \n",
              "std       0.349571     0.324735  \n",
              "min       0.000000     0.000000  \n",
              "25%       0.000000     0.000000  \n",
              "50%       0.000000     0.000000  \n",
              "75%       0.000000     0.000000  \n",
              "max       1.000000     1.000000  "
            ],
            "text/html": [
              "\n",
              "  <div id=\"df-01e44317-324e-400c-b14c-4f1334cf1811\">\n",
              "    <div class=\"colab-df-container\">\n",
              "      <div>\n",
              "<style scoped>\n",
              "    .dataframe tbody tr th:only-of-type {\n",
              "        vertical-align: middle;\n",
              "    }\n",
              "\n",
              "    .dataframe tbody tr th {\n",
              "        vertical-align: top;\n",
              "    }\n",
              "\n",
              "    .dataframe thead th {\n",
              "        text-align: right;\n",
              "    }\n",
              "</style>\n",
              "<table border=\"1\" class=\"dataframe\">\n",
              "  <thead>\n",
              "    <tr style=\"text-align: right;\">\n",
              "      <th></th>\n",
              "      <th>debt_payments_to_total_income_ratio</th>\n",
              "      <th>housing_expenses_to_income_ratio</th>\n",
              "      <th>size_of_loan_to_assessed_value_of_property_ratio</th>\n",
              "      <th>consumer_credit_score</th>\n",
              "      <th>mortgage_credit_score</th>\n",
              "      <th>public_bad_credit_record</th>\n",
              "      <th>denied_mortgage_insurance</th>\n",
              "      <th>self_employed</th>\n",
              "      <th>single</th>\n",
              "      <th>unemployment_rate_in_the_applicant’s_industry</th>\n",
              "      <th>condominium</th>\n",
              "      <th>black</th>\n",
              "      <th>deny</th>\n",
              "    </tr>\n",
              "  </thead>\n",
              "  <tbody>\n",
              "    <tr>\n",
              "      <th>count</th>\n",
              "      <td>2380.000000</td>\n",
              "      <td>2380.000000</td>\n",
              "      <td>2380.000000</td>\n",
              "      <td>2380.000000</td>\n",
              "      <td>2380.000000</td>\n",
              "      <td>2380.000000</td>\n",
              "      <td>2380.000000</td>\n",
              "      <td>2380.000000</td>\n",
              "      <td>2380.000000</td>\n",
              "      <td>2380.000000</td>\n",
              "      <td>2380.000000</td>\n",
              "      <td>2380.000000</td>\n",
              "      <td>2380.000000</td>\n",
              "    </tr>\n",
              "    <tr>\n",
              "      <th>mean</th>\n",
              "      <td>0.330814</td>\n",
              "      <td>0.255346</td>\n",
              "      <td>0.737776</td>\n",
              "      <td>2.116387</td>\n",
              "      <td>1.721008</td>\n",
              "      <td>0.073529</td>\n",
              "      <td>0.020168</td>\n",
              "      <td>0.116387</td>\n",
              "      <td>0.393277</td>\n",
              "      <td>3.774496</td>\n",
              "      <td>0.288235</td>\n",
              "      <td>0.142437</td>\n",
              "      <td>0.119748</td>\n",
              "    </tr>\n",
              "    <tr>\n",
              "      <th>std</th>\n",
              "      <td>0.107257</td>\n",
              "      <td>0.096656</td>\n",
              "      <td>0.178751</td>\n",
              "      <td>1.666721</td>\n",
              "      <td>0.537282</td>\n",
              "      <td>0.261058</td>\n",
              "      <td>0.140604</td>\n",
              "      <td>0.320755</td>\n",
              "      <td>0.488580</td>\n",
              "      <td>2.027062</td>\n",
              "      <td>0.453036</td>\n",
              "      <td>0.349571</td>\n",
              "      <td>0.324735</td>\n",
              "    </tr>\n",
              "    <tr>\n",
              "      <th>min</th>\n",
              "      <td>0.000000</td>\n",
              "      <td>0.000000</td>\n",
              "      <td>0.020000</td>\n",
              "      <td>1.000000</td>\n",
              "      <td>1.000000</td>\n",
              "      <td>0.000000</td>\n",
              "      <td>0.000000</td>\n",
              "      <td>0.000000</td>\n",
              "      <td>0.000000</td>\n",
              "      <td>1.800000</td>\n",
              "      <td>0.000000</td>\n",
              "      <td>0.000000</td>\n",
              "      <td>0.000000</td>\n",
              "    </tr>\n",
              "    <tr>\n",
              "      <th>25%</th>\n",
              "      <td>0.280000</td>\n",
              "      <td>0.214000</td>\n",
              "      <td>0.652681</td>\n",
              "      <td>1.000000</td>\n",
              "      <td>1.000000</td>\n",
              "      <td>0.000000</td>\n",
              "      <td>0.000000</td>\n",
              "      <td>0.000000</td>\n",
              "      <td>0.000000</td>\n",
              "      <td>3.100000</td>\n",
              "      <td>0.000000</td>\n",
              "      <td>0.000000</td>\n",
              "      <td>0.000000</td>\n",
              "    </tr>\n",
              "    <tr>\n",
              "      <th>50%</th>\n",
              "      <td>0.330000</td>\n",
              "      <td>0.260000</td>\n",
              "      <td>0.779536</td>\n",
              "      <td>1.000000</td>\n",
              "      <td>2.000000</td>\n",
              "      <td>0.000000</td>\n",
              "      <td>0.000000</td>\n",
              "      <td>0.000000</td>\n",
              "      <td>0.000000</td>\n",
              "      <td>3.200000</td>\n",
              "      <td>0.000000</td>\n",
              "      <td>0.000000</td>\n",
              "      <td>0.000000</td>\n",
              "    </tr>\n",
              "    <tr>\n",
              "      <th>75%</th>\n",
              "      <td>0.370000</td>\n",
              "      <td>0.298825</td>\n",
              "      <td>0.868459</td>\n",
              "      <td>2.000000</td>\n",
              "      <td>2.000000</td>\n",
              "      <td>0.000000</td>\n",
              "      <td>0.000000</td>\n",
              "      <td>0.000000</td>\n",
              "      <td>1.000000</td>\n",
              "      <td>3.900000</td>\n",
              "      <td>1.000000</td>\n",
              "      <td>0.000000</td>\n",
              "      <td>0.000000</td>\n",
              "    </tr>\n",
              "    <tr>\n",
              "      <th>max</th>\n",
              "      <td>3.000000</td>\n",
              "      <td>3.000000</td>\n",
              "      <td>1.950000</td>\n",
              "      <td>6.000000</td>\n",
              "      <td>4.000000</td>\n",
              "      <td>1.000000</td>\n",
              "      <td>1.000000</td>\n",
              "      <td>1.000000</td>\n",
              "      <td>1.000000</td>\n",
              "      <td>10.600000</td>\n",
              "      <td>1.000000</td>\n",
              "      <td>1.000000</td>\n",
              "      <td>1.000000</td>\n",
              "    </tr>\n",
              "  </tbody>\n",
              "</table>\n",
              "</div>\n",
              "      <button class=\"colab-df-convert\" onclick=\"convertToInteractive('df-01e44317-324e-400c-b14c-4f1334cf1811')\"\n",
              "              title=\"Convert this dataframe to an interactive table.\"\n",
              "              style=\"display:none;\">\n",
              "        \n",
              "  <svg xmlns=\"http://www.w3.org/2000/svg\" height=\"24px\"viewBox=\"0 0 24 24\"\n",
              "       width=\"24px\">\n",
              "    <path d=\"M0 0h24v24H0V0z\" fill=\"none\"/>\n",
              "    <path d=\"M18.56 5.44l.94 2.06.94-2.06 2.06-.94-2.06-.94-.94-2.06-.94 2.06-2.06.94zm-11 1L8.5 8.5l.94-2.06 2.06-.94-2.06-.94L8.5 2.5l-.94 2.06-2.06.94zm10 10l.94 2.06.94-2.06 2.06-.94-2.06-.94-.94-2.06-.94 2.06-2.06.94z\"/><path d=\"M17.41 7.96l-1.37-1.37c-.4-.4-.92-.59-1.43-.59-.52 0-1.04.2-1.43.59L10.3 9.45l-7.72 7.72c-.78.78-.78 2.05 0 2.83L4 21.41c.39.39.9.59 1.41.59.51 0 1.02-.2 1.41-.59l7.78-7.78 2.81-2.81c.8-.78.8-2.07 0-2.86zM5.41 20L4 18.59l7.72-7.72 1.47 1.35L5.41 20z\"/>\n",
              "  </svg>\n",
              "      </button>\n",
              "      \n",
              "  <style>\n",
              "    .colab-df-container {\n",
              "      display:flex;\n",
              "      flex-wrap:wrap;\n",
              "      gap: 12px;\n",
              "    }\n",
              "\n",
              "    .colab-df-convert {\n",
              "      background-color: #E8F0FE;\n",
              "      border: none;\n",
              "      border-radius: 50%;\n",
              "      cursor: pointer;\n",
              "      display: none;\n",
              "      fill: #1967D2;\n",
              "      height: 32px;\n",
              "      padding: 0 0 0 0;\n",
              "      width: 32px;\n",
              "    }\n",
              "\n",
              "    .colab-df-convert:hover {\n",
              "      background-color: #E2EBFA;\n",
              "      box-shadow: 0px 1px 2px rgba(60, 64, 67, 0.3), 0px 1px 3px 1px rgba(60, 64, 67, 0.15);\n",
              "      fill: #174EA6;\n",
              "    }\n",
              "\n",
              "    [theme=dark] .colab-df-convert {\n",
              "      background-color: #3B4455;\n",
              "      fill: #D2E3FC;\n",
              "    }\n",
              "\n",
              "    [theme=dark] .colab-df-convert:hover {\n",
              "      background-color: #434B5C;\n",
              "      box-shadow: 0px 1px 3px 1px rgba(0, 0, 0, 0.15);\n",
              "      filter: drop-shadow(0px 1px 2px rgba(0, 0, 0, 0.3));\n",
              "      fill: #FFFFFF;\n",
              "    }\n",
              "  </style>\n",
              "\n",
              "      <script>\n",
              "        const buttonEl =\n",
              "          document.querySelector('#df-01e44317-324e-400c-b14c-4f1334cf1811 button.colab-df-convert');\n",
              "        buttonEl.style.display =\n",
              "          google.colab.kernel.accessAllowed ? 'block' : 'none';\n",
              "\n",
              "        async function convertToInteractive(key) {\n",
              "          const element = document.querySelector('#df-01e44317-324e-400c-b14c-4f1334cf1811');\n",
              "          const dataTable =\n",
              "            await google.colab.kernel.invokeFunction('convertToInteractive',\n",
              "                                                     [key], {});\n",
              "          if (!dataTable) return;\n",
              "\n",
              "          const docLinkHtml = 'Like what you see? Visit the ' +\n",
              "            '<a target=\"_blank\" href=https://colab.research.google.com/notebooks/data_table.ipynb>data table notebook</a>'\n",
              "            + ' to learn more about interactive tables.';\n",
              "          element.innerHTML = '';\n",
              "          dataTable['output_type'] = 'display_data';\n",
              "          await google.colab.output.renderOutput(dataTable, element);\n",
              "          const docLink = document.createElement('div');\n",
              "          docLink.innerHTML = docLinkHtml;\n",
              "          element.appendChild(docLink);\n",
              "        }\n",
              "      </script>\n",
              "    </div>\n",
              "  </div>\n",
              "  "
            ]
          },
          "metadata": {},
          "execution_count": 12
        }
      ],
      "source": [
        "df.describe()"
      ]
    },
    {
      "cell_type": "code",
      "execution_count": 12,
      "metadata": {
        "id": "2vYfpiY_tfGz"
      },
      "outputs": [],
      "source": [
        ""
      ]
    },
    {
      "cell_type": "code",
      "execution_count": 12,
      "metadata": {
        "id": "e5fUs4XqDLM6"
      },
      "outputs": [],
      "source": [
        ""
      ]
    },
    {
      "cell_type": "code",
      "execution_count": 12,
      "metadata": {
        "id": "rg5ALx66DBOP"
      },
      "outputs": [],
      "source": [
        ""
      ]
    },
    {
      "cell_type": "code",
      "execution_count": 12,
      "metadata": {
        "id": "UJYhJJVhB-_A"
      },
      "outputs": [],
      "source": [
        ""
      ]
    },
    {
      "cell_type": "code",
      "execution_count": 12,
      "metadata": {
        "id": "-gm-a7O4BcFx"
      },
      "outputs": [],
      "source": [
        ""
      ]
    },
    {
      "cell_type": "code",
      "execution_count": 12,
      "metadata": {
        "id": "7iBOiBElBMYv"
      },
      "outputs": [],
      "source": [
        ""
      ]
    },
    {
      "cell_type": "code",
      "execution_count": 12,
      "metadata": {
        "id": "ximhDwY0BJUZ"
      },
      "outputs": [],
      "source": [
        ""
      ]
    },
    {
      "cell_type": "code",
      "execution_count": 12,
      "metadata": {
        "id": "NuEAvT3MAAVu"
      },
      "outputs": [],
      "source": [
        ""
      ]
    },
    {
      "cell_type": "code",
      "execution_count": 12,
      "metadata": {
        "id": "iflh9KQbAUCQ"
      },
      "outputs": [],
      "source": [
        ""
      ]
    },
    {
      "cell_type": "code",
      "execution_count": 12,
      "metadata": {
        "id": "w2ajTjfhAKNG"
      },
      "outputs": [],
      "source": [
        ""
      ]
    },
    {
      "cell_type": "code",
      "execution_count": 12,
      "metadata": {
        "id": "BLspEfWaAGtb"
      },
      "outputs": [],
      "source": [
        ""
      ]
    },
    {
      "cell_type": "code",
      "execution_count": 12,
      "metadata": {
        "id": "rshtjGX1_yWo"
      },
      "outputs": [],
      "source": [
        ""
      ]
    },
    {
      "cell_type": "code",
      "execution_count": 12,
      "metadata": {
        "id": "Aw_U0X7D_jV_"
      },
      "outputs": [],
      "source": [
        ""
      ]
    },
    {
      "cell_type": "code",
      "execution_count": 12,
      "metadata": {
        "id": "Jru39DB0_V-a"
      },
      "outputs": [],
      "source": [
        ""
      ]
    },
    {
      "cell_type": "code",
      "execution_count": 12,
      "metadata": {
        "id": "H6E8rwEA_S4l"
      },
      "outputs": [],
      "source": [
        ""
      ]
    },
    {
      "cell_type": "code",
      "execution_count": 12,
      "metadata": {
        "id": "VJoPAF0V_EAi"
      },
      "outputs": [],
      "source": [
        ""
      ]
    },
    {
      "cell_type": "code",
      "execution_count": 12,
      "metadata": {
        "id": "0xrGXQlk_CLs"
      },
      "outputs": [],
      "source": [
        ""
      ]
    },
    {
      "cell_type": "code",
      "execution_count": 12,
      "metadata": {
        "id": "J4et6jWq-1Ga"
      },
      "outputs": [],
      "source": [
        ""
      ]
    },
    {
      "cell_type": "code",
      "execution_count": 12,
      "metadata": {
        "id": "E3lb6HQi8REt"
      },
      "outputs": [],
      "source": [
        ""
      ]
    },
    {
      "cell_type": "code",
      "execution_count": 12,
      "metadata": {
        "id": "vs4ILpks7g-I"
      },
      "outputs": [],
      "source": [
        ""
      ]
    },
    {
      "cell_type": "code",
      "execution_count": 12,
      "metadata": {
        "id": "b-LFPDSh7RS2"
      },
      "outputs": [],
      "source": [
        ""
      ]
    },
    {
      "cell_type": "code",
      "execution_count": 12,
      "metadata": {
        "id": "cTe6lHdI4Wgu"
      },
      "outputs": [],
      "source": [
        ""
      ]
    },
    {
      "cell_type": "code",
      "execution_count": 12,
      "metadata": {
        "id": "RQxM6C3U7AuS"
      },
      "outputs": [],
      "source": [
        ""
      ]
    },
    {
      "cell_type": "code",
      "execution_count": 13,
      "metadata": {
        "id": "LqDcqD2Ei7By"
      },
      "outputs": [],
      "source": [
        "#Daten standardisieren\n",
        "# ist eigentlich nicht sinnvoll..\n",
        "\n",
        "\n",
        "from sklearn.preprocessing import StandardScaler\n",
        "standard_scaler = StandardScaler()\n",
        "data_standardized = standard_scaler.fit_transform(df)\n",
        "df_standardized = pd.DataFrame(data_standardized)\n"
      ]
    },
    {
      "cell_type": "markdown",
      "metadata": {
        "id": "Wp65K7bDk4B-"
      },
      "source": [
        "d) Separieren Sie die Daten in 80% : 20% = Training : Test Datensatz. Führen Sie eine logistische \n",
        "Regression durch. Beschreiben Sie Koeffizienten und deren Signifikanzniveau sowie die Area \n",
        "Under Curve (AUC) der Receiver-Operator-Curve (ROC). Interpretieren Sie die Ergebnisse."
      ]
    },
    {
      "cell_type": "code",
      "execution_count": 14,
      "metadata": {
        "id": "KNyHNi2Vn5AP"
      },
      "outputs": [],
      "source": [
        "#Daten in Feature und Target separieren\n",
        "\n",
        "X = df.iloc[:, :-1]\n",
        "y = df.iloc[:, -1]\n",
        "\n"
      ]
    },
    {
      "cell_type": "code",
      "execution_count": 15,
      "metadata": {
        "id": "9EUcGPgckSv2"
      },
      "outputs": [],
      "source": [
        "# Aufteilen der Daten in einen Trainings- und einen Testdatensatz\n",
        "\n",
        "from sklearn.model_selection import train_test_split\n",
        "\n",
        "X_train, X_test, y_train, y_test = train_test_split(X, y, test_size=0.2, random_state=0 )\n"
      ]
    },
    {
      "cell_type": "code",
      "execution_count": 16,
      "metadata": {
        "colab": {
          "base_uri": "https://localhost:8080/"
        },
        "id": "VCeglmZTpFBM",
        "outputId": "a3ba236b-6151-4a70-ff0a-26dd6312fe1e"
      },
      "outputs": [
        {
          "output_type": "stream",
          "name": "stderr",
          "text": [
            "/usr/local/lib/python3.7/dist-packages/statsmodels/tools/_testing.py:19: FutureWarning: pandas.util.testing is deprecated. Use the functions in the public API at pandas.testing instead.\n",
            "  import pandas.util.testing as tm\n"
          ]
        },
        {
          "output_type": "stream",
          "name": "stdout",
          "text": [
            "Optimization terminated successfully.\n",
            "         Current function value: 0.264514\n",
            "         Iterations 7\n"
          ]
        },
        {
          "output_type": "stream",
          "name": "stderr",
          "text": [
            "/usr/local/lib/python3.7/dist-packages/statsmodels/tsa/tsatools.py:117: FutureWarning: In a future version of pandas all arguments of concat except for the argument 'objs' will be keyword-only\n",
            "  x = pd.concat(x[::order], 1)\n"
          ]
        }
      ],
      "source": [
        "# Benutzung von Phyton's statsmodels Modul um eine logistische Regression durchzuführen und statistische Metriken auszugeben\n",
        "import statsmodels.api as sm\n",
        "log_regressor_statsmodels = sm.Logit(y_train, sm.add_constant(X_train)).fit()\n"
      ]
    },
    {
      "cell_type": "code",
      "execution_count": 17,
      "metadata": {
        "colab": {
          "base_uri": "https://localhost:8080/",
          "height": 457
        },
        "id": "IPtDJ3FtHmk3",
        "outputId": "cf5d9a0b-6565-4426-cd85-4ebe3a13827b"
      },
      "outputs": [
        {
          "output_type": "execute_result",
          "data": {
            "text/plain": [
              "                                                    coef  std err  P>|z|\n",
              "debt_payments_to_total_income_ratio               4.7401    1.138  0.000\n",
              "denied_mortgage_insurance                         4.2555    0.563  0.000\n",
              "size_of_loan_to_assessed_value_of_property_ratio  1.5538    0.541  0.004\n",
              "public_bad_credit_record                          1.3706    0.238  0.000\n",
              "black                                             0.8590    0.202  0.000\n",
              "self_employed                                     0.4202    0.252  0.096\n",
              "single                                            0.3722    0.176  0.035\n",
              "consumer_credit_score                             0.2832    0.044  0.000\n",
              "mortgage_credit_score                             0.2644    0.162  0.103\n",
              "unemployment_rate_in_the_applicant’s_industry     0.0481    0.039  0.220\n",
              "housing_expenses_to_income_ratio                  0.0123    1.398  0.993\n",
              "condominium                                       0.0108    0.192  0.955\n",
              "const                                            -6.9694    0.617  0.000"
            ],
            "text/html": [
              "\n",
              "  <div id=\"df-dc118ab0-b177-4523-aec0-8915db0a52f0\">\n",
              "    <div class=\"colab-df-container\">\n",
              "      <div>\n",
              "<style scoped>\n",
              "    .dataframe tbody tr th:only-of-type {\n",
              "        vertical-align: middle;\n",
              "    }\n",
              "\n",
              "    .dataframe tbody tr th {\n",
              "        vertical-align: top;\n",
              "    }\n",
              "\n",
              "    .dataframe thead th {\n",
              "        text-align: right;\n",
              "    }\n",
              "</style>\n",
              "<table border=\"1\" class=\"dataframe\">\n",
              "  <thead>\n",
              "    <tr style=\"text-align: right;\">\n",
              "      <th></th>\n",
              "      <th>coef</th>\n",
              "      <th>std err</th>\n",
              "      <th>P&gt;|z|</th>\n",
              "    </tr>\n",
              "  </thead>\n",
              "  <tbody>\n",
              "    <tr>\n",
              "      <th>debt_payments_to_total_income_ratio</th>\n",
              "      <td>4.7401</td>\n",
              "      <td>1.138</td>\n",
              "      <td>0.000</td>\n",
              "    </tr>\n",
              "    <tr>\n",
              "      <th>denied_mortgage_insurance</th>\n",
              "      <td>4.2555</td>\n",
              "      <td>0.563</td>\n",
              "      <td>0.000</td>\n",
              "    </tr>\n",
              "    <tr>\n",
              "      <th>size_of_loan_to_assessed_value_of_property_ratio</th>\n",
              "      <td>1.5538</td>\n",
              "      <td>0.541</td>\n",
              "      <td>0.004</td>\n",
              "    </tr>\n",
              "    <tr>\n",
              "      <th>public_bad_credit_record</th>\n",
              "      <td>1.3706</td>\n",
              "      <td>0.238</td>\n",
              "      <td>0.000</td>\n",
              "    </tr>\n",
              "    <tr>\n",
              "      <th>black</th>\n",
              "      <td>0.8590</td>\n",
              "      <td>0.202</td>\n",
              "      <td>0.000</td>\n",
              "    </tr>\n",
              "    <tr>\n",
              "      <th>self_employed</th>\n",
              "      <td>0.4202</td>\n",
              "      <td>0.252</td>\n",
              "      <td>0.096</td>\n",
              "    </tr>\n",
              "    <tr>\n",
              "      <th>single</th>\n",
              "      <td>0.3722</td>\n",
              "      <td>0.176</td>\n",
              "      <td>0.035</td>\n",
              "    </tr>\n",
              "    <tr>\n",
              "      <th>consumer_credit_score</th>\n",
              "      <td>0.2832</td>\n",
              "      <td>0.044</td>\n",
              "      <td>0.000</td>\n",
              "    </tr>\n",
              "    <tr>\n",
              "      <th>mortgage_credit_score</th>\n",
              "      <td>0.2644</td>\n",
              "      <td>0.162</td>\n",
              "      <td>0.103</td>\n",
              "    </tr>\n",
              "    <tr>\n",
              "      <th>unemployment_rate_in_the_applicant’s_industry</th>\n",
              "      <td>0.0481</td>\n",
              "      <td>0.039</td>\n",
              "      <td>0.220</td>\n",
              "    </tr>\n",
              "    <tr>\n",
              "      <th>housing_expenses_to_income_ratio</th>\n",
              "      <td>0.0123</td>\n",
              "      <td>1.398</td>\n",
              "      <td>0.993</td>\n",
              "    </tr>\n",
              "    <tr>\n",
              "      <th>condominium</th>\n",
              "      <td>0.0108</td>\n",
              "      <td>0.192</td>\n",
              "      <td>0.955</td>\n",
              "    </tr>\n",
              "    <tr>\n",
              "      <th>const</th>\n",
              "      <td>-6.9694</td>\n",
              "      <td>0.617</td>\n",
              "      <td>0.000</td>\n",
              "    </tr>\n",
              "  </tbody>\n",
              "</table>\n",
              "</div>\n",
              "      <button class=\"colab-df-convert\" onclick=\"convertToInteractive('df-dc118ab0-b177-4523-aec0-8915db0a52f0')\"\n",
              "              title=\"Convert this dataframe to an interactive table.\"\n",
              "              style=\"display:none;\">\n",
              "        \n",
              "  <svg xmlns=\"http://www.w3.org/2000/svg\" height=\"24px\"viewBox=\"0 0 24 24\"\n",
              "       width=\"24px\">\n",
              "    <path d=\"M0 0h24v24H0V0z\" fill=\"none\"/>\n",
              "    <path d=\"M18.56 5.44l.94 2.06.94-2.06 2.06-.94-2.06-.94-.94-2.06-.94 2.06-2.06.94zm-11 1L8.5 8.5l.94-2.06 2.06-.94-2.06-.94L8.5 2.5l-.94 2.06-2.06.94zm10 10l.94 2.06.94-2.06 2.06-.94-2.06-.94-.94-2.06-.94 2.06-2.06.94z\"/><path d=\"M17.41 7.96l-1.37-1.37c-.4-.4-.92-.59-1.43-.59-.52 0-1.04.2-1.43.59L10.3 9.45l-7.72 7.72c-.78.78-.78 2.05 0 2.83L4 21.41c.39.39.9.59 1.41.59.51 0 1.02-.2 1.41-.59l7.78-7.78 2.81-2.81c.8-.78.8-2.07 0-2.86zM5.41 20L4 18.59l7.72-7.72 1.47 1.35L5.41 20z\"/>\n",
              "  </svg>\n",
              "      </button>\n",
              "      \n",
              "  <style>\n",
              "    .colab-df-container {\n",
              "      display:flex;\n",
              "      flex-wrap:wrap;\n",
              "      gap: 12px;\n",
              "    }\n",
              "\n",
              "    .colab-df-convert {\n",
              "      background-color: #E8F0FE;\n",
              "      border: none;\n",
              "      border-radius: 50%;\n",
              "      cursor: pointer;\n",
              "      display: none;\n",
              "      fill: #1967D2;\n",
              "      height: 32px;\n",
              "      padding: 0 0 0 0;\n",
              "      width: 32px;\n",
              "    }\n",
              "\n",
              "    .colab-df-convert:hover {\n",
              "      background-color: #E2EBFA;\n",
              "      box-shadow: 0px 1px 2px rgba(60, 64, 67, 0.3), 0px 1px 3px 1px rgba(60, 64, 67, 0.15);\n",
              "      fill: #174EA6;\n",
              "    }\n",
              "\n",
              "    [theme=dark] .colab-df-convert {\n",
              "      background-color: #3B4455;\n",
              "      fill: #D2E3FC;\n",
              "    }\n",
              "\n",
              "    [theme=dark] .colab-df-convert:hover {\n",
              "      background-color: #434B5C;\n",
              "      box-shadow: 0px 1px 3px 1px rgba(0, 0, 0, 0.15);\n",
              "      filter: drop-shadow(0px 1px 2px rgba(0, 0, 0, 0.3));\n",
              "      fill: #FFFFFF;\n",
              "    }\n",
              "  </style>\n",
              "\n",
              "      <script>\n",
              "        const buttonEl =\n",
              "          document.querySelector('#df-dc118ab0-b177-4523-aec0-8915db0a52f0 button.colab-df-convert');\n",
              "        buttonEl.style.display =\n",
              "          google.colab.kernel.accessAllowed ? 'block' : 'none';\n",
              "\n",
              "        async function convertToInteractive(key) {\n",
              "          const element = document.querySelector('#df-dc118ab0-b177-4523-aec0-8915db0a52f0');\n",
              "          const dataTable =\n",
              "            await google.colab.kernel.invokeFunction('convertToInteractive',\n",
              "                                                     [key], {});\n",
              "          if (!dataTable) return;\n",
              "\n",
              "          const docLinkHtml = 'Like what you see? Visit the ' +\n",
              "            '<a target=\"_blank\" href=https://colab.research.google.com/notebooks/data_table.ipynb>data table notebook</a>'\n",
              "            + ' to learn more about interactive tables.';\n",
              "          element.innerHTML = '';\n",
              "          dataTable['output_type'] = 'display_data';\n",
              "          await google.colab.output.renderOutput(dataTable, element);\n",
              "          const docLink = document.createElement('div');\n",
              "          docLink.innerHTML = docLinkHtml;\n",
              "          element.appendChild(docLink);\n",
              "        }\n",
              "      </script>\n",
              "    </div>\n",
              "  </div>\n",
              "  "
            ]
          },
          "metadata": {},
          "execution_count": 17
        }
      ],
      "source": [
        "#Darstellung der Parameter des logistischen Regressionsmodell und zugehörigen Signifikanzwerten in einem DataFrame\n",
        "log_regressor_statsmodels_ergebnis_html = log_regressor_statsmodels.summary().tables[1].as_html()\n",
        "log_regressor_ergebnis_statsmodels = pd.read_html(log_regressor_statsmodels_ergebnis_html, header=0, index_col=0)\n",
        "\n",
        "#Entfernen der nicht relevanten Spalten\n",
        "log_regressor_ergebnis_statsmodels = log_regressor_ergebnis_statsmodels[0].drop(columns=[\"z\",\"[0.025\",\"0.975]\"])\n",
        " \n",
        "\n",
        "#Koeffizienten sortieren in absteigender Reinfolge\n",
        "log_regressor_ergebnis_statsmodels = log_regressor_ergebnis_statsmodels.sort_values(by=\"coef\", ascending=False)\n",
        "\n",
        "log_regressor_ergebnis_statsmodels"
      ]
    },
    {
      "cell_type": "markdown",
      "metadata": {
        "id": "YAC_BoZgV8qS"
      },
      "source": [
        "### Koeffizienten im logistischen Regressionsmodell\n",
        "Die Spalte **coef** der log_regressor.summary() Ausgabe stellt die Koeffizienten des logistischen Regressionsmodells dar. Um die Koeffizienten zu verstehen betrachten wir zunächst ein vereinfachtes logistische Regressionsmodell, welches nur die Attribute **single** und **black** betrachtet: <br><br> $logit(p)=0.4170*single+0.7478*black+const$,  mit $p = P(Y=1)$ aka der Wahrscheinlichkeit, dass der Kreditantrag abgelehnt wird. \n",
        "\n",
        "Auf der linken Seite der Gleichung haben wir $logit(p)$, weswegen die Koeffizienten der Attribute nicht intuitiv intepretiert werden können. Die Gleichungen werden wir im Folgenden soweit umformen, dass auf der linken Seite nur noch die Wahrscheinlichkeit p stehen wird ([Wer an einer Erläuterung der einzelnen Schritte interessiert ist kann sie hier nachlesen](https://stats.oarc.ucla.edu/other/mult-pkg/faq/general/faq-how-do-i-interpret-odds-ratios-in-logistic-regression/)).\n",
        "\n",
        "1. $logit(p) = ln(\\frac{p}{1-p})= 0.4170*single+0.7478*black+const$\n",
        "\n",
        "2. $\\frac{p}{1-p} = exp (0.4170*single+0.7478*black+const)$\n",
        "\n",
        "3. $p = \\frac{exp (0.4170*single+0.7478*black+const)}{1+exp (0.4170*single+0.7478*black+const}$\n",
        "\n",
        "\n",
        "Angenommen für eine Beobachtung hat das Attribut **single** den Wert 1, **black** hat den Wert 0 und die Konstante hat ebenfalls den Wert 0. Dann beträgt die Wahrscheinlichkeit für eine Kreditablehnung $p=\\frac{exp(0.417)}{1+exp(0.417)}=0.6$. Das heißt in diesem vereinfachten Fall erhöht die Eigenschaft das jemand single ist die Wahrscheinlichkeit für die Kreditablehnung von 0% auf 60%.\n",
        "\n",
        "Die Funktion $p=\\frac{exp(x)}{1+exp(x)}$ ist streng monoton steigend, weswegen man ableiten kann das Attribute mit positiven Koeffizienten positv mit der Kreditablehnungswahrscheinlichkeit p korrelieren (siehe Abbildung 1). Für Attribute mit negativen Vorzeichen verhält es sich genau andersherum. \n",
        "\n",
        "\n",
        "\n",
        "####Abbildung 1: Logistische Funktion\n",
        "![1200px-Logistic-curve.svg.png](data:image/png;base64,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)\n",
        "\n",
        "[Bilquelle](https://upload.wikimedia.org/wikipedia/commons/thumb/8/88/Logistic-curve.svg/1200px-Logistic-curve.svg.png)"
      ]
    },
    {
      "cell_type": "code",
      "execution_count": 17,
      "metadata": {
        "id": "FuPzIEtLyGXm"
      },
      "outputs": [],
      "source": [
        ""
      ]
    },
    {
      "cell_type": "markdown",
      "metadata": {
        "id": "YWDbIgGDcccB"
      },
      "source": [
        "\n",
        "### Signifikanzniveau im logistischen Regressionsmodell\n",
        "Die Einschätzung der Signifikanz der ermittelten Koeffizienten der Attribute des logistischen Regressionsmodels kann mit Hilfe des p-Wertes erfolgen, welcher einem Hypothesentest zur Grund liegt.\n",
        "Das Modul statsmodels ermöglicht es uns für jeden ermittelten Koeffizienten einen Z-Hypothesentest durchzuführen, mit dem getestet wird mit welcher Sicherheit der Koeffizient ungleich 0 ist. Genauer gesagt ist die H0: coef==0, die H1: coef!=0.\n",
        "Die Spalte  **P>|z|** stellt den Signifikanzwert(p-Wert) dar, welcher beschreibt in wie weit die Nullhypothese H0 glaubwürdig ist. Ein niedriger p-Wert bedeutet, dass die Nullhypothese H0 zu gunsten der Alternativhypothese H1 verworfen werden kann. Welcher p-Wert hierfür genau gewählt wird ist Kontext abhänig. Generell folgt, dass je niedriger der p-Wert ist, desto sicherer ist die Alternativhypohtese und demnach die Güte des ermittelten Koeffizienten. In unserem Kontext kann zu dem folgende Interpreation gemacht werden: betrachtet man den p-Wert von dem Attribut **single** mit **P>|z|=0.016**, dann kan daraus schließen, dass es eine 1.6% Chance gibt, dass das Attribut **single** keinen Einfluss auf unser target **deny** hat [(Quelle für diese Interpretation)](https://medium.com/swlh/interpreting-linear-regression-through-statsmodels-summary-4796d359035a). \n"
      ]
    },
    {
      "cell_type": "code",
      "execution_count": 39,
      "metadata": {
        "colab": {
          "base_uri": "https://localhost:8080/",
          "height": 457
        },
        "id": "8xgu36cQVIqU",
        "outputId": "0ee82d71-b69c-4e33-cae1-1642297f28dc"
      },
      "outputs": [
        {
          "output_type": "execute_result",
          "data": {
            "text/plain": [
              "                                                    coef  std err  P>|z|\n",
              "debt_payments_to_total_income_ratio               4.7401    1.138  0.000\n",
              "denied_mortgage_insurance                         4.2555    0.563  0.000\n",
              "size_of_loan_to_assessed_value_of_property_ratio  1.5538    0.541  0.004\n",
              "public_bad_credit_record                          1.3706    0.238  0.000\n",
              "black                                             0.8590    0.202  0.000\n",
              "self_employed                                     0.4202    0.252  0.096\n",
              "single                                            0.3722    0.176  0.035\n",
              "consumer_credit_score                             0.2832    0.044  0.000\n",
              "mortgage_credit_score                             0.2644    0.162  0.103\n",
              "unemployment_rate_in_the_applicant’s_industry     0.0481    0.039  0.220\n",
              "housing_expenses_to_income_ratio                  0.0123    1.398  0.993\n",
              "condominium                                       0.0108    0.192  0.955\n",
              "const                                            -6.9694    0.617  0.000"
            ],
            "text/html": [
              "\n",
              "  <div id=\"df-cbd6807f-fec2-4485-9f91-d6025eb29e5c\">\n",
              "    <div class=\"colab-df-container\">\n",
              "      <div>\n",
              "<style scoped>\n",
              "    .dataframe tbody tr th:only-of-type {\n",
              "        vertical-align: middle;\n",
              "    }\n",
              "\n",
              "    .dataframe tbody tr th {\n",
              "        vertical-align: top;\n",
              "    }\n",
              "\n",
              "    .dataframe thead th {\n",
              "        text-align: right;\n",
              "    }\n",
              "</style>\n",
              "<table border=\"1\" class=\"dataframe\">\n",
              "  <thead>\n",
              "    <tr style=\"text-align: right;\">\n",
              "      <th></th>\n",
              "      <th>coef</th>\n",
              "      <th>std err</th>\n",
              "      <th>P&gt;|z|</th>\n",
              "    </tr>\n",
              "  </thead>\n",
              "  <tbody>\n",
              "    <tr>\n",
              "      <th>debt_payments_to_total_income_ratio</th>\n",
              "      <td>4.7401</td>\n",
              "      <td>1.138</td>\n",
              "      <td>0.000</td>\n",
              "    </tr>\n",
              "    <tr>\n",
              "      <th>denied_mortgage_insurance</th>\n",
              "      <td>4.2555</td>\n",
              "      <td>0.563</td>\n",
              "      <td>0.000</td>\n",
              "    </tr>\n",
              "    <tr>\n",
              "      <th>size_of_loan_to_assessed_value_of_property_ratio</th>\n",
              "      <td>1.5538</td>\n",
              "      <td>0.541</td>\n",
              "      <td>0.004</td>\n",
              "    </tr>\n",
              "    <tr>\n",
              "      <th>public_bad_credit_record</th>\n",
              "      <td>1.3706</td>\n",
              "      <td>0.238</td>\n",
              "      <td>0.000</td>\n",
              "    </tr>\n",
              "    <tr>\n",
              "      <th>black</th>\n",
              "      <td>0.8590</td>\n",
              "      <td>0.202</td>\n",
              "      <td>0.000</td>\n",
              "    </tr>\n",
              "    <tr>\n",
              "      <th>self_employed</th>\n",
              "      <td>0.4202</td>\n",
              "      <td>0.252</td>\n",
              "      <td>0.096</td>\n",
              "    </tr>\n",
              "    <tr>\n",
              "      <th>single</th>\n",
              "      <td>0.3722</td>\n",
              "      <td>0.176</td>\n",
              "      <td>0.035</td>\n",
              "    </tr>\n",
              "    <tr>\n",
              "      <th>consumer_credit_score</th>\n",
              "      <td>0.2832</td>\n",
              "      <td>0.044</td>\n",
              "      <td>0.000</td>\n",
              "    </tr>\n",
              "    <tr>\n",
              "      <th>mortgage_credit_score</th>\n",
              "      <td>0.2644</td>\n",
              "      <td>0.162</td>\n",
              "      <td>0.103</td>\n",
              "    </tr>\n",
              "    <tr>\n",
              "      <th>unemployment_rate_in_the_applicant’s_industry</th>\n",
              "      <td>0.0481</td>\n",
              "      <td>0.039</td>\n",
              "      <td>0.220</td>\n",
              "    </tr>\n",
              "    <tr>\n",
              "      <th>housing_expenses_to_income_ratio</th>\n",
              "      <td>0.0123</td>\n",
              "      <td>1.398</td>\n",
              "      <td>0.993</td>\n",
              "    </tr>\n",
              "    <tr>\n",
              "      <th>condominium</th>\n",
              "      <td>0.0108</td>\n",
              "      <td>0.192</td>\n",
              "      <td>0.955</td>\n",
              "    </tr>\n",
              "    <tr>\n",
              "      <th>const</th>\n",
              "      <td>-6.9694</td>\n",
              "      <td>0.617</td>\n",
              "      <td>0.000</td>\n",
              "    </tr>\n",
              "  </tbody>\n",
              "</table>\n",
              "</div>\n",
              "      <button class=\"colab-df-convert\" onclick=\"convertToInteractive('df-cbd6807f-fec2-4485-9f91-d6025eb29e5c')\"\n",
              "              title=\"Convert this dataframe to an interactive table.\"\n",
              "              style=\"display:none;\">\n",
              "        \n",
              "  <svg xmlns=\"http://www.w3.org/2000/svg\" height=\"24px\"viewBox=\"0 0 24 24\"\n",
              "       width=\"24px\">\n",
              "    <path d=\"M0 0h24v24H0V0z\" fill=\"none\"/>\n",
              "    <path d=\"M18.56 5.44l.94 2.06.94-2.06 2.06-.94-2.06-.94-.94-2.06-.94 2.06-2.06.94zm-11 1L8.5 8.5l.94-2.06 2.06-.94-2.06-.94L8.5 2.5l-.94 2.06-2.06.94zm10 10l.94 2.06.94-2.06 2.06-.94-2.06-.94-.94-2.06-.94 2.06-2.06.94z\"/><path d=\"M17.41 7.96l-1.37-1.37c-.4-.4-.92-.59-1.43-.59-.52 0-1.04.2-1.43.59L10.3 9.45l-7.72 7.72c-.78.78-.78 2.05 0 2.83L4 21.41c.39.39.9.59 1.41.59.51 0 1.02-.2 1.41-.59l7.78-7.78 2.81-2.81c.8-.78.8-2.07 0-2.86zM5.41 20L4 18.59l7.72-7.72 1.47 1.35L5.41 20z\"/>\n",
              "  </svg>\n",
              "      </button>\n",
              "      \n",
              "  <style>\n",
              "    .colab-df-container {\n",
              "      display:flex;\n",
              "      flex-wrap:wrap;\n",
              "      gap: 12px;\n",
              "    }\n",
              "\n",
              "    .colab-df-convert {\n",
              "      background-color: #E8F0FE;\n",
              "      border: none;\n",
              "      border-radius: 50%;\n",
              "      cursor: pointer;\n",
              "      display: none;\n",
              "      fill: #1967D2;\n",
              "      height: 32px;\n",
              "      padding: 0 0 0 0;\n",
              "      width: 32px;\n",
              "    }\n",
              "\n",
              "    .colab-df-convert:hover {\n",
              "      background-color: #E2EBFA;\n",
              "      box-shadow: 0px 1px 2px rgba(60, 64, 67, 0.3), 0px 1px 3px 1px rgba(60, 64, 67, 0.15);\n",
              "      fill: #174EA6;\n",
              "    }\n",
              "\n",
              "    [theme=dark] .colab-df-convert {\n",
              "      background-color: #3B4455;\n",
              "      fill: #D2E3FC;\n",
              "    }\n",
              "\n",
              "    [theme=dark] .colab-df-convert:hover {\n",
              "      background-color: #434B5C;\n",
              "      box-shadow: 0px 1px 3px 1px rgba(0, 0, 0, 0.15);\n",
              "      filter: drop-shadow(0px 1px 2px rgba(0, 0, 0, 0.3));\n",
              "      fill: #FFFFFF;\n",
              "    }\n",
              "  </style>\n",
              "\n",
              "      <script>\n",
              "        const buttonEl =\n",
              "          document.querySelector('#df-cbd6807f-fec2-4485-9f91-d6025eb29e5c button.colab-df-convert');\n",
              "        buttonEl.style.display =\n",
              "          google.colab.kernel.accessAllowed ? 'block' : 'none';\n",
              "\n",
              "        async function convertToInteractive(key) {\n",
              "          const element = document.querySelector('#df-cbd6807f-fec2-4485-9f91-d6025eb29e5c');\n",
              "          const dataTable =\n",
              "            await google.colab.kernel.invokeFunction('convertToInteractive',\n",
              "                                                     [key], {});\n",
              "          if (!dataTable) return;\n",
              "\n",
              "          const docLinkHtml = 'Like what you see? Visit the ' +\n",
              "            '<a target=\"_blank\" href=https://colab.research.google.com/notebooks/data_table.ipynb>data table notebook</a>'\n",
              "            + ' to learn more about interactive tables.';\n",
              "          element.innerHTML = '';\n",
              "          dataTable['output_type'] = 'display_data';\n",
              "          await google.colab.output.renderOutput(dataTable, element);\n",
              "          const docLink = document.createElement('div');\n",
              "          docLink.innerHTML = docLinkHtml;\n",
              "          element.appendChild(docLink);\n",
              "        }\n",
              "      </script>\n",
              "    </div>\n",
              "  </div>\n",
              "  "
            ]
          },
          "metadata": {},
          "execution_count": 39
        }
      ],
      "source": [
        "#nochmaliges darstellen der Parameter der logistischen Regression, damit weniger Scrollarbeit nötig ist\n",
        "log_regressor_ergebnis_statsmodels"
      ]
    },
    {
      "cell_type": "markdown",
      "metadata": {
        "id": "ghtZazmWCzyO"
      },
      "source": [
        "\n",
        "###Beschreibung und Interpretation der ermittelten Koeffizienten und deren Signifikanzniveaus\n",
        "Alle Koeffizienten der Attribute haben ein positives Vorzeichen, daher ist jedes Attribut positiv mit der Kreditablehnung korreliert. Den Einfluss, den ein Attribut auf die Kreditablehnungswahrscheinlichkeit p haben kann ist allerdings nicht nur durch die Größe des Koeffizienten bestimmt, sondern auch durch die möglichen Ausprägungen des Attributs selbst. Das Attribut **denied_mortage_insurance** hat zwar einen Koeffizienten von 4.2408, seine Ausprägungen können aber nur die Werte 0 oder 1 annehmen. Das Attribut **debt_payments_to_total_income_ratio** hat einen klein wenig geringen Koeffizienten von 4.1928, seine Ausprägungen sind aber prinzipiell nach oben hin unbeschränkt (in den Daten finden wir einen Maximalwert von 3.0). Das Attribut **black** hat einen Koeffizienten von 0.8590 und kann die Ausprägungen 0 und 1 annehmen. Der Einfluss des Attributs **black** auf die Kreditablehnungswahrscheinlichkeit p ist gering. Dies wird klar wenn man die  Kreditablehnungswahrscheinlichkeit p, wie im Abschnitt **Koeffizienten im logistischen Regressionsmodell** darestellt und auf das vollständige Modell erweitert. \n",
        "\n",
        "$p = \\frac{exp (4.7401*debt\\_payments\\_to\\_total\\_income\\_ratio+...+0.8590*black+...-6.9694)}{1+exp (4.7401*debt\\_payments\\_to\\_total\\_income\\_ratio+...+0.8590*black+...-6.9694)}$\n",
        "\n",
        "Wenn der Term $x$ im Inneren von $exp(x)$ negativ ist, dann ist die Krediablehnungswahrscheinlichkeit unter 50% (siehe oben Abbildung 1). Die Konstante in diesem Term beträgt -6.9694. Von daher hat die Erhöhung des Terms um 0.8590 durch die Ausprägung 1 des Attributs **black** nur einen minimalen Einfluss. \n",
        "\n",
        "Betrachten wir nun die Signifkanz von den Attributen: Hierbei fallen nur ein paar Attribute durch ihren hohen p-Wert auf (Annahme eines maximalen p-Wertes von 0.1):\n",
        "\n",
        "| Attribut    | coef| P>&#124;z&#124; |\n",
        "| ----------- | ----------- | ----------- | \n",
        "| housing_expenses_to_income_ratio    | 0.4760 | 0.729 |\n",
        "| mortgage_credit_score  | 0.1589        | 0.326 |\n",
        "| condominium | 0.0435        | 0.817 |\n",
        "\n",
        "\n",
        "In der tatsächlichen Optimierung und Anwendung eines ML Klassifikators würde man diese Attribute entfernen.\n",
        "\n",
        "\n",
        "\n",
        "\n",
        "\n",
        "\n",
        "\n",
        "\n",
        "\n",
        "\n"
      ]
    },
    {
      "cell_type": "code",
      "execution_count": 19,
      "metadata": {
        "colab": {
          "base_uri": "https://localhost:8080/"
        },
        "id": "VbUKGX-gcJ7i",
        "outputId": "a326ec75-9660-4e7d-d2a2-12910a0db00c"
      },
      "outputs": [
        {
          "output_type": "stream",
          "name": "stderr",
          "text": [
            "/usr/local/lib/python3.7/dist-packages/sklearn/linear_model/_logistic.py:818: ConvergenceWarning: lbfgs failed to converge (status=1):\n",
            "STOP: TOTAL NO. of ITERATIONS REACHED LIMIT.\n",
            "\n",
            "Increase the number of iterations (max_iter) or scale the data as shown in:\n",
            "    https://scikit-learn.org/stable/modules/preprocessing.html\n",
            "Please also refer to the documentation for alternative solver options:\n",
            "    https://scikit-learn.org/stable/modules/linear_model.html#logistic-regression\n",
            "  extra_warning_msg=_LOGISTIC_SOLVER_CONVERGENCE_MSG,\n"
          ]
        },
        {
          "output_type": "execute_result",
          "data": {
            "text/plain": [
              "LogisticRegression(C=100000000.0, class_weight='balanced')"
            ]
          },
          "metadata": {},
          "execution_count": 19
        }
      ],
      "source": [
        "#Nochmalige Durchführung einer logistischen Regression mit sklearn um mit sklearn.metrics die Area Under Curve (AUC) der Receiver-Operator-Curve (ROC) darzustellen\n",
        "\n",
        "from sklearn.linear_model import LogisticRegression\n",
        "log_regressor = LogisticRegression(C=1e8, class_weight=\"balanced\")           # scikit-learn's logistic regression performs regularization by default. In order to get the same coefficents as in the statsmodel we can negate this by setting the C parameter to a very high number (taken from https://www.reddit.com/r/datascience/comments/8kne2r/different_coefficients_scikitlearn_vs_statsmodels/dz90uen/) \n",
        "log_regressor.fit(X_train, y_train)\n"
      ]
    },
    {
      "cell_type": "code",
      "execution_count": 20,
      "metadata": {
        "colab": {
          "base_uri": "https://localhost:8080/"
        },
        "id": "J3B_kUAW9VAg",
        "outputId": "c7a51e17-3e71-4bee-c809-612c53562679"
      },
      "outputs": [
        {
          "output_type": "execute_result",
          "data": {
            "text/plain": [
              "array([[ 5.12429811, -0.75047521,  1.37249567,  0.29559667,  0.21095364,\n",
              "         1.31067114,  4.32417475,  0.38353647,  0.48489014,  0.05728216,\n",
              "         0.01375989,  0.90449619]])"
            ]
          },
          "metadata": {},
          "execution_count": 20
        }
      ],
      "source": [
        "log_regressor.coef_"
      ]
    },
    {
      "cell_type": "code",
      "execution_count": 20,
      "metadata": {
        "id": "_gPy3xNa9a8t"
      },
      "outputs": [],
      "source": [
        ""
      ]
    },
    {
      "cell_type": "code",
      "execution_count": 21,
      "metadata": {
        "colab": {
          "base_uri": "https://localhost:8080/",
          "height": 296
        },
        "id": "L0bZWGybfRs2",
        "outputId": "f0c66736-2224-4200-a64e-01d693d91663"
      },
      "outputs": [
        {
          "output_type": "execute_result",
          "data": {
            "text/plain": [
              "<sklearn.metrics._plot.roc_curve.RocCurveDisplay at 0x7fb0d04e5590>"
            ]
          },
          "metadata": {},
          "execution_count": 21
        },
        {
          "output_type": "display_data",
          "data": {
            "text/plain": [
              "<Figure size 432x288 with 1 Axes>"
            ],
            "image/png": "[encoded data removed]"
          },
          "metadata": {
            "needs_background": "light"
          }
        }
      ],
      "source": [
        "# Vorhersage der Test Daten mittels dem logistischen Regressionsmodell und Darstellung der AUC der ROC\n",
        "from sklearn.metrics import roc_auc_score\n",
        "from sklearn.metrics import roc_curve\n",
        "from sklearn.metrics import RocCurveDisplay\n",
        "\n",
        "y_predict = log_regressor.predict(X_test)\n",
        "log_roc_auc = roc_auc_score(y_test, y_predict)\n",
        "RocCurveDisplay.from_predictions(y_test, y_predict)"
      ]
    },
    {
      "cell_type": "markdown",
      "metadata": {
        "id": "pxY_PzHhZNVZ"
      },
      "source": [
        "### Beschreiben und Interpretation der ermittelten Area Under Curve (AUC) der Receiver-Operator-Curve (ROC) \n",
        "Die AUC der ROC kann Werte zwischen 0.5 bis 1 annehmen. Erhält ein Klassifizierungsmodell einen Wert von 0.5 dann ist seine Klassifierung nicht besser als der Zufall (blaue Linie im obigen Bild würde der Gerade mit TPR=FPR entsprechen). Umso näher der Wert in Richtung 1 liegt desto trenngenauer kann der Klassifizierer die Klassen separieren. Der in unserem Modell vorliegende AUC Wert der ROC beträgt 0.68. Das zeigt, dass unser Logistisches Regressionsmodell eher schlecht zwischen den Klassen Kreditablehnung und Kreditannahme separieren kann. Gute Werte beginnen ab ca. 0.8 [Quelle](http://gim.unmc.edu/dxtests/RoC3.htm).\n",
        "\n",
        "Vlt. noch genauer auf den Verlauf der ROC eingehen. Am Anfang steiler Ansteig -> FN können gut rausgefiltert werden"
      ]
    },
    {
      "cell_type": "code",
      "execution_count": 21,
      "metadata": {
        "id": "OGxc27dgHExm"
      },
      "outputs": [],
      "source": [
        ""
      ]
    },
    {
      "cell_type": "markdown",
      "metadata": {
        "id": "MBfxI9Zu1mc2"
      },
      "source": [
        "e) Manche Methoden in scikit-learn haben den Parameter class_weight. Wann sollte man class_weight = 'balanced' setzen? Ist es in dieser Aufgabe nötig?"
      ]
    },
    {
      "cell_type": "markdown",
      "metadata": {
        "id": "Iw6ETtBR5WSW"
      },
      "source": [
        "- Es ist Teil guter Daten Analyse Praxis sich die Klassenverteilung des Targets anzuschauen (wurde daher eigentlich schon in Teilaufgabe a) gemacht, wurde jetzt aber weil hier explizit gefragt wurde hier hin verschoben)\n",
        "- wichtig um den richtigen ALG und ggf. weitere Daten Preprocessing Schritte anzuwenden\n",
        "-der Parameter class_weight = \"balance\" sollte gesetzt werden wenn die Klassverteilung des Targets Stark von einer Gleichverteilung abweicht. In unserem Beispiel trifft dies zu (siehe Histogramm). Wir haben mehr als 2000 Kreditannahmen und nur ca. 250 Kreditablehnungen\n",
        "- ausgehend von dieser Quelle noch ein wenig weiter ausführen (https://stackoverflow.com/questions/30972029/how-does-the-class-weight-parameter-in-scikit-learn-work)\n",
        "- eigentlich nochmal die Logistische Regression mit class_weight balance durchführen! Problem ist das statsmodel auch die selbige class_weight balancen muss wie sklearn. Die Koeffizienten verändern sich! Und die AUC wird besser!\n",
        "- hier könnte man noch die Perfomranz zeigen von der logistischen Regression ohne class_weight balance"
      ]
    },
    {
      "cell_type": "code",
      "execution_count": 22,
      "metadata": {
        "colab": {
          "base_uri": "https://localhost:8080/",
          "height": 282
        },
        "id": "LfDVckMQ4tKJ",
        "outputId": "ae374e6b-523e-4fea-82c5-9a0f5346ed46"
      },
      "outputs": [
        {
          "output_type": "execute_result",
          "data": {
            "text/plain": [
              "<matplotlib.axes._subplots.AxesSubplot at 0x7fb0cfe4b290>"
            ]
          },
          "metadata": {},
          "execution_count": 22
        },
        {
          "output_type": "display_data",
          "data": {
            "text/plain": [
              "<Figure size 432x288 with 1 Axes>"
            ],
            "image/png": "[encoded data removed]"
          },
          "metadata": {
            "needs_background": "light"
          }
        }
      ],
      "source": [
        "y.hist()"
      ]
    },
    {
      "cell_type": "code",
      "execution_count": 23,
      "metadata": {
        "id": "fKnaBka_DRNA",
        "colab": {
          "base_uri": "https://localhost:8080/",
          "height": 236
        },
        "outputId": "8fca848c-2218-415c-a9de-b654c7ca767f"
      },
      "outputs": [
        {
          "output_type": "error",
          "ename": "NameError",
          "evalue": "ignored",
          "traceback": [
            "\u001b[0;31m---------------------------------------------------------------------------\u001b[0m",
            "\u001b[0;31mNameError\u001b[0m                                 Traceback (most recent call last)",
            "\u001b[0;32m<ipython-input-23-feb0fefd94d1>\u001b[0m in \u001b[0;36m<module>\u001b[0;34m()\u001b[0m\n\u001b[1;32m      2\u001b[0m \u001b[0mcount_one\u001b[0m \u001b[0;34m=\u001b[0m \u001b[0;36m0\u001b[0m\u001b[0;34m\u001b[0m\u001b[0;34m\u001b[0m\u001b[0m\n\u001b[1;32m      3\u001b[0m \u001b[0;34m\u001b[0m\u001b[0m\n\u001b[0;32m----> 4\u001b[0;31m \u001b[0;32mif\u001b[0m \u001b[0my\u001b[0m\u001b[0;34m[\u001b[0m\u001b[0mx\u001b[0m\u001b[0;34m]\u001b[0m \u001b[0;34m==\u001b[0m \u001b[0;36m0\u001b[0m\u001b[0;34m:\u001b[0m\u001b[0;34m\u001b[0m\u001b[0;34m\u001b[0m\u001b[0m\n\u001b[0m\u001b[1;32m      5\u001b[0m   \u001b[0mcount_zero\u001b[0m \u001b[0;34m+=\u001b[0m \u001b[0;36m1\u001b[0m\u001b[0;34m\u001b[0m\u001b[0;34m\u001b[0m\u001b[0m\n\u001b[1;32m      6\u001b[0m \u001b[0;32mif\u001b[0m \u001b[0my\u001b[0m\u001b[0;34m[\u001b[0m\u001b[0mx\u001b[0m\u001b[0;34m]\u001b[0m \u001b[0;34m==\u001b[0m \u001b[0;36m1\u001b[0m\u001b[0;34m:\u001b[0m\u001b[0;34m\u001b[0m\u001b[0;34m\u001b[0m\u001b[0m\n",
            "\u001b[0;31mNameError\u001b[0m: name 'x' is not defined"
          ]
        }
      ],
      "source": [
        "#count_zero= 0\n",
        "#count_one = 0\n",
        "\n",
        "#if y[x] == 0:\n",
        " # count_zero += 1\n",
        "#if y[x] == 1:\n",
        " # count_one += 1\n",
        "\n",
        "#print(\"0:\", count_zero, \"1:\", count_one)"
      ]
    },
    {
      "cell_type": "code",
      "source": [
        ""
      ],
      "metadata": {
        "id": "SYUaZjlMHxUG"
      },
      "execution_count": null,
      "outputs": []
    },
    {
      "cell_type": "code",
      "source": [
        ""
      ],
      "metadata": {
        "id": "D6F43tZkGANo"
      },
      "execution_count": null,
      "outputs": []
    },
    {
      "cell_type": "code",
      "execution_count": null,
      "metadata": {
        "id": "JCz28_ZDDaCf"
      },
      "outputs": [],
      "source": [
        ""
      ]
    },
    {
      "cell_type": "markdown",
      "metadata": {
        "id": "krTS9enf79X3"
      },
      "source": [
        "e) Führen Sie die Klassifizierung anhand der unten genannten Methoden durch (ohne Optimierung der Parameter). Vergleichen Sie die Feature Importance von Decision Tree, Random Forest und AdaBoost mit der der logistischen Regression aus 4d). Sind Feature Importance, Koffizienten und log der Wahrscheinlichkeit eines Features einer Klasse (feature_log_prob_) direkt vergleichbar? Warum? Sagen Sie vorher, ob ein Kreditantrag im Test-Datensatz abgelehnt wird. Berechnen Sie die AUC der ROC. Beschreiben Sie Ihre Erkenntnisse.\n",
        "\n",
        "i. Baseline: Häufigste Klasse <br>\n",
        "ii. Decision Tree (criterion = 'entropy')<br>\n",
        "iii. Random Forest<br>\n",
        "iv. AdaBoost<br>\n",
        "v. Naive Bayes (bei scikit-learn, bitte ComplementNB()benutzen)<br>\n",
        "vi. SVM (lineare Kernel)<br>"
      ]
    },
    {
      "cell_type": "code",
      "source": [
        ""
      ],
      "metadata": {
        "id": "eVZjowr5P3G5"
      },
      "execution_count": 23,
      "outputs": []
    },
    {
      "cell_type": "markdown",
      "source": [
        "Random Forests und der nicht parametrisierte AdaBoost ALG in sklearn beruhen im Kern auf Decision Tree Algorithmen. Daher kann man wie in Teilaufgabe b) beschrieben die Feature Importance bei diesen drei ALG mit dem Attribut feature_importances_ aus den Modellen ausgeben lassen. \n",
        "\n",
        "\n",
        "### Decision Tree\n",
        "array([0.19241344, 0.15832002, 0.21128136, 0.09119073, 0.04931418,\n",
        "       0.0408455 , 0.11565025, 0.0164895 , 0.01200884, 0.06527398,\n",
        "       0.02690759, 0.02030461])\n",
        "\n",
        "### Random Forest\n",
        "array([0.19620193, 0.1647678 , 0.19300114, 0.09185705, 0.03389089,\n",
        "       0.05307506, 0.08754554, 0.0137193 , 0.02601838, 0.08083466,\n",
        "       0.02663576, 0.0324525 ])\n",
        "\n",
        "### AdaBoost\n",
        "array([0.2 , 0.16, 0.42, 0.06, 0.02, 0.02, 0.04, 0.  , 0.02, 0.04, 0.  ,\n",
        "       0.02])\n",
        "\n",
        "\n",
        "Feature Importance bei Random Forest und Decision Tree ist ziemlich ähnlich. Bei AdaBoost mehr Varianz in den Feature Importances. Vlt. erklärbar, da AdaBoost speziell die schwierigeren Klassifikationsbeobachtungen verstärkt. Das Attribut **black** hat bei AdaBoost z.B. einen Koeffizienten von 0 bekommen.\n",
        "\n",
        "Die Wichtigkeit der Attribute bei der logistischen Regression wird durch die Größe der Koeffizienten des logistischen Regressionsmodell dargestellt. Der Vergleich mit dem feature_importances_ Attribut der Decision Tree ALG kann demanch nicht mit dem selben Maßstab erfolgen. Der Vergleich der relativen Wichtigkeit der Attribute ist allerdings möglich. (Um die Koeffizienten besser einschätzen zu können den exp wählen)?. \n",
        "\n",
        "### Koeffizienten Logistische Regression\n",
        "array([[ 5.12429811, -0.75047521,  1.37249567,  0.29559667,  0.21095364,\n",
        "         1.31067114,  4.32417475,  0.38353647,  0.48489014,  0.05728216,\n",
        "         0.01375989,  0.90449619]])\n",
        "\n",
        "Die relative Wichtigkeit der einzelenen Attribute ist unterschiedlich zwischen der logistischen Regression und den Decision Tree ALG. Beispielweise hat das Attribut **size_of_loan_to_assessed_value_of_property_ratio** die höchste Wichtigkeit unter den Decision Tree ALG hat allerdings nur die dritt höchste Wichtigkeit im Logistischen Regressionsmodell.\n",
        "\n",
        "\n",
        "Die Wichtigkeit der Feautres im Naive Bayes ALG kann mit feature_log_prob_ Attribut der Klasse in sklearn bestimmt werden. \n",
        "\n",
        "\n",
        "Feautre Importance, Koeffizienten und log der Wahrscheinlichkeit eines Features vergleichen (Naive Bayes)"
      ],
      "metadata": {
        "id": "YJfCgfZXTZq8"
      }
    },
    {
      "cell_type": "markdown",
      "metadata": {
        "id": "ibu4ON_zCI1F"
      },
      "source": [
        "## i. Baseline: Häufigste Klasse"
      ]
    },
    {
      "cell_type": "markdown",
      "metadata": {
        "id": "HOt9HPWzCOou"
      },
      "source": [
        "Die am häufigsten vorkommende Klasse der Target Variable **deny** ist 0 (siehe Histogram). Noch den relativen Anteil der Klasse ausrechnen (ca 90/10 Verhältniss), d.h. 90% Wahrscheinlichkeit für eine Kreditannahme. Den Klassifier noch implementieren"
      ]
    },
    {
      "cell_type": "markdown",
      "metadata": {
        "id": "uajabSS6Bjuf"
      },
      "source": [
        "##ii. DecisionTree"
      ]
    },
    {
      "cell_type": "code",
      "execution_count": 24,
      "metadata": {
        "id": "erhXSVPv88-L",
        "colab": {
          "base_uri": "https://localhost:8080/"
        },
        "outputId": "fd6c3add-d50c-4008-a408-f5dfd2498440"
      },
      "outputs": [
        {
          "output_type": "execute_result",
          "data": {
            "text/plain": [
              "DecisionTreeClassifier()"
            ]
          },
          "metadata": {},
          "execution_count": 24
        }
      ],
      "source": [
        "from sklearn.tree import DecisionTreeClassifier\n",
        "decisiontree_classifier = DecisionTreeClassifier()\n",
        "decisiontree_classifier.fit(X_train, y_train)\n"
      ]
    },
    {
      "cell_type": "code",
      "execution_count": 25,
      "metadata": {
        "id": "PF1smBpf89xZ",
        "colab": {
          "base_uri": "https://localhost:8080/"
        },
        "outputId": "46b88c1e-f5a6-4dff-a3d3-f31048268e94"
      },
      "outputs": [
        {
          "output_type": "execute_result",
          "data": {
            "text/plain": [
              "array([0.19241344, 0.15832002, 0.21128136, 0.09119073, 0.04931418,\n",
              "       0.0408455 , 0.11565025, 0.0164895 , 0.01200884, 0.06527398,\n",
              "       0.02690759, 0.02030461])"
            ]
          },
          "metadata": {},
          "execution_count": 25
        }
      ],
      "source": [
        "decisiontree_classifier.feature_importances_"
      ]
    },
    {
      "cell_type": "code",
      "execution_count": 26,
      "metadata": {
        "id": "Prs008PrBTin",
        "colab": {
          "base_uri": "https://localhost:8080/",
          "height": 296
        },
        "outputId": "4f3192ea-a883-4d87-8c6d-b89ba66355d5"
      },
      "outputs": [
        {
          "output_type": "execute_result",
          "data": {
            "text/plain": [
              "<sklearn.metrics._plot.roc_curve.RocCurveDisplay at 0x7fb0f213c690>"
            ]
          },
          "metadata": {},
          "execution_count": 26
        },
        {
          "output_type": "display_data",
          "data": {
            "text/plain": [
              "<Figure size 432x288 with 1 Axes>"
            ],
            "image/png": "[encoded data removed]"
          },
          "metadata": {
            "needs_background": "light"
          }
        }
      ],
      "source": [
        "# Vorhersage der Test Daten mittels Decision Tree und Darstellung der AUC der ROC (ggf. eine Funktion schreiben um das für alle auszutestenden ALG zu implementieren)\n",
        "\n",
        "\n",
        "y_predict_dt = decisiontree_classifier.predict(X_test)\n",
        "dt_roc_auc = roc_auc_score(y_test, y_predict_dt)\n",
        "RocCurveDisplay.from_predictions(y_test, y_predict_dt)"
      ]
    },
    {
      "cell_type": "markdown",
      "metadata": {
        "id": "S2_vw6UtCB10"
      },
      "source": [
        "## iii. Random Forest"
      ]
    },
    {
      "cell_type": "code",
      "source": [
        "from sklearn.ensemble import RandomForestClassifier\n",
        "randomforest_classifier = RandomForestClassifier()\n",
        "randomforest_classifier.fit(X_train, y_train)"
      ],
      "metadata": {
        "colab": {
          "base_uri": "https://localhost:8080/"
        },
        "id": "DqNPBAYKLtN1",
        "outputId": "de161c39-4f6e-4753-e4cb-f5c97ddd4c42"
      },
      "execution_count": 27,
      "outputs": [
        {
          "output_type": "execute_result",
          "data": {
            "text/plain": [
              "RandomForestClassifier()"
            ]
          },
          "metadata": {},
          "execution_count": 27
        }
      ]
    },
    {
      "cell_type": "code",
      "source": [
        "randomforest_classifier.feature_importances_"
      ],
      "metadata": {
        "colab": {
          "base_uri": "https://localhost:8080/"
        },
        "id": "CBpj6mQJMBBc",
        "outputId": "60be7d62-03a6-4b2c-f475-77b236d725e9"
      },
      "execution_count": 28,
      "outputs": [
        {
          "output_type": "execute_result",
          "data": {
            "text/plain": [
              "array([0.19620193, 0.1647678 , 0.19300114, 0.09185705, 0.03389089,\n",
              "       0.05307506, 0.08754554, 0.0137193 , 0.02601838, 0.08083466,\n",
              "       0.02663576, 0.0324525 ])"
            ]
          },
          "metadata": {},
          "execution_count": 28
        }
      ]
    },
    {
      "cell_type": "code",
      "source": [
        "# Vorhersage der Test Daten mittels RandomForest und Darstellung der AUC der ROC (ggf. eine Funktion schreiben um das für alle auszutestenden ALG zu implementieren)\n",
        "\n",
        "\n",
        "y_predict_rf = randomforest_classifier.predict(X_test)\n",
        "rf_roc_auc = roc_auc_score(y_test, y_predict_rf)\n",
        "RocCurveDisplay.from_predictions(y_test, y_predict_rf)"
      ],
      "metadata": {
        "colab": {
          "base_uri": "https://localhost:8080/",
          "height": 296
        },
        "id": "kNnQMs2lMFO4",
        "outputId": "7ff5ee12-98f6-4cf6-b6e7-37cc5a10c629"
      },
      "execution_count": 29,
      "outputs": [
        {
          "output_type": "execute_result",
          "data": {
            "text/plain": [
              "<sklearn.metrics._plot.roc_curve.RocCurveDisplay at 0x7fb0cf10c850>"
            ]
          },
          "metadata": {},
          "execution_count": 29
        },
        {
          "output_type": "display_data",
          "data": {
            "text/plain": [
              "<Figure size 432x288 with 1 Axes>"
            ],
            "image/png": "[encoded data removed]"
          },
          "metadata": {
            "needs_background": "light"
          }
        }
      ]
    },
    {
      "cell_type": "markdown",
      "source": [
        "## iv. AdaBoost"
      ],
      "metadata": {
        "id": "6QhRgBVcPu5n"
      }
    },
    {
      "cell_type": "code",
      "source": [
        "from sklearn.ensemble import AdaBoostClassifier\n",
        "adaboost_classifier = AdaBoostClassifier()\n",
        "adaboost_classifier.fit(X_train, y_train)"
      ],
      "metadata": {
        "colab": {
          "base_uri": "https://localhost:8080/"
        },
        "id": "Zl6VrZGcMQjA",
        "outputId": "75c89dab-4a7d-41a4-9356-59988b9ee311"
      },
      "execution_count": 30,
      "outputs": [
        {
          "output_type": "execute_result",
          "data": {
            "text/plain": [
              "AdaBoostClassifier()"
            ]
          },
          "metadata": {},
          "execution_count": 30
        }
      ]
    },
    {
      "cell_type": "code",
      "source": [
        "adaboost_classifier.feature_importances_"
      ],
      "metadata": {
        "colab": {
          "base_uri": "https://localhost:8080/"
        },
        "id": "pZ8r4UtIaA-P",
        "outputId": "4b9ede52-3e0d-4d49-d7fc-83e4913b8b88"
      },
      "execution_count": 38,
      "outputs": [
        {
          "output_type": "execute_result",
          "data": {
            "text/plain": [
              "array([0.2 , 0.16, 0.42, 0.06, 0.02, 0.02, 0.04, 0.  , 0.02, 0.04, 0.  ,\n",
              "       0.02])"
            ]
          },
          "metadata": {},
          "execution_count": 38
        }
      ]
    },
    {
      "cell_type": "code",
      "source": [
        ""
      ],
      "metadata": {
        "id": "56z7UQ4kaMon"
      },
      "execution_count": null,
      "outputs": []
    },
    {
      "cell_type": "code",
      "source": [
        ""
      ],
      "metadata": {
        "id": "njU52ovZaKGG"
      },
      "execution_count": null,
      "outputs": []
    },
    {
      "cell_type": "code",
      "source": [
        "# Vorhersage der Test Daten mittels AdaBoost und Darstellung der AUC der ROC (ggf. eine Funktion schreiben um das für alle auszutestenden ALG zu implementieren)\n",
        "\n",
        "\n",
        "y_predict_ab = adaboost_classifier.predict(X_test)\n",
        "ab_roc_auc = roc_auc_score(y_test, y_predict_ab)\n",
        "RocCurveDisplay.from_predictions(y_test, y_predict_ab)"
      ],
      "metadata": {
        "colab": {
          "base_uri": "https://localhost:8080/",
          "height": 296
        },
        "id": "O70PcOkBQV3i",
        "outputId": "23d62a53-cf8f-4116-e619-98e5b41ecc7c"
      },
      "execution_count": 31,
      "outputs": [
        {
          "output_type": "execute_result",
          "data": {
            "text/plain": [
              "<sklearn.metrics._plot.roc_curve.RocCurveDisplay at 0x7fb0cf0e7c50>"
            ]
          },
          "metadata": {},
          "execution_count": 31
        },
        {
          "output_type": "display_data",
          "data": {
            "text/plain": [
              "<Figure size 432x288 with 1 Axes>"
            ],
            "image/png": "[encoded data removed]"
          },
          "metadata": {
            "needs_background": "light"
          }
        }
      ]
    },
    {
      "cell_type": "markdown",
      "source": [
        "## v. Naive Bayes (bei scikit-learn, bitte ComplementNB()benutzen)"
      ],
      "metadata": {
        "id": "LX03GPJsQ14x"
      }
    },
    {
      "cell_type": "code",
      "source": [
        "from sklearn.naive_bayes import ComplementNB\n",
        "naivebayes_classifier = ComplementNB()\n",
        "naivebayes_classifier.fit(X_train, y_train)"
      ],
      "metadata": {
        "colab": {
          "base_uri": "https://localhost:8080/"
        },
        "id": "oIymCQg-L-Sv",
        "outputId": "2a764c3b-e54d-413a-c8c6-91140e4c8750"
      },
      "execution_count": 32,
      "outputs": [
        {
          "output_type": "execute_result",
          "data": {
            "text/plain": [
              "ComplementNB()"
            ]
          },
          "metadata": {},
          "execution_count": 32
        }
      ]
    },
    {
      "cell_type": "code",
      "source": [
        "# Vorhersage der Test Daten mittels NaiveBayes und Darstellung der AUC der ROC (ggf. eine Funktion schreiben um das für alle auszutestenden ALG zu implementieren)\n",
        "\n",
        "\n",
        "y_predict_nb = naivebayes_classifier.predict(X_test)\n",
        "ab_roc_auc = roc_auc_score(y_test, y_predict_nb)\n",
        "RocCurveDisplay.from_predictions(y_test, y_predict_nb)"
      ],
      "metadata": {
        "colab": {
          "base_uri": "https://localhost:8080/",
          "height": 296
        },
        "id": "EeXR2yKIRlp3",
        "outputId": "db9af342-d491-4f22-a33d-6dfa272d6f49"
      },
      "execution_count": 33,
      "outputs": [
        {
          "output_type": "execute_result",
          "data": {
            "text/plain": [
              "<sklearn.metrics._plot.roc_curve.RocCurveDisplay at 0x7fb0cf054410>"
            ]
          },
          "metadata": {},
          "execution_count": 33
        },
        {
          "output_type": "display_data",
          "data": {
            "text/plain": [
              "<Figure size 432x288 with 1 Axes>"
            ],
            "image/png": "[encoded data removed]"
          },
          "metadata": {
            "needs_background": "light"
          }
        }
      ]
    },
    {
      "cell_type": "code",
      "source": [
        "naivebayes_classifier.feature_log_prob_\n",
        "#wieso zwei Zeilen Ausgabe?"
      ],
      "metadata": {
        "colab": {
          "base_uri": "https://localhost:8080/"
        },
        "id": "qy1VsLwlXWk1",
        "outputId": "fee0bbe4-4df2-4e6d-b5ad-9acdc8c0e5da"
      },
      "execution_count": 34,
      "outputs": [
        {
          "output_type": "execute_result",
          "data": {
            "text/plain": [
              "array([[3.43757056, 3.72308402, 2.71025882, 1.33622531, 1.87522182,\n",
              "        3.89012484, 4.389116  , 4.44974062, 3.22412864, 1.13000187,\n",
              "        3.61141143, 3.62501709],\n",
              "       [3.39402125, 3.64474123, 2.58050186, 1.59874087, 1.73533131,\n",
              "        5.48781601, 8.08307072, 4.46676195, 3.23104045, 0.94177808,\n",
              "        3.52709077, 4.48302248]])"
            ]
          },
          "metadata": {},
          "execution_count": 34
        }
      ]
    },
    {
      "cell_type": "code",
      "source": [
        ""
      ],
      "metadata": {
        "id": "d5CvW0JaXcBC"
      },
      "execution_count": 34,
      "outputs": []
    },
    {
      "cell_type": "markdown",
      "source": [
        "## vi. SVM (linearer Kernel)"
      ],
      "metadata": {
        "id": "3hmSNXD8RxOo"
      }
    },
    {
      "cell_type": "code",
      "source": [
        "from sklearn.svm import LinearSVC\n",
        "svm_classifier = LinearSVC(class_weight =\"balanced\")\n",
        "svm_classifier.fit(X_train, y_train)"
      ],
      "metadata": {
        "colab": {
          "base_uri": "https://localhost:8080/"
        },
        "id": "JWb20MWSR3kO",
        "outputId": "e06f2ee7-ff15-4838-ee97-71b3b68eb8fd"
      },
      "execution_count": 35,
      "outputs": [
        {
          "output_type": "stream",
          "name": "stderr",
          "text": [
            "/usr/local/lib/python3.7/dist-packages/sklearn/svm/_base.py:1208: ConvergenceWarning: Liblinear failed to converge, increase the number of iterations.\n",
            "  ConvergenceWarning,\n"
          ]
        },
        {
          "output_type": "execute_result",
          "data": {
            "text/plain": [
              "LinearSVC(class_weight='balanced')"
            ]
          },
          "metadata": {},
          "execution_count": 35
        }
      ]
    },
    {
      "cell_type": "code",
      "source": [
        ""
      ],
      "metadata": {
        "id": "SAKIGmJ3S1l2"
      },
      "execution_count": 35,
      "outputs": []
    },
    {
      "cell_type": "code",
      "source": [
        ""
      ],
      "metadata": {
        "id": "_079UleSSz1e"
      },
      "execution_count": 35,
      "outputs": []
    },
    {
      "cell_type": "code",
      "source": [
        "# Vorhersage der Test Daten mittels SVM mit linearem Kernel und Darstellung der AUC der ROC (ggf. eine Funktion schreiben um das für alle auszutestenden ALG zu implementieren)\n",
        "\n",
        "\n",
        "y_predict_svm = svm_classifier.predict(X_test)\n",
        "ab_roc_auc = roc_auc_score(y_test, y_predict_svm)\n",
        "RocCurveDisplay.from_predictions(y_test, y_predict_svm)"
      ],
      "metadata": {
        "colab": {
          "base_uri": "https://localhost:8080/",
          "height": 296
        },
        "id": "5sDRxqV7Sa9r",
        "outputId": "2f2afb66-ad7b-44f8-873e-89d9bc9413ec"
      },
      "execution_count": 36,
      "outputs": [
        {
          "output_type": "execute_result",
          "data": {
            "text/plain": [
              "<sklearn.metrics._plot.roc_curve.RocCurveDisplay at 0x7fb0cef99bd0>"
            ]
          },
          "metadata": {},
          "execution_count": 36
        },
        {
          "output_type": "display_data",
          "data": {
            "text/plain": [
              "<Figure size 432x288 with 1 Axes>"
            ],
            "image/png": "[encoded data removed]"
          },
          "metadata": {
            "needs_background": "light"
          }
        }
      ]
    },
    {
      "cell_type": "code",
      "source": [
        ""
      ],
      "metadata": {
        "id": "wAEFpBDDSpJe"
      },
      "execution_count": 36,
      "outputs": []
    },
    {
      "cell_type": "code",
      "source": [
        ""
      ],
      "metadata": {
        "id": "dC0r7l8LRz8o"
      },
      "execution_count": 36,
      "outputs": []
    },
    {
      "cell_type": "code",
      "source": [
        ""
      ],
      "metadata": {
        "id": "W1-iqpySRzQE"
      },
      "execution_count": 36,
      "outputs": []
    },
    {
      "cell_type": "code",
      "source": [
        ""
      ],
      "metadata": {
        "id": "4srTg17RRvo_"
      },
      "execution_count": 36,
      "outputs": []
    },
    {
      "cell_type": "markdown",
      "metadata": {
        "id": "QgKl005J6kQk"
      },
      "source": [
        "### Für Folien\n",
        "unser Modell perfomrt schlecht weil nicht auf class_imbalance eingegangen wurde, von einem schlecht performenden Modell ausgehend können auch keine validen Schlüsse auf Feature Importances gezogen werden\n",
        "\n",
        "Performance von Logit wird besser durch class_weight balance\n",
        "\n",
        "Decision Tree und Random Forest schlechter um ca. 0.05 AUC Punkte\n",
        "\n",
        "AdaBosst hat kein class_weight Attribut\n",
        "\n",
        "Naive Bayes ComplementNB ist speziell für Imbalanced Data ausgelegt\n",
        "\n",
        "SVM verbessert sich mit class_weight balanced um 0.10 AUC Punkte"
      ]
    },
    {
      "cell_type": "code",
      "execution_count": 36,
      "metadata": {
        "id": "AGAfbsHee4CS"
      },
      "outputs": [],
      "source": [
        ""
      ]
    },
    {
      "cell_type": "code",
      "execution_count": 36,
      "metadata": {
        "id": "9NzNt1NCe1Of"
      },
      "outputs": [],
      "source": [
        ""
      ]
    },
    {
      "cell_type": "code",
      "execution_count": 36,
      "metadata": {
        "id": "7yZHj8LLezF3"
      },
      "outputs": [],
      "source": [
        ""
      ]
    },
    {
      "cell_type": "markdown",
      "metadata": {
        "id": "2Umc7E77c7Kn"
      },
      "source": [
        ""
      ]
    },
    {
      "cell_type": "code",
      "execution_count": 36,
      "metadata": {
        "id": "CoLCOi2s0keg"
      },
      "outputs": [],
      "source": [
        ""
      ]
    },
    {
      "cell_type": "code",
      "execution_count": 36,
      "metadata": {
        "id": "VU4IAujiri19"
      },
      "outputs": [],
      "source": [
        ""
      ]
    },
    {
      "cell_type": "code",
      "execution_count": 36,
      "metadata": {
        "id": "L_0NB4Z5rap9"
      },
      "outputs": [],
      "source": [
        ""
      ]
    },
    {
      "cell_type": "code",
      "execution_count": 36,
      "metadata": {
        "id": "CbC42Q6yrXDC"
      },
      "outputs": [],
      "source": [
        ""
      ]
    },
    {
      "cell_type": "code",
      "execution_count": 36,
      "metadata": {
        "id": "sV0P3DCJrOUI"
      },
      "outputs": [],
      "source": [
        ""
      ]
    },
    {
      "cell_type": "code",
      "execution_count": 36,
      "metadata": {
        "id": "tH87gEbbIqI9"
      },
      "outputs": [],
      "source": [
        ""
      ]
    },
    {
      "cell_type": "code",
      "execution_count": 36,
      "metadata": {
        "id": "h8MAR1fuioi_"
      },
      "outputs": [],
      "source": [
        ""
      ]
    },
    {
      "cell_type": "code",
      "execution_count": 36,
      "metadata": {
        "id": "9o1iRUfrinHa"
      },
      "outputs": [],
      "source": [
        ""
      ]
    },
    {
      "cell_type": "code",
      "execution_count": 36,
      "metadata": {
        "id": "gzlS76ADijc9"
      },
      "outputs": [],
      "source": [
        ""
      ]
    },
    {
      "cell_type": "code",
      "execution_count": 36,
      "metadata": {
        "id": "vWpKwbTYgu_U"
      },
      "outputs": [],
      "source": [
        ""
      ]
    },
    {
      "cell_type": "code",
      "execution_count": 36,
      "metadata": {
        "id": "WRKbKFHFgmlD"
      },
      "outputs": [],
      "source": [
        ""
      ]
    },
    {
      "cell_type": "code",
      "execution_count": 36,
      "metadata": {
        "id": "QtCtOXeYghcL"
      },
      "outputs": [],
      "source": [
        ""
      ]
    },
    {
      "cell_type": "code",
      "execution_count": 36,
      "metadata": {
        "id": "1vt4SVO-gQTV"
      },
      "outputs": [],
      "source": [
        ""
      ]
    },
    {
      "cell_type": "code",
      "execution_count": 36,
      "metadata": {
        "id": "iAcwkcgOgA-m"
      },
      "outputs": [],
      "source": [
        ""
      ]
    },
    {
      "cell_type": "code",
      "execution_count": 36,
      "metadata": {
        "id": "C5S9V4G0f4hB"
      },
      "outputs": [],
      "source": [
        ""
      ]
    },
    {
      "cell_type": "code",
      "execution_count": 36,
      "metadata": {
        "id": "Os3Ni8xdfWQJ"
      },
      "outputs": [],
      "source": [
        ""
      ]
    },
    {
      "cell_type": "code",
      "execution_count": 36,
      "metadata": {
        "id": "5rCX21XIfQm8"
      },
      "outputs": [],
      "source": [
        ""
      ]
    },
    {
      "cell_type": "code",
      "execution_count": 36,
      "metadata": {
        "id": "nYrFPLKJfMG_"
      },
      "outputs": [],
      "source": [
        ""
      ]
    },
    {
      "cell_type": "code",
      "execution_count": 36,
      "metadata": {
        "id": "ZnyctTKSfKXi"
      },
      "outputs": [],
      "source": [
        ""
      ]
    },
    {
      "cell_type": "code",
      "execution_count": 36,
      "metadata": {
        "id": "HRfLFfA8fGof"
      },
      "outputs": [],
      "source": [
        ""
      ]
    },
    {
      "cell_type": "code",
      "execution_count": 36,
      "metadata": {
        "id": "8akAFuL3fBAk"
      },
      "outputs": [],
      "source": [
        ""
      ]
    },
    {
      "cell_type": "code",
      "execution_count": 36,
      "metadata": {
        "id": "xowmjKBueu_V"
      },
      "outputs": [],
      "source": [
        ""
      ]
    },
    {
      "cell_type": "code",
      "execution_count": 36,
      "metadata": {
        "id": "4FzHd6BXepkd"
      },
      "outputs": [],
      "source": [
        ""
      ]
    },
    {
      "cell_type": "code",
      "execution_count": 36,
      "metadata": {
        "id": "oVgva5QhemTA"
      },
      "outputs": [],
      "source": [
        ""
      ]
    },
    {
      "cell_type": "code",
      "execution_count": 36,
      "metadata": {
        "id": "OnF_apJjXcDw"
      },
      "outputs": [],
      "source": [
        ""
      ]
    }
  ],
  "metadata": {
    "colab": {
      "name": "Aufgabe_5.ipynb",
      "provenance": [],
      "collapsed_sections": [
        "YAC_BoZgV8qS",
        "YWDbIgGDcccB",
        "ghtZazmWCzyO",
        "QgKl005J6kQk"
      ],
      "mount_file_id": "1nG0mVt80VXVvK4yRqMbLbUy99ZE1rjfE",
      "authorship_tag": "ABX9TyNY2qHtdmI1rZYSuP2Rs9Jr",
      "include_colab_link": true
    },
    "kernelspec": {
      "display_name": "Python 3",
      "name": "python3"
    },
    "language_info": {
      "name": "python"
    }
  },
  "nbformat": 4,
  "nbformat_minor": 0
}