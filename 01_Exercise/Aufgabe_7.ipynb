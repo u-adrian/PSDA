{
  "nbformat": 4,
  "nbformat_minor": 0,
  "metadata": {
    "colab": {
      "name": "Kopie von Kopie von Aufgabe_7.ipynb",
      "provenance": [],
      "authorship_tag": "ABX9TyPtBFQu3mqzqYX6SK4dUg4z",
      "include_colab_link": true
    },
    "kernelspec": {
      "name": "python3",
      "display_name": "Python 3"
    },
    "language_info": {
      "name": "python"
    }
  },
  "cells": [
    {
      "cell_type": "markdown",
      "metadata": {
        "id": "view-in-github",
        "colab_type": "text"
      },
      "source": [
        "<a href=\"https://colab.research.google.com/github/u-adrian/PSDA/blob/main/01_Exercise/Aufgabe_7.ipynb\" target=\"_parent\"><img src=\"https://colab.research.google.com/assets/colab-badge.svg\" alt=\"Open In Colab\"/></a>"
      ]
    },
    {
      "cell_type": "markdown",
      "source": [
        "Model: Random Forest\n",
        "Hyperparam:\n",
        "*   Tiefe der Bäume: [4, 8, 16, 32]\n",
        "*   Anzahl der Bäume: [4, 8, 16, 32]\n",
        "*   Bagging: [Yes,No]\n",
        "*   Random split selection: [Yes, No]\n",
        "*   Criterion: [gini, entropy]\n"
      ],
      "metadata": {
        "id": "pTZ8OTk_IToT"
      }
    },
    {
      "cell_type": "code",
      "execution_count": 1,
      "metadata": {
        "id": "9Q1UaurkWF6F",
        "colab": {
          "base_uri": "https://localhost:8080/"
        },
        "outputId": "8569cc5e-29ab-4ef9-f807-faf52b4f06ec"
      },
      "outputs": [
        {
          "output_type": "execute_result",
          "data": {
            "text/plain": [
              "['mean_fit_time',\n",
              " 'mean_score_time',\n",
              " 'mean_test_score',\n",
              " 'param_bootstrap',\n",
              " 'param_criterion',\n",
              " 'param_max_depth',\n",
              " 'param_max_features',\n",
              " 'param_n_estimators',\n",
              " 'params',\n",
              " 'rank_test_score',\n",
              " 'split0_test_score',\n",
              " 'split1_test_score',\n",
              " 'split2_test_score',\n",
              " 'split3_test_score',\n",
              " 'split4_test_score',\n",
              " 'std_fit_time',\n",
              " 'std_score_time',\n",
              " 'std_test_score']"
            ]
          },
          "metadata": {},
          "execution_count": 1
        }
      ],
      "source": [
        "from sklearn.ensemble import RandomForestClassifier\n",
        "from sklearn.datasets import load_iris\n",
        "\n",
        "from sklearn.model_selection import GridSearchCV\n",
        "\n",
        "dataset = load_iris()\n",
        "dataset\n",
        "X = dataset.data\n",
        "y = dataset.target\n",
        "\n",
        "forest = RandomForestClassifier(random_state=0)\n",
        "\n",
        "parameters = {'max_depth':[4,8,16,32], 'n_estimators':[4,8,16,32], 'bootstrap':[True,False], 'max_features': ['sqrt','log2',None], 'criterion':['gini','entropy']}\n",
        "\n",
        "gscv = GridSearchCV(forest, parameters)\n",
        "gscv.fit(X, y)\n",
        "sorted(gscv.cv_results_.keys())"
      ]
    },
    {
      "cell_type": "code",
      "source": [
        "print(gscv.cv_results_['rank_test_score'])\n"
      ],
      "metadata": {
        "colab": {
          "base_uri": "https://localhost:8080/"
        },
        "id": "QZa47zSUOeGd",
        "outputId": "94f332ee-cf3a-4b9c-b12d-fb32ea95c43f"
      },
      "execution_count": 2,
      "outputs": [
        {
          "output_type": "stream",
          "name": "stdout",
          "text": [
            "[136 136  91  65 136 136  91  65  91 136  32  65 136 174  32  65 136 174\n",
            "  32  65 171 174  32  65 136 174  32  65 136 174  32  65 171 174  32  65\n",
            " 136 174  32  65 136 174  32  65 171 174  32  65 136  91  32   1 136  91\n",
            "  32   1 136 183  32   1 136 183  91   1 136 183  91   1 136 190  32   1\n",
            " 136 183  91   1 136 183  91   1 136 190  32   1 136 183  91   1 136 183\n",
            "  91   1 136 190  32   1   1  32  32  32   1  32  32  32  32  32  32  32\n",
            "  65  91   1 136  65  91   1 136   1  32   1   1  65  91   1 136  65  91\n",
            "   1 136   1  32   1   1  65  91   1 136  65  91   1 136   1  32   1   1\n",
            "  32  32  65   1  32  32  65   1  91  91  91  91  91 136  65  91  91 136\n",
            "  65  91  91  91  91  91  91 136  65  91  91 136  65  91  91  91  91  91\n",
            "  91 136  65  91  91 136  65  91  91  91  91  91]\n"
          ]
        }
      ]
    },
    {
      "cell_type": "code",
      "source": [
        "gscv.best_estimator_"
      ],
      "metadata": {
        "colab": {
          "base_uri": "https://localhost:8080/"
        },
        "id": "UV3MJcOnP-eI",
        "outputId": "e11c96d8-8e1e-4c80-9a00-c9977cd555d5"
      },
      "execution_count": 3,
      "outputs": [
        {
          "output_type": "execute_result",
          "data": {
            "text/plain": [
              "RandomForestClassifier(criterion='entropy', max_depth=4, max_features='sqrt',\n",
              "                       n_estimators=32, random_state=0)"
            ]
          },
          "metadata": {},
          "execution_count": 3
        }
      ]
    },
    {
      "cell_type": "code",
      "source": [
        "print(gscv.cv_results_['params'])"
      ],
      "metadata": {
        "colab": {
          "base_uri": "https://localhost:8080/"
        },
        "id": "68w9cW_HPisN",
        "outputId": "d7b3b6e7-e08a-4b94-a4cf-2591ba964dc2"
      },
      "execution_count": 4,
      "outputs": [
        {
          "output_type": "stream",
          "name": "stdout",
          "text": [
            "[{'bootstrap': True, 'criterion': 'gini', 'max_depth': 4, 'max_features': 'sqrt', 'n_estimators': 4}, {'bootstrap': True, 'criterion': 'gini', 'max_depth': 4, 'max_features': 'sqrt', 'n_estimators': 8}, {'bootstrap': True, 'criterion': 'gini', 'max_depth': 4, 'max_features': 'sqrt', 'n_estimators': 16}, {'bootstrap': True, 'criterion': 'gini', 'max_depth': 4, 'max_features': 'sqrt', 'n_estimators': 32}, {'bootstrap': True, 'criterion': 'gini', 'max_depth': 4, 'max_features': 'log2', 'n_estimators': 4}, {'bootstrap': True, 'criterion': 'gini', 'max_depth': 4, 'max_features': 'log2', 'n_estimators': 8}, {'bootstrap': True, 'criterion': 'gini', 'max_depth': 4, 'max_features': 'log2', 'n_estimators': 16}, {'bootstrap': True, 'criterion': 'gini', 'max_depth': 4, 'max_features': 'log2', 'n_estimators': 32}, {'bootstrap': True, 'criterion': 'gini', 'max_depth': 4, 'max_features': None, 'n_estimators': 4}, {'bootstrap': True, 'criterion': 'gini', 'max_depth': 4, 'max_features': None, 'n_estimators': 8}, {'bootstrap': True, 'criterion': 'gini', 'max_depth': 4, 'max_features': None, 'n_estimators': 16}, {'bootstrap': True, 'criterion': 'gini', 'max_depth': 4, 'max_features': None, 'n_estimators': 32}, {'bootstrap': True, 'criterion': 'gini', 'max_depth': 8, 'max_features': 'sqrt', 'n_estimators': 4}, {'bootstrap': True, 'criterion': 'gini', 'max_depth': 8, 'max_features': 'sqrt', 'n_estimators': 8}, {'bootstrap': True, 'criterion': 'gini', 'max_depth': 8, 'max_features': 'sqrt', 'n_estimators': 16}, {'bootstrap': True, 'criterion': 'gini', 'max_depth': 8, 'max_features': 'sqrt', 'n_estimators': 32}, {'bootstrap': True, 'criterion': 'gini', 'max_depth': 8, 'max_features': 'log2', 'n_estimators': 4}, {'bootstrap': True, 'criterion': 'gini', 'max_depth': 8, 'max_features': 'log2', 'n_estimators': 8}, {'bootstrap': True, 'criterion': 'gini', 'max_depth': 8, 'max_features': 'log2', 'n_estimators': 16}, {'bootstrap': True, 'criterion': 'gini', 'max_depth': 8, 'max_features': 'log2', 'n_estimators': 32}, {'bootstrap': True, 'criterion': 'gini', 'max_depth': 8, 'max_features': None, 'n_estimators': 4}, {'bootstrap': True, 'criterion': 'gini', 'max_depth': 8, 'max_features': None, 'n_estimators': 8}, {'bootstrap': True, 'criterion': 'gini', 'max_depth': 8, 'max_features': None, 'n_estimators': 16}, {'bootstrap': True, 'criterion': 'gini', 'max_depth': 8, 'max_features': None, 'n_estimators': 32}, {'bootstrap': True, 'criterion': 'gini', 'max_depth': 16, 'max_features': 'sqrt', 'n_estimators': 4}, {'bootstrap': True, 'criterion': 'gini', 'max_depth': 16, 'max_features': 'sqrt', 'n_estimators': 8}, {'bootstrap': True, 'criterion': 'gini', 'max_depth': 16, 'max_features': 'sqrt', 'n_estimators': 16}, {'bootstrap': True, 'criterion': 'gini', 'max_depth': 16, 'max_features': 'sqrt', 'n_estimators': 32}, {'bootstrap': True, 'criterion': 'gini', 'max_depth': 16, 'max_features': 'log2', 'n_estimators': 4}, {'bootstrap': True, 'criterion': 'gini', 'max_depth': 16, 'max_features': 'log2', 'n_estimators': 8}, {'bootstrap': True, 'criterion': 'gini', 'max_depth': 16, 'max_features': 'log2', 'n_estimators': 16}, {'bootstrap': True, 'criterion': 'gini', 'max_depth': 16, 'max_features': 'log2', 'n_estimators': 32}, {'bootstrap': True, 'criterion': 'gini', 'max_depth': 16, 'max_features': None, 'n_estimators': 4}, {'bootstrap': True, 'criterion': 'gini', 'max_depth': 16, 'max_features': None, 'n_estimators': 8}, {'bootstrap': True, 'criterion': 'gini', 'max_depth': 16, 'max_features': None, 'n_estimators': 16}, {'bootstrap': True, 'criterion': 'gini', 'max_depth': 16, 'max_features': None, 'n_estimators': 32}, {'bootstrap': True, 'criterion': 'gini', 'max_depth': 32, 'max_features': 'sqrt', 'n_estimators': 4}, {'bootstrap': True, 'criterion': 'gini', 'max_depth': 32, 'max_features': 'sqrt', 'n_estimators': 8}, {'bootstrap': True, 'criterion': 'gini', 'max_depth': 32, 'max_features': 'sqrt', 'n_estimators': 16}, {'bootstrap': True, 'criterion': 'gini', 'max_depth': 32, 'max_features': 'sqrt', 'n_estimators': 32}, {'bootstrap': True, 'criterion': 'gini', 'max_depth': 32, 'max_features': 'log2', 'n_estimators': 4}, {'bootstrap': True, 'criterion': 'gini', 'max_depth': 32, 'max_features': 'log2', 'n_estimators': 8}, {'bootstrap': True, 'criterion': 'gini', 'max_depth': 32, 'max_features': 'log2', 'n_estimators': 16}, {'bootstrap': True, 'criterion': 'gini', 'max_depth': 32, 'max_features': 'log2', 'n_estimators': 32}, {'bootstrap': True, 'criterion': 'gini', 'max_depth': 32, 'max_features': None, 'n_estimators': 4}, {'bootstrap': True, 'criterion': 'gini', 'max_depth': 32, 'max_features': None, 'n_estimators': 8}, {'bootstrap': True, 'criterion': 'gini', 'max_depth': 32, 'max_features': None, 'n_estimators': 16}, {'bootstrap': True, 'criterion': 'gini', 'max_depth': 32, 'max_features': None, 'n_estimators': 32}, {'bootstrap': True, 'criterion': 'entropy', 'max_depth': 4, 'max_features': 'sqrt', 'n_estimators': 4}, {'bootstrap': True, 'criterion': 'entropy', 'max_depth': 4, 'max_features': 'sqrt', 'n_estimators': 8}, {'bootstrap': True, 'criterion': 'entropy', 'max_depth': 4, 'max_features': 'sqrt', 'n_estimators': 16}, {'bootstrap': True, 'criterion': 'entropy', 'max_depth': 4, 'max_features': 'sqrt', 'n_estimators': 32}, {'bootstrap': True, 'criterion': 'entropy', 'max_depth': 4, 'max_features': 'log2', 'n_estimators': 4}, {'bootstrap': True, 'criterion': 'entropy', 'max_depth': 4, 'max_features': 'log2', 'n_estimators': 8}, {'bootstrap': True, 'criterion': 'entropy', 'max_depth': 4, 'max_features': 'log2', 'n_estimators': 16}, {'bootstrap': True, 'criterion': 'entropy', 'max_depth': 4, 'max_features': 'log2', 'n_estimators': 32}, {'bootstrap': True, 'criterion': 'entropy', 'max_depth': 4, 'max_features': None, 'n_estimators': 4}, {'bootstrap': True, 'criterion': 'entropy', 'max_depth': 4, 'max_features': None, 'n_estimators': 8}, {'bootstrap': True, 'criterion': 'entropy', 'max_depth': 4, 'max_features': None, 'n_estimators': 16}, {'bootstrap': True, 'criterion': 'entropy', 'max_depth': 4, 'max_features': None, 'n_estimators': 32}, {'bootstrap': True, 'criterion': 'entropy', 'max_depth': 8, 'max_features': 'sqrt', 'n_estimators': 4}, {'bootstrap': True, 'criterion': 'entropy', 'max_depth': 8, 'max_features': 'sqrt', 'n_estimators': 8}, {'bootstrap': True, 'criterion': 'entropy', 'max_depth': 8, 'max_features': 'sqrt', 'n_estimators': 16}, {'bootstrap': True, 'criterion': 'entropy', 'max_depth': 8, 'max_features': 'sqrt', 'n_estimators': 32}, {'bootstrap': True, 'criterion': 'entropy', 'max_depth': 8, 'max_features': 'log2', 'n_estimators': 4}, {'bootstrap': True, 'criterion': 'entropy', 'max_depth': 8, 'max_features': 'log2', 'n_estimators': 8}, {'bootstrap': True, 'criterion': 'entropy', 'max_depth': 8, 'max_features': 'log2', 'n_estimators': 16}, {'bootstrap': True, 'criterion': 'entropy', 'max_depth': 8, 'max_features': 'log2', 'n_estimators': 32}, {'bootstrap': True, 'criterion': 'entropy', 'max_depth': 8, 'max_features': None, 'n_estimators': 4}, {'bootstrap': True, 'criterion': 'entropy', 'max_depth': 8, 'max_features': None, 'n_estimators': 8}, {'bootstrap': True, 'criterion': 'entropy', 'max_depth': 8, 'max_features': None, 'n_estimators': 16}, {'bootstrap': True, 'criterion': 'entropy', 'max_depth': 8, 'max_features': None, 'n_estimators': 32}, {'bootstrap': True, 'criterion': 'entropy', 'max_depth': 16, 'max_features': 'sqrt', 'n_estimators': 4}, {'bootstrap': True, 'criterion': 'entropy', 'max_depth': 16, 'max_features': 'sqrt', 'n_estimators': 8}, {'bootstrap': True, 'criterion': 'entropy', 'max_depth': 16, 'max_features': 'sqrt', 'n_estimators': 16}, {'bootstrap': True, 'criterion': 'entropy', 'max_depth': 16, 'max_features': 'sqrt', 'n_estimators': 32}, {'bootstrap': True, 'criterion': 'entropy', 'max_depth': 16, 'max_features': 'log2', 'n_estimators': 4}, {'bootstrap': True, 'criterion': 'entropy', 'max_depth': 16, 'max_features': 'log2', 'n_estimators': 8}, {'bootstrap': True, 'criterion': 'entropy', 'max_depth': 16, 'max_features': 'log2', 'n_estimators': 16}, {'bootstrap': True, 'criterion': 'entropy', 'max_depth': 16, 'max_features': 'log2', 'n_estimators': 32}, {'bootstrap': True, 'criterion': 'entropy', 'max_depth': 16, 'max_features': None, 'n_estimators': 4}, {'bootstrap': True, 'criterion': 'entropy', 'max_depth': 16, 'max_features': None, 'n_estimators': 8}, {'bootstrap': True, 'criterion': 'entropy', 'max_depth': 16, 'max_features': None, 'n_estimators': 16}, {'bootstrap': True, 'criterion': 'entropy', 'max_depth': 16, 'max_features': None, 'n_estimators': 32}, {'bootstrap': True, 'criterion': 'entropy', 'max_depth': 32, 'max_features': 'sqrt', 'n_estimators': 4}, {'bootstrap': True, 'criterion': 'entropy', 'max_depth': 32, 'max_features': 'sqrt', 'n_estimators': 8}, {'bootstrap': True, 'criterion': 'entropy', 'max_depth': 32, 'max_features': 'sqrt', 'n_estimators': 16}, {'bootstrap': True, 'criterion': 'entropy', 'max_depth': 32, 'max_features': 'sqrt', 'n_estimators': 32}, {'bootstrap': True, 'criterion': 'entropy', 'max_depth': 32, 'max_features': 'log2', 'n_estimators': 4}, {'bootstrap': True, 'criterion': 'entropy', 'max_depth': 32, 'max_features': 'log2', 'n_estimators': 8}, {'bootstrap': True, 'criterion': 'entropy', 'max_depth': 32, 'max_features': 'log2', 'n_estimators': 16}, {'bootstrap': True, 'criterion': 'entropy', 'max_depth': 32, 'max_features': 'log2', 'n_estimators': 32}, {'bootstrap': True, 'criterion': 'entropy', 'max_depth': 32, 'max_features': None, 'n_estimators': 4}, {'bootstrap': True, 'criterion': 'entropy', 'max_depth': 32, 'max_features': None, 'n_estimators': 8}, {'bootstrap': True, 'criterion': 'entropy', 'max_depth': 32, 'max_features': None, 'n_estimators': 16}, {'bootstrap': True, 'criterion': 'entropy', 'max_depth': 32, 'max_features': None, 'n_estimators': 32}, {'bootstrap': False, 'criterion': 'gini', 'max_depth': 4, 'max_features': 'sqrt', 'n_estimators': 4}, {'bootstrap': False, 'criterion': 'gini', 'max_depth': 4, 'max_features': 'sqrt', 'n_estimators': 8}, {'bootstrap': False, 'criterion': 'gini', 'max_depth': 4, 'max_features': 'sqrt', 'n_estimators': 16}, {'bootstrap': False, 'criterion': 'gini', 'max_depth': 4, 'max_features': 'sqrt', 'n_estimators': 32}, {'bootstrap': False, 'criterion': 'gini', 'max_depth': 4, 'max_features': 'log2', 'n_estimators': 4}, {'bootstrap': False, 'criterion': 'gini', 'max_depth': 4, 'max_features': 'log2', 'n_estimators': 8}, {'bootstrap': False, 'criterion': 'gini', 'max_depth': 4, 'max_features': 'log2', 'n_estimators': 16}, {'bootstrap': False, 'criterion': 'gini', 'max_depth': 4, 'max_features': 'log2', 'n_estimators': 32}, {'bootstrap': False, 'criterion': 'gini', 'max_depth': 4, 'max_features': None, 'n_estimators': 4}, {'bootstrap': False, 'criterion': 'gini', 'max_depth': 4, 'max_features': None, 'n_estimators': 8}, {'bootstrap': False, 'criterion': 'gini', 'max_depth': 4, 'max_features': None, 'n_estimators': 16}, {'bootstrap': False, 'criterion': 'gini', 'max_depth': 4, 'max_features': None, 'n_estimators': 32}, {'bootstrap': False, 'criterion': 'gini', 'max_depth': 8, 'max_features': 'sqrt', 'n_estimators': 4}, {'bootstrap': False, 'criterion': 'gini', 'max_depth': 8, 'max_features': 'sqrt', 'n_estimators': 8}, {'bootstrap': False, 'criterion': 'gini', 'max_depth': 8, 'max_features': 'sqrt', 'n_estimators': 16}, {'bootstrap': False, 'criterion': 'gini', 'max_depth': 8, 'max_features': 'sqrt', 'n_estimators': 32}, {'bootstrap': False, 'criterion': 'gini', 'max_depth': 8, 'max_features': 'log2', 'n_estimators': 4}, {'bootstrap': False, 'criterion': 'gini', 'max_depth': 8, 'max_features': 'log2', 'n_estimators': 8}, {'bootstrap': False, 'criterion': 'gini', 'max_depth': 8, 'max_features': 'log2', 'n_estimators': 16}, {'bootstrap': False, 'criterion': 'gini', 'max_depth': 8, 'max_features': 'log2', 'n_estimators': 32}, {'bootstrap': False, 'criterion': 'gini', 'max_depth': 8, 'max_features': None, 'n_estimators': 4}, {'bootstrap': False, 'criterion': 'gini', 'max_depth': 8, 'max_features': None, 'n_estimators': 8}, {'bootstrap': False, 'criterion': 'gini', 'max_depth': 8, 'max_features': None, 'n_estimators': 16}, {'bootstrap': False, 'criterion': 'gini', 'max_depth': 8, 'max_features': None, 'n_estimators': 32}, {'bootstrap': False, 'criterion': 'gini', 'max_depth': 16, 'max_features': 'sqrt', 'n_estimators': 4}, {'bootstrap': False, 'criterion': 'gini', 'max_depth': 16, 'max_features': 'sqrt', 'n_estimators': 8}, {'bootstrap': False, 'criterion': 'gini', 'max_depth': 16, 'max_features': 'sqrt', 'n_estimators': 16}, {'bootstrap': False, 'criterion': 'gini', 'max_depth': 16, 'max_features': 'sqrt', 'n_estimators': 32}, {'bootstrap': False, 'criterion': 'gini', 'max_depth': 16, 'max_features': 'log2', 'n_estimators': 4}, {'bootstrap': False, 'criterion': 'gini', 'max_depth': 16, 'max_features': 'log2', 'n_estimators': 8}, {'bootstrap': False, 'criterion': 'gini', 'max_depth': 16, 'max_features': 'log2', 'n_estimators': 16}, {'bootstrap': False, 'criterion': 'gini', 'max_depth': 16, 'max_features': 'log2', 'n_estimators': 32}, {'bootstrap': False, 'criterion': 'gini', 'max_depth': 16, 'max_features': None, 'n_estimators': 4}, {'bootstrap': False, 'criterion': 'gini', 'max_depth': 16, 'max_features': None, 'n_estimators': 8}, {'bootstrap': False, 'criterion': 'gini', 'max_depth': 16, 'max_features': None, 'n_estimators': 16}, {'bootstrap': False, 'criterion': 'gini', 'max_depth': 16, 'max_features': None, 'n_estimators': 32}, {'bootstrap': False, 'criterion': 'gini', 'max_depth': 32, 'max_features': 'sqrt', 'n_estimators': 4}, {'bootstrap': False, 'criterion': 'gini', 'max_depth': 32, 'max_features': 'sqrt', 'n_estimators': 8}, {'bootstrap': False, 'criterion': 'gini', 'max_depth': 32, 'max_features': 'sqrt', 'n_estimators': 16}, {'bootstrap': False, 'criterion': 'gini', 'max_depth': 32, 'max_features': 'sqrt', 'n_estimators': 32}, {'bootstrap': False, 'criterion': 'gini', 'max_depth': 32, 'max_features': 'log2', 'n_estimators': 4}, {'bootstrap': False, 'criterion': 'gini', 'max_depth': 32, 'max_features': 'log2', 'n_estimators': 8}, {'bootstrap': False, 'criterion': 'gini', 'max_depth': 32, 'max_features': 'log2', 'n_estimators': 16}, {'bootstrap': False, 'criterion': 'gini', 'max_depth': 32, 'max_features': 'log2', 'n_estimators': 32}, {'bootstrap': False, 'criterion': 'gini', 'max_depth': 32, 'max_features': None, 'n_estimators': 4}, {'bootstrap': False, 'criterion': 'gini', 'max_depth': 32, 'max_features': None, 'n_estimators': 8}, {'bootstrap': False, 'criterion': 'gini', 'max_depth': 32, 'max_features': None, 'n_estimators': 16}, {'bootstrap': False, 'criterion': 'gini', 'max_depth': 32, 'max_features': None, 'n_estimators': 32}, {'bootstrap': False, 'criterion': 'entropy', 'max_depth': 4, 'max_features': 'sqrt', 'n_estimators': 4}, {'bootstrap': False, 'criterion': 'entropy', 'max_depth': 4, 'max_features': 'sqrt', 'n_estimators': 8}, {'bootstrap': False, 'criterion': 'entropy', 'max_depth': 4, 'max_features': 'sqrt', 'n_estimators': 16}, {'bootstrap': False, 'criterion': 'entropy', 'max_depth': 4, 'max_features': 'sqrt', 'n_estimators': 32}, {'bootstrap': False, 'criterion': 'entropy', 'max_depth': 4, 'max_features': 'log2', 'n_estimators': 4}, {'bootstrap': False, 'criterion': 'entropy', 'max_depth': 4, 'max_features': 'log2', 'n_estimators': 8}, {'bootstrap': False, 'criterion': 'entropy', 'max_depth': 4, 'max_features': 'log2', 'n_estimators': 16}, {'bootstrap': False, 'criterion': 'entropy', 'max_depth': 4, 'max_features': 'log2', 'n_estimators': 32}, {'bootstrap': False, 'criterion': 'entropy', 'max_depth': 4, 'max_features': None, 'n_estimators': 4}, {'bootstrap': False, 'criterion': 'entropy', 'max_depth': 4, 'max_features': None, 'n_estimators': 8}, {'bootstrap': False, 'criterion': 'entropy', 'max_depth': 4, 'max_features': None, 'n_estimators': 16}, {'bootstrap': False, 'criterion': 'entropy', 'max_depth': 4, 'max_features': None, 'n_estimators': 32}, {'bootstrap': False, 'criterion': 'entropy', 'max_depth': 8, 'max_features': 'sqrt', 'n_estimators': 4}, {'bootstrap': False, 'criterion': 'entropy', 'max_depth': 8, 'max_features': 'sqrt', 'n_estimators': 8}, {'bootstrap': False, 'criterion': 'entropy', 'max_depth': 8, 'max_features': 'sqrt', 'n_estimators': 16}, {'bootstrap': False, 'criterion': 'entropy', 'max_depth': 8, 'max_features': 'sqrt', 'n_estimators': 32}, {'bootstrap': False, 'criterion': 'entropy', 'max_depth': 8, 'max_features': 'log2', 'n_estimators': 4}, {'bootstrap': False, 'criterion': 'entropy', 'max_depth': 8, 'max_features': 'log2', 'n_estimators': 8}, {'bootstrap': False, 'criterion': 'entropy', 'max_depth': 8, 'max_features': 'log2', 'n_estimators': 16}, {'bootstrap': False, 'criterion': 'entropy', 'max_depth': 8, 'max_features': 'log2', 'n_estimators': 32}, {'bootstrap': False, 'criterion': 'entropy', 'max_depth': 8, 'max_features': None, 'n_estimators': 4}, {'bootstrap': False, 'criterion': 'entropy', 'max_depth': 8, 'max_features': None, 'n_estimators': 8}, {'bootstrap': False, 'criterion': 'entropy', 'max_depth': 8, 'max_features': None, 'n_estimators': 16}, {'bootstrap': False, 'criterion': 'entropy', 'max_depth': 8, 'max_features': None, 'n_estimators': 32}, {'bootstrap': False, 'criterion': 'entropy', 'max_depth': 16, 'max_features': 'sqrt', 'n_estimators': 4}, {'bootstrap': False, 'criterion': 'entropy', 'max_depth': 16, 'max_features': 'sqrt', 'n_estimators': 8}, {'bootstrap': False, 'criterion': 'entropy', 'max_depth': 16, 'max_features': 'sqrt', 'n_estimators': 16}, {'bootstrap': False, 'criterion': 'entropy', 'max_depth': 16, 'max_features': 'sqrt', 'n_estimators': 32}, {'bootstrap': False, 'criterion': 'entropy', 'max_depth': 16, 'max_features': 'log2', 'n_estimators': 4}, {'bootstrap': False, 'criterion': 'entropy', 'max_depth': 16, 'max_features': 'log2', 'n_estimators': 8}, {'bootstrap': False, 'criterion': 'entropy', 'max_depth': 16, 'max_features': 'log2', 'n_estimators': 16}, {'bootstrap': False, 'criterion': 'entropy', 'max_depth': 16, 'max_features': 'log2', 'n_estimators': 32}, {'bootstrap': False, 'criterion': 'entropy', 'max_depth': 16, 'max_features': None, 'n_estimators': 4}, {'bootstrap': False, 'criterion': 'entropy', 'max_depth': 16, 'max_features': None, 'n_estimators': 8}, {'bootstrap': False, 'criterion': 'entropy', 'max_depth': 16, 'max_features': None, 'n_estimators': 16}, {'bootstrap': False, 'criterion': 'entropy', 'max_depth': 16, 'max_features': None, 'n_estimators': 32}, {'bootstrap': False, 'criterion': 'entropy', 'max_depth': 32, 'max_features': 'sqrt', 'n_estimators': 4}, {'bootstrap': False, 'criterion': 'entropy', 'max_depth': 32, 'max_features': 'sqrt', 'n_estimators': 8}, {'bootstrap': False, 'criterion': 'entropy', 'max_depth': 32, 'max_features': 'sqrt', 'n_estimators': 16}, {'bootstrap': False, 'criterion': 'entropy', 'max_depth': 32, 'max_features': 'sqrt', 'n_estimators': 32}, {'bootstrap': False, 'criterion': 'entropy', 'max_depth': 32, 'max_features': 'log2', 'n_estimators': 4}, {'bootstrap': False, 'criterion': 'entropy', 'max_depth': 32, 'max_features': 'log2', 'n_estimators': 8}, {'bootstrap': False, 'criterion': 'entropy', 'max_depth': 32, 'max_features': 'log2', 'n_estimators': 16}, {'bootstrap': False, 'criterion': 'entropy', 'max_depth': 32, 'max_features': 'log2', 'n_estimators': 32}, {'bootstrap': False, 'criterion': 'entropy', 'max_depth': 32, 'max_features': None, 'n_estimators': 4}, {'bootstrap': False, 'criterion': 'entropy', 'max_depth': 32, 'max_features': None, 'n_estimators': 8}, {'bootstrap': False, 'criterion': 'entropy', 'max_depth': 32, 'max_features': None, 'n_estimators': 16}, {'bootstrap': False, 'criterion': 'entropy', 'max_depth': 32, 'max_features': None, 'n_estimators': 32}]\n"
          ]
        }
      ]
    },
    {
      "cell_type": "code",
      "source": [
        "import numpy as np\n",
        "\n",
        "x = gscv.cv_results_\n",
        "num_models = len(x['params'])\n",
        "counter = 0\n",
        "\n",
        "uses_bootstrap = []\n",
        "number_estimators = []\n",
        "max_depth = []\n",
        "\n",
        "for i in range(num_models):\n",
        "  # create list for bootstrap\n",
        "  if(x['params'][i]['bootstrap']):\n",
        "    uses_bootstrap.append([0,x['mean_test_score'][i]])\n",
        "  else:\n",
        "    uses_bootstrap.append([1,x['mean_test_score'][i]])\n",
        "\n",
        "  # create list for number_estimators\n",
        "  number_estimators.append([x['params'][i]['n_estimators'], x['mean_test_score'][i]])\n",
        "\n",
        "  # create list for max_depth\n",
        "  max_depth.append([x['params'][i]['max_depth'], x['mean_test_score'][i]])\n",
        "  \n",
        "  "
      ],
      "metadata": {
        "id": "71N59MHmQrHd"
      },
      "execution_count": 17,
      "outputs": []
    },
    {
      "cell_type": "code",
      "source": [
        "import matplotlib.pyplot as plt\n",
        "data_lists = [uses_bootstrap, number_estimators, max_depth]\n",
        "for data_list in data_lists:\n",
        "  plt.scatter(x=np.array(data_list).T[0], y=np.array(data_list).T[1])\n",
        "  plt.show()"
      ],
      "metadata": {
        "colab": {
          "base_uri": "https://localhost:8080/",
          "height": 761
        },
        "id": "5S9ql6aUK7fo",
        "outputId": "93c03935-ac84-4403-8e80-c758893bb107"
      },
      "execution_count": 18,
      "outputs": [
        {
          "output_type": "display_data",
          "data": {
            "text/plain": [
              "<Figure size 432x288 with 1 Axes>"
            ],
            "image/png": "[encoded data removed]"
          },
          "metadata": {
            "needs_background": "light"
          }
        },
        {
          "output_type": "display_data",
          "data": {
            "text/plain": [
              "<Figure size 432x288 with 1 Axes>"
            ],
            "image/png": "[encoded data removed]"
          },
          "metadata": {
            "needs_background": "light"
          }
        },
        {
          "output_type": "display_data",
          "data": {
            "text/plain": [
              "<Figure size 432x288 with 1 Axes>"
            ],
            "image/png": "[encoded data removed]"
          },
          "metadata": {
            "needs_background": "light"
          }
        }
      ]
    }
  ]
}