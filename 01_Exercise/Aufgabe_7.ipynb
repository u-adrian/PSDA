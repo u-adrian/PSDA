{
  "nbformat": 4,
  "nbformat_minor": 0,
  "metadata": {
    "colab": {
      "name": "Aufgabe_7.ipynb",
      "provenance": [],
      "authorship_tag": "ABX9TyMIBufIrONUR7FqnysFRSe+",
      "include_colab_link": true
    },
    "kernelspec": {
      "name": "python3",
      "display_name": "Python 3"
    },
    "language_info": {
      "name": "python"
    }
  },
  "cells": [
    {
      "cell_type": "markdown",
      "metadata": {
        "id": "view-in-github",
        "colab_type": "text"
      },
      "source": [
        "<a href=\"https://colab.research.google.com/github/u-adrian/PSDA/blob/main/01_Exercise/Aufgabe_7.ipynb\" target=\"_parent\"><img src=\"https://colab.research.google.com/assets/colab-badge.svg\" alt=\"Open In Colab\"/></a>"
      ]
    },
    {
      "cell_type": "markdown",
      "source": [
        "Model: Random Forest\n",
        "Hyperparam:\n",
        "*   Tiefe der Bäume: [1, 2, 4, 8, 16, 32]\n",
        "*   Anzahl der Bäume: [1, 2, 4, 8, 16, 32]\n",
        "*   Bagging: [Yes,No]\n",
        "*   Random split selection: [Yes, No]\n",
        "*   Criterion: [gini, entropy]\n"
      ],
      "metadata": {
        "id": "pTZ8OTk_IToT"
      }
    },
    {
      "cell_type": "code",
      "source": [
        "random_state = 1"
      ],
      "metadata": {
        "id": "sNmmAWUCqM3F"
      },
      "execution_count": 1,
      "outputs": []
    },
    {
      "cell_type": "code",
      "execution_count": 2,
      "metadata": {
        "id": "9Q1UaurkWF6F",
        "colab": {
          "base_uri": "https://localhost:8080/"
        },
        "outputId": "b92d5b23-0e00-4d85-e2d1-c0e7de953cad"
      },
      "outputs": [
        {
          "output_type": "execute_result",
          "data": {
            "text/plain": [
              "GridSearchCV(cv=StratifiedKFold(n_splits=5, random_state=1, shuffle=True),\n",
              "             estimator=RandomForestClassifier(random_state=1), n_jobs=-1,\n",
              "             param_grid={'bootstrap': [True, False],\n",
              "                         'criterion': ['gini', 'entropy'],\n",
              "                         'max_depth': [1, 2, 4, 8, 16, 32],\n",
              "                         'max_features': ['sqrt', 'log2'],\n",
              "                         'n_estimators': [1, 2, 4, 8, 16, 32]})"
            ]
          },
          "metadata": {},
          "execution_count": 2
        }
      ],
      "source": [
        "from sklearn.ensemble import RandomForestClassifier\n",
        "from sklearn.datasets import load_iris, load_diabetes\n",
        "\n",
        "from sklearn.model_selection import GridSearchCV\n",
        "from sklearn.model_selection import StratifiedKFold\n",
        "\n",
        "dataset = load_iris()\n",
        "#dataset = load_diabetes()\n",
        "\n",
        "X = dataset.data\n",
        "y = dataset.target\n",
        "\n",
        "stratKFold = StratifiedKFold(n_splits=5,shuffle=True,random_state=random_state)\n",
        "\n",
        "forest = RandomForestClassifier(random_state=random_state)\n",
        "\n",
        "parameters = {'max_depth':[1,2,4,8,16,32], 'n_estimators':[1,2,4,8,16,32], 'bootstrap':[True,False], 'max_features': ['sqrt','log2'], 'criterion':['gini','entropy']}\n",
        "\n",
        "gscv = GridSearchCV(estimator=forest, param_grid=parameters, n_jobs=-1, cv=stratKFold)\n",
        "gscv.fit(X, y)"
      ]
    },
    {
      "cell_type": "code",
      "source": [
        "print(gscv.best_estimator_)"
      ],
      "metadata": {
        "id": "4dj85LzSwUl3",
        "outputId": "536ae42c-2fe4-411f-c3ca-a529ce1e71c0",
        "colab": {
          "base_uri": "https://localhost:8080/"
        }
      },
      "execution_count": 3,
      "outputs": [
        {
          "output_type": "execute_result",
          "data": {
            "text/plain": [
              "RandomForestClassifier(criterion='entropy', max_depth=8, max_features='sqrt',\n",
              "                       n_estimators=8, random_state=1)"
            ]
          },
          "metadata": {},
          "execution_count": 3
        }
      ]
    },
    {
      "cell_type": "code",
      "source": [
        "from pandas.core.groupby.groupby import GroupBy\n",
        "import pandas as pd\n",
        "import numpy as np\n",
        "import matplotlib.pyplot as plt\n",
        "\n",
        "params = pd.DataFrame(gscv.cv_results_['params'])\n",
        "scores = pd.DataFrame(gscv.cv_results_['mean_test_score']).rename(columns={0: 'score'})\n",
        "dataframe = params.join(scores)\n",
        "for key in parameters.keys():\n",
        "  print(key)\n",
        "  groups = dataframe.groupby([key])\n",
        "  param_list=[]\n",
        "  score_list=[]\n",
        "  #extract data\n",
        "  for param in groups.groups.keys():\n",
        "    df=dataframe.iloc[groups.groups[param]]\n",
        "\n",
        "    scores=np.asarray(df['score'])\n",
        "    param_list.append(param)\n",
        "    score_list.append(scores)\n",
        "\n",
        "  ###plot\n",
        "  plt.boxplot(score_list,labels=param_list)\n",
        "  plt.show()"
      ],
      "metadata": {
        "colab": {
          "base_uri": "https://localhost:8080/",
          "height": 1000
        },
        "id": "-AkuwPT9bbLa",
        "outputId": "fa32f8b1-c632-4235-bb80-0d411c1a9d0c"
      },
      "execution_count": 4,
      "outputs": [
        {
          "output_type": "stream",
          "name": "stdout",
          "text": [
            "max_depth\n"
          ]
        },
        {
          "output_type": "display_data",
          "data": {
            "text/plain": [
              "<Figure size 432x288 with 1 Axes>"
            ],
            "image/png": "[encoded data removed]"
          },
          "metadata": {
            "needs_background": "light"
          }
        },
        {
          "output_type": "stream",
          "name": "stdout",
          "text": [
            "n_estimators\n"
          ]
        },
        {
          "output_type": "display_data",
          "data": {
            "text/plain": [
              "<Figure size 432x288 with 1 Axes>"
            ],
            "image/png": "[encoded data removed]"
          },
          "metadata": {
            "needs_background": "light"
          }
        },
        {
          "output_type": "stream",
          "name": "stdout",
          "text": [
            "bootstrap\n"
          ]
        },
        {
          "output_type": "display_data",
          "data": {
            "text/plain": [
              "<Figure size 432x288 with 1 Axes>"
            ],
            "image/png": "[encoded data removed]"
          },
          "metadata": {
            "needs_background": "light"
          }
        },
        {
          "output_type": "stream",
          "name": "stdout",
          "text": [
            "max_features\n"
          ]
        },
        {
          "output_type": "display_data",
          "data": {
            "text/plain": [
              "<Figure size 432x288 with 1 Axes>"
            ],
            "image/png": "[encoded data removed]"
          },
          "metadata": {
            "needs_background": "light"
          }
        },
        {
          "output_type": "stream",
          "name": "stdout",
          "text": [
            "criterion\n"
          ]
        },
        {
          "output_type": "display_data",
          "data": {
            "text/plain": [
              "<Figure size 432x288 with 1 Axes>"
            ],
            "image/png": "[encoded data removed]"
          },
          "metadata": {
            "needs_background": "light"
          }
        }
      ]
    }
  ]
}
